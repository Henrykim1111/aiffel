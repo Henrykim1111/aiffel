{
 "cells": [
  {
   "cell_type": "markdown",
   "id": "0",
   "metadata": {},
   "source": [
    "# 일반 대화 - [한국어 멀티세션 대화](https://www.aihub.or.kr/aihubdata/data/view.do?currMenu=115&topMenu=100&aihubDataSe=data&dataSetSn=71630)"
   ]
  },
  {
   "cell_type": "markdown",
   "id": "1",
   "metadata": {},
   "source": [
    "## 데이터 로드"
   ]
  },
  {
   "cell_type": "code",
   "execution_count": null,
   "id": "2",
   "metadata": {},
   "outputs": [],
   "source": [
    "import os\n",
    "import json\n",
    "import pandas as pd\n",
    "from tqdm import tqdm\n",
    "\n",
    "def txt_file_to_json(txt_file_path):\n",
    "    with open(txt_file_path) as txt_file:\n",
    "        return json.load(txt_file)\n",
    "\n",
    "def extract_session_data(json_data):\n",
    "    session_data = []\n",
    "    topic_type = json_data[\"topicInfo\"][\"topicType\"].split(\">\")[0]\n",
    "    topic_type = topic_type.replace(\" \", \"\")\n",
    "    \n",
    "    for session in json_data[\"sessionInfo\"]:\n",
    "        conversation = [dialog[\"utterance\"] for dialog in session[\"dialog\"]]\n",
    "        \n",
    "        session_data.append({\n",
    "            \"topic_type\": topic_type,\n",
    "            \"conversation\": \"\\n\".join(conversation),\n",
    "        })\n",
    "    \n",
    "    return session_data\n",
    "\n",
    "def load_session_data(dir_path):\n",
    "    session_data = []\n",
    "    \n",
    "    for txt_file_name in tqdm(os.listdir(dir_path)):\n",
    "        json_data = txt_file_to_json(f\"{dir_path}/{txt_file_name}\")\n",
    "        session_data += extract_session_data(json_data)\n",
    "    \n",
    "    return session_data\n",
    "\n",
    "def load_normal_conversations_df():\n",
    "    topic_types = []\n",
    "    conversations = []\n",
    "    \n",
    "    for dir_path in [\"data/TS_session2\", \"data/TS_session3\", \"data/TS_session4\"]:\n",
    "        session_data = load_session_data(dir_path)\n",
    "        \n",
    "        for session in session_data:\n",
    "            topic_types.append(session[\"topic_type\"])\n",
    "            conversations.append(session[\"conversation\"])\n",
    "    \n",
    "    return pd.DataFrame({\n",
    "        \"topic_type\": topic_types,\n",
    "        \"conversation\": conversations,\n",
    "    })"
   ]
  },
  {
   "cell_type": "code",
   "execution_count": null,
   "id": "3",
   "metadata": {},
   "outputs": [],
   "source": [
    "normal_conversations_df = load_normal_conversations_df()"
   ]
  },
  {
   "cell_type": "markdown",
   "id": "4",
   "metadata": {},
   "source": [
    "## 데이터 수 확인"
   ]
  },
  {
   "cell_type": "code",
   "execution_count": null,
   "id": "5",
   "metadata": {},
   "outputs": [],
   "source": [
    "# 전체 데이터 수\n",
    "normal_conversations_df.info()"
   ]
  },
  {
   "cell_type": "code",
   "execution_count": null,
   "id": "6",
   "metadata": {},
   "outputs": [],
   "source": [
    "# 주제별 데이터\n",
    "normal_conversations_df[\"topic_type\"].value_counts()"
   ]
  },
  {
   "cell_type": "code",
   "execution_count": null,
   "id": "7",
   "metadata": {},
   "outputs": [],
   "source": [
    "# random data\n",
    "normal_conversations_df.sample(20)"
   ]
  },
  {
   "cell_type": "markdown",
   "id": "8",
   "metadata": {},
   "source": [
    "## 전처리"
   ]
  },
  {
   "cell_type": "markdown",
   "id": "9",
   "metadata": {},
   "source": [
    "### 인사말 제거"
   ]
  },
  {
   "cell_type": "code",
   "execution_count": null,
   "id": "10",
   "metadata": {},
   "outputs": [],
   "source": [
    "processed_df = normal_conversations_df.copy()\n",
    "\n",
    "def remove_greeting(conversation):\n",
    "    return \"\\n\".join(conversation.split(\"\\n\")[2:])\n",
    "\n",
    "processed_df[\"conversation\"] = processed_df[\"conversation\"].apply(remove_greeting)\n",
    "\n",
    "processed_df"
   ]
  },
  {
   "cell_type": "markdown",
   "id": "11",
   "metadata": {},
   "source": [
    "### 10문장 미만 데이터 제거"
   ]
  },
  {
   "cell_type": "code",
   "execution_count": null,
   "id": "12",
   "metadata": {},
   "outputs": [],
   "source": [
    "processed_df[\"conversation_len\"] =\\\n",
    "    processed_df[\"conversation\"].apply(lambda x: len(x.split(\"\\n\")))\n",
    "\n",
    "processed_df = processed_df[processed_df[\"conversation_len\"] >= 10]\n",
    "\n",
    "processed_df"
   ]
  },
  {
   "cell_type": "markdown",
   "id": "13",
   "metadata": {},
   "source": [
    "### 10문장만 데이터 뽑기"
   ]
  },
  {
   "cell_type": "code",
   "execution_count": null,
   "id": "14",
   "metadata": {},
   "outputs": [],
   "source": [
    "def remove_out_of_n(conversation, n):\n",
    "    return \"\\n\".join(conversation.split(\"\\n\")[:n])\n",
    "\n",
    "processed_df[\"conversation\"] = processed_df[\"conversation\"].apply(lambda x: remove_out_of_n(x, n=10))\n",
    "processed_df"
   ]
  },
  {
   "cell_type": "markdown",
   "id": "15",
   "metadata": {},
   "source": [
    "### 채팅에서만 사용되는 표현 삭제"
   ]
  },
  {
   "cell_type": "code",
   "execution_count": null,
   "id": "16",
   "metadata": {},
   "outputs": [],
   "source": [
    "import re\n",
    "\n",
    "# ~ ! . 를 제외한 특수문자 제거\n",
    "special_char_pattern = re.compile(r'[#\\$%&\\'()*+,\\-/:;<=>~@\\[\\]\\\\^_`{|}]')\n",
    "\n",
    "def remove_chat_expression(sentence):\n",
    "    sentence = re.sub(\"([ㄱ-ㅎㅏ-ㅣ]+)\", \"\", sentence)\n",
    "    sentence = special_char_pattern.sub(\"\", sentence)\n",
    "    return sentence\n",
    "\n",
    "processed_df[\"conversation\"] = processed_df[\"conversation\"].apply(remove_chat_expression)"
   ]
  },
  {
   "cell_type": "markdown",
   "id": "17",
   "metadata": {},
   "source": [
    "### 주제 별로 1,000개 데이터 뽑기"
   ]
  },
  {
   "cell_type": "code",
   "execution_count": null,
   "id": "18",
   "metadata": {},
   "outputs": [],
   "source": [
    "new_df = pd.DataFrame({\n",
    "    \"topic_type\": [],\n",
    "    \"conversation\": [],\n",
    "    \"conversation_len\": [],\n",
    "})\n",
    "\n",
    "for topic_type, data_num in [\n",
    "    (\"개인및관계\", 77),\n",
    "    (\"여가와오락\", 77),\n",
    "    (\"미용과건강\", 77),\n",
    "    (\"시사/사회\", 77),\n",
    "    (\"일과직업\", 77),\n",
    "    (\"교육\", 77),\n",
    "    (\"예술문화생활\", 77),\n",
    "    (\"상거래전반\", 77),\n",
    "    (\"식음료\", 77),\n",
    "    (\"기후\", 77),\n",
    "    (\"교통\", 77),\n",
    "    (\"주거와생활\", 77),\n",
    "    (\"패션\", 76),\n",
    "]:\n",
    "    topic_df = processed_df[processed_df[\"topic_type\"] == topic_type]\n",
    "    topic_df = topic_df.iloc[:data_num, :]\n",
    "    new_df = pd.concat([new_df, topic_df], axis=0, ignore_index=True)\n",
    "    \n",
    "new_df"
   ]
  },
  {
   "cell_type": "markdown",
   "id": "19",
   "metadata": {},
   "source": [
    "## 데이터 저장"
   ]
  },
  {
   "cell_type": "code",
   "execution_count": null,
   "id": "20",
   "metadata": {},
   "outputs": [],
   "source": [
    "data_df = new_df.copy()\n",
    "data_df = data_df.drop(columns=[\"conversation_len\"])\n",
    "data_df.to_csv(\"data/normal_conversation_aihub.csv\", index=False)"
   ]
  },
  {
   "cell_type": "markdown",
   "id": "21",
   "metadata": {},
   "source": [
    "### train 데이터와 합치기"
   ]
  },
  {
   "cell_type": "code",
   "execution_count": null,
   "id": "22",
   "metadata": {},
   "outputs": [],
   "source": [
    "train_df = pd.read_csv(\"data/train.csv\")\n",
    "train_df"
   ]
  },
  {
   "cell_type": "code",
   "execution_count": null,
   "id": "23",
   "metadata": {},
   "outputs": [],
   "source": [
    "normal_conversation_df = pd.read_csv(\"data/normal_conversation_aihub.csv\")\n",
    "normal_conversation_df"
   ]
  },
  {
   "cell_type": "code",
   "execution_count": null,
   "id": "24",
   "metadata": {},
   "outputs": [],
   "source": [
    "curr_idx = train_df[\"idx\"].max() + 1\n",
    "\n",
    "for idx, data in normal_conversation_df.iterrows():\n",
    "    train_df = train_df.append({\n",
    "        \"idx\": curr_idx,\n",
    "        \"class\": \"일반 대화\",\n",
    "        \"conversation\": data[\"conversation\"],\n",
    "    }, ignore_index=True)\n",
    "\n",
    "    curr_idx += 1\n",
    "    \n",
    "train_df"
   ]
  },
  {
   "cell_type": "code",
   "execution_count": null,
   "id": "25",
   "metadata": {},
   "outputs": [],
   "source": [
    "train_df.to_csv(\"data/train_with_normal_aihub.csv\", index=False)"
   ]
  },
  {
   "cell_type": "code",
   "execution_count": null,
   "id": "26",
   "metadata": {},
   "outputs": [],
   "source": [
    "train_with_normal_df = pd.read_csv(\"data/train_with_normal_aihub.csv\")\n",
    "train_with_normal_df"
   ]
  },
  {
   "cell_type": "code",
   "execution_count": null,
   "id": "27",
   "metadata": {},
   "outputs": [],
   "source": [
    "train_with_normal_df[\"class\"].value_counts()"
   ]
  },
  {
   "cell_type": "code",
   "execution_count": null,
   "id": "28",
   "metadata": {},
   "outputs": [],
   "source": []
  }
 ],
 "metadata": {
  "kernelspec": {
   "display_name": "Python 3 (ipykernel)",
   "language": "python",
   "name": "python3"
  },
  "language_info": {
   "codemirror_mode": {
    "name": "ipython",
    "version": 3
   },
   "file_extension": ".py",
   "mimetype": "text/x-python",
   "name": "python",
   "nbconvert_exporter": "python",
   "pygments_lexer": "ipython3",
   "version": "3.9.7"
  }
 },
 "nbformat": 4,
 "nbformat_minor": 5
}
