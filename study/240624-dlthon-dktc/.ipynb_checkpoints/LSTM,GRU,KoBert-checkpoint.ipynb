{
 "cells": [
  {
   "cell_type": "code",
   "execution_count": null,
   "id": "0",
   "metadata": {},
   "outputs": [],
   "source": [
    "! pip install tensorflow_datasets"
   ]
  },
  {
   "cell_type": "code",
   "execution_count": null,
   "id": "1",
   "metadata": {},
   "outputs": [],
   "source": [
    "import os\n",
    "import pandas as pd\n",
    "from konlpy.tag import Okt\n",
    "import tensorflow as tf\n",
    "import tensorflow_datasets as tfds\n",
    "from tensorflow.keras.preprocessing.text import Tokenizer \n",
    "from tensorflow.keras.preprocessing.sequence import pad_sequences\n",
    "from konlpy.tag import Mecab\n",
    "import numpy as np\n",
    "from collections import Counter\n",
    "import re"
   ]
  },
  {
   "cell_type": "markdown",
   "id": "2",
   "metadata": {},
   "source": [
    "## 전처리된 데이터 로드"
   ]
  },
  {
   "cell_type": "code",
   "execution_count": null,
   "id": "3",
   "metadata": {},
   "outputs": [],
   "source": [
    "# 형태소 분석하는 함수 \n",
    "def morph_analyze(text):\n",
    "    \n",
    "    # Okt 형태소 분석기 객체 생성\n",
    "    okt = Okt()\n",
    "    # 텍스트에서 형태소 분석\n",
    "    morphs = okt.morphs(text)\n",
    "    return morphs"
   ]
  },
  {
   "cell_type": "code",
   "execution_count": null,
   "id": "4",
   "metadata": {},
   "outputs": [],
   "source": [
    "# 각 문장의 불용어, 특수 문자 등을 제거하는 function: {return: 정리된 문장}\n",
    "def sentence_analysis(sentence):\n",
    "    #불용어\n",
    "    stopwords = ['은','는','이','가','을','를','에','이가','이는']\n",
    "    sentence = re.sub(r'@[^@]+@', 'pronoun', sentence)\n",
    "    sentence = re.sub(r'name1', 'pronoun', sentence)\n",
    "    sentence = re.sub(r'company-name' , 'pronoun', sentence)\n",
    "    sentence = re.sub(r'\\n', \" \", sentence)\n",
    "    \n",
    "    # 특수문자 제거 (문장내의 특수 문자제거)\n",
    "    sentence = re.sub(r\"[^ㄱ-ㅎㅏ-ㅣ가-힣0-9a-zA-Z?.!\\s]\", \"\", sentence)\n",
    "    \n",
    "    # 영어라면 소문자로 변환\n",
    "    sentence = sentence.lower() # 텍스트 소문자화\n",
    "    #형태소 분석\n",
    "    sentence = morph_analyze(sentence)\n",
    "    \n",
    "    # 불용어 제거 \n",
    "    sen = []\n",
    "    for word in sentence:\n",
    "        if word in stopwords:\n",
    "            continue\n",
    "        sen.append(word)\n",
    "       \n",
    "    sentence = ' '.join(sen)\n",
    "\n",
    "    return sentence\n"
   ]
  },
  {
   "cell_type": "code",
   "execution_count": null,
   "id": "5",
   "metadata": {},
   "outputs": [],
   "source": [
    "# 결측치 제거, 중복 제거, 불용어 제거한 데이터를 제공하는 fucntion\n",
    "def load_data(path):\n",
    "    train_data_path = path\n",
    "    data = pd.read_csv(train_data_path)\n",
    "    \n",
    "    # # 결측치 제거\n",
    "    # null_check = data.isnull().sum()\n",
    "    # check = False\n",
    "    # for i in range(len(null_check)):\n",
    "    #     if null_check[i] > 0:\n",
    "    #         check = True\n",
    "            \n",
    "    # if check == True:\n",
    "    #     data = data.dropna()\n",
    "    \n",
    "    # 중복 제거\n",
    "    data.drop_duplicates(subset = ['conversation'], inplace=True)\n",
    "    \n",
    "    \n",
    "    data['conversation'] = data['conversation'].map(lambda x: sentence_analysis(x))\n",
    "\n",
    "    return data"
   ]
  },
  {
   "cell_type": "code",
   "execution_count": null,
   "id": "6",
   "metadata": {},
   "outputs": [],
   "source": [
    "# 결측치 제거, 중복 제거, 불용어 제거한 데이터를 제공하는 fucntion\n",
    "def load_test(data):\n",
    "        \n",
    "#     # 결측치 제거\n",
    "#     null_check = data.isnull().sum()\n",
    "#     check = False\n",
    "#     for i in range(len(null_check)):\n",
    "#         if null_check[i] > 0:\n",
    "#             check = True\n",
    "            \n",
    "#     if check == True:\n",
    "#         data = data.dropna()\n",
    "    \n",
    "#     # 중복 제거\n",
    "#     data.drop_duplicates(subset = ['conversation'], inplace=True)\n",
    "    \n",
    "    \n",
    "    data['conversation'] = data['conversation'].map(lambda x: sentence_analysis(x))\n",
    "\n",
    "    return data"
   ]
  },
  {
   "cell_type": "code",
   "execution_count": null,
   "id": "7",
   "metadata": {},
   "outputs": [],
   "source": [
    "train_data_path =\"data/train_with_normal_nikl.csv\"\n",
    "train_data = load_data(train_data_path)"
   ]
  },
  {
   "cell_type": "code",
   "execution_count": null,
   "id": "8",
   "metadata": {},
   "outputs": [],
   "source": [
    "train_data[:5]"
   ]
  },
  {
   "cell_type": "code",
   "execution_count": null,
   "id": "9",
   "metadata": {},
   "outputs": [],
   "source": [
    "train_data[train_data['idx'] == 806]"
   ]
  },
  {
   "cell_type": "code",
   "execution_count": null,
   "id": "10",
   "metadata": {},
   "outputs": [],
   "source": [
    "def get_encoded_sentence(sentence, word_to_index):\n",
    "    return [word_to_index['<BOS>']]+[word_to_index[word] if word in word_to_index else word_to_index['<UNK>'] for word in sentence.split()]"
   ]
  },
  {
   "cell_type": "code",
   "execution_count": null,
   "id": "11",
   "metadata": {},
   "outputs": [],
   "source": [
    "sentence = train_data['conversation'][806]\n",
    "print(sentence)\n",
    "encoded = get_encoded_sentence(sentence,words_dict)\n",
    "print(encoded)"
   ]
  },
  {
   "cell_type": "code",
   "execution_count": null,
   "id": "12",
   "metadata": {},
   "outputs": [],
   "source": [
    "import json\n",
    "\n",
    "# JSON 파일 경로\n",
    "json_file_path = '/aiffel/aiffel/dktc/data/test.json' \n",
    "\n",
    "# JSON 파일 열기\n",
    "with open(json_file_path, 'r', encoding='utf-8') as file:\n",
    "    data = json.load(file)\n",
    "#     data = json.dumps(data, ensure_ascii = False)\n",
    "    \n",
    "# 변환된 데이터를 저장할 리스트\n",
    "converted_data = []\n",
    "\n",
    "# 데이터 변환 및 리스트에 추가\n",
    "for key, value in data.items():\n",
    "    converted_text = json.dumps(value['text'], ensure_ascii = False)\n",
    "    converted_data.append({\n",
    "        \"file_name\": key,\n",
    "        \"conversation\": converted_text\n",
    "    })\n",
    "df = pd.DataFrame(converted_data)\n",
    "# 결과 출력\n",
    "print(df)\n",
    "\n",
    "output_file_path = '~/aiffel/dktc/test.csv'\n",
    "df.to_csv(output_file_path, index=False, encoding='utf-8-sig')"
   ]
  },
  {
   "cell_type": "code",
   "execution_count": null,
   "id": "13",
   "metadata": {},
   "outputs": [],
   "source": [
    "test_data_path =\"~/aiffel/dktc/test.csv\"\n",
    "test_data = load_test(test_df)"
   ]
  },
  {
   "cell_type": "code",
   "execution_count": null,
   "id": "14",
   "metadata": {},
   "outputs": [],
   "source": [
    "test_df"
   ]
  },
  {
   "cell_type": "markdown",
   "id": "15",
   "metadata": {},
   "source": [
    "## 단어사전"
   ]
  },
  {
   "cell_type": "code",
   "execution_count": null,
   "id": "16",
   "metadata": {},
   "outputs": [],
   "source": [
    "#단어 사전 만들어주는 function: {토큰: index} 와 {index: 토큰} dictionary를 제공\n",
    "def makeVocab(train):\n",
    "    words = []\n",
    "    \n",
    "    for sentence in train['conversation']:\n",
    "        temp = list(sentence.split(\" \"))\n",
    "        words.extend(temp)\n",
    "        \n",
    "    counter = Counter(words)\n",
    "    counter = counter.most_common(10000-4)\n",
    "    \n",
    "    vocab = ['', '', '', ''] + [key for key, _ in counter]\n",
    "    word_to_index = {word:index for index, word in enumerate(vocab)}\n",
    "    #실제 인코딩 인덱스는 제공된 word_to_index에서 index 기준으로 3씩 뒤로 밀려 있습니다.  \n",
    "    word_to_index = {k:(v+3) for k,v in word_to_index.items()}\n",
    "\n",
    "    # 처음 몇 개 인덱스는 사전에 정의되어 있습니다.\n",
    "    word_to_index[\"<PAD>\"] = 0\n",
    "    word_to_index[\"<BOS>\"] = 1\n",
    "    word_to_index[\"<UNK>\"] = 2  # unknown\n",
    "    word_to_index[\"<UNUSED>\"] = 3\n",
    "\n",
    "    index_to_word = {index:word for word, index in word_to_index.items()}\n",
    "    return word_to_index, index_to_word"
   ]
  },
  {
   "cell_type": "code",
   "execution_count": null,
   "id": "17",
   "metadata": {},
   "outputs": [],
   "source": [
    "words_dict, idx_dict = makeVocab(train_data)"
   ]
  },
  {
   "cell_type": "markdown",
   "id": "18",
   "metadata": {},
   "source": [
    "## 토큰 정수화"
   ]
  },
  {
   "cell_type": "code",
   "execution_count": null,
   "id": "19",
   "metadata": {},
   "outputs": [],
   "source": [
    "#token화된 list를 정수화로 바꿔주는 function : {return: 정수화된 list}\n",
    "def wordlist_to_indexlist(wordlist, word_to_index):\n",
    "        return [word_to_index[word] if word in word_to_index else word_to_index[''] for word in wordlist]"
   ]
  },
  {
   "cell_type": "code",
   "execution_count": null,
   "id": "20",
   "metadata": {},
   "outputs": [],
   "source": [
    "X_train = []\n",
    "for sen in train_data['conversation']:\n",
    "    sen = list(sen.split(\" \"))\n",
    "    X_train.append(sen)"
   ]
  },
  {
   "cell_type": "code",
   "execution_count": null,
   "id": "21",
   "metadata": {},
   "outputs": [],
   "source": [
    "X_train = [wordlist_to_indexlist(wordlist, words_dict) for wordlist in X_train]"
   ]
  },
  {
   "cell_type": "code",
   "execution_count": null,
   "id": "22",
   "metadata": {},
   "outputs": [],
   "source": [
    "X_test = []\n",
    "for sen in test_df['conversation']:\n",
    "    sen = list(sen.split(\" \"))\n",
    "    X_test.append(sen)\n",
    "    \n",
    "# X_test = [wordlist_to_indexlist(wordlist, words_dict) for wordlist in X_test]"
   ]
  },
  {
   "cell_type": "code",
   "execution_count": null,
   "id": "23",
   "metadata": {},
   "outputs": [],
   "source": [
    "X_test = np.array(X_test,dtype = 'object')"
   ]
  },
  {
   "cell_type": "markdown",
   "id": "24",
   "metadata": {},
   "source": [
    "## class 한글 옵션 숫자 옵션으로 전환"
   ]
  },
  {
   "cell_type": "code",
   "execution_count": null,
   "id": "25",
   "metadata": {},
   "outputs": [],
   "source": [
    "def changeClassInt(data):\n",
    "    # class_list = {'협박 대화': 0, '갈취 대화': 1. '직장 내 괴롭힘 대화': 2, '기타 괴롭힘 대화': 3, '일반 대화': 4}\n",
    "    data.loc[data['class'] == '협박 대화', 'class'] = 0\n",
    "    data.loc[data['class'] == '갈취 대화', 'class'] = 1\n",
    "    data.loc[data['class'] == '직장 내 괴롭힘 대화', 'class'] = 2\n",
    "    data.loc[data['class'] == '기타 괴롭힘 대화', 'class'] = 3\n",
    "    data.loc[data['class'] == '일반 대화', 'class'] = 4\n",
    "    \n",
    "    return data"
   ]
  },
  {
   "cell_type": "code",
   "execution_count": null,
   "id": "26",
   "metadata": {},
   "outputs": [],
   "source": [
    "train_data = changeClassInt(train_data)"
   ]
  },
  {
   "cell_type": "code",
   "execution_count": null,
   "id": "27",
   "metadata": {},
   "outputs": [],
   "source": [
    "# target data 만들기\n",
    "tar_data = train_data['class']"
   ]
  },
  {
   "cell_type": "code",
   "execution_count": null,
   "id": "28",
   "metadata": {},
   "outputs": [],
   "source": [
    "! pip install Keras-Preprocessing"
   ]
  },
  {
   "cell_type": "code",
   "execution_count": null,
   "id": "29",
   "metadata": {},
   "outputs": [],
   "source": [
    "from keras_preprocessing.sequence import pad_sequences\n",
    "\n",
    "total_data_text = list(X_train)+list(X_test)\n",
    "# 텍스트데이터 문장길이의 리스트를 생성한 후\n",
    "num_tokens = [len(tokens) for tokens in total_data_text]\n",
    "num_tokens = np.array(num_tokens)\n",
    "# 문장길이의 평균값, 최대값, 표준편차를 계산해 본다. \n",
    "print('문장길이 평균 : ', np.mean(num_tokens))\n",
    "print('문장길이 최대 : ', np.max(num_tokens))\n",
    "print('문장길이 표준편차 : ', np.std(num_tokens))\n",
    "\n",
    "# 예를들어, 최대 길이를 (평균 + 2*표준편차)로 한다면,  \n",
    "max_tokens = np.mean(num_tokens) + 2 * np.std(num_tokens)\n",
    "max_len = int(max_tokens)\n",
    "print('pad_sequences maxlen : ', max_len)\n",
    "print(f'전체 문장의 {np.sum(num_tokens < max_tokens) / len(num_tokens)}%가 maxlen 설정값 이내에 포함됩니다. ')"
   ]
  },
  {
   "cell_type": "code",
   "execution_count": null,
   "id": "30",
   "metadata": {},
   "outputs": [],
   "source": [
    "X_train = np.array(X_train, dtype = 'object')\n",
    "X_train = pad_sequences(X_train, value = words_dict['<PAD>'], padding='pre', maxlen=max_len)\n",
    "\n",
    "X_test = np.array(X_test, dtype = 'object')\n",
    "X_test = pad_sequences(X_test, value = words_dict['<PAD>'], padding='pre', maxlen=max_len)"
   ]
  },
  {
   "cell_type": "markdown",
   "id": "31",
   "metadata": {},
   "source": [
    "## 데이터셋 분리"
   ]
  },
  {
   "cell_type": "code",
   "execution_count": null,
   "id": "32",
   "metadata": {},
   "outputs": [],
   "source": [
    "# 데이터 분리 function\n",
    "from sklearn.model_selection import train_test_split\n",
    "\n",
    "def makeDataset(cov_data, tar_data):\n",
    "    # stratify : class가 균등하게 나눠지게 됨.train_test_split stratify\n",
    "    \n",
    "    X_train, X_val, y_train,y_val = train_test_split(cov_data, tar_data, test_size = 0.2, random_state = 928, stratify = tar_data)    \n",
    "    \n",
    "    return X_train, X_val, y_train, y_val "
   ]
  },
  {
   "cell_type": "code",
   "execution_count": null,
   "id": "33",
   "metadata": {},
   "outputs": [],
   "source": [
    "X_train, X_val, y_train, y_val = makeDataset(X_train, tar_data)"
   ]
  },
  {
   "cell_type": "code",
   "execution_count": null,
   "id": "34",
   "metadata": {},
   "outputs": [],
   "source": [
    "X_train = np.asarray(X_train).astype(np.float32)\n",
    "X_val = np.asarray(X_val).astype(np.float32)\n",
    "y_train = np.asarray(y_train).astype(np.float32)\n",
    "y_val = np.asarray(y_val).astype(np.float32)\n",
    "X_test = np.asarray(X_test).astype(np.float32)\n",
    "print(len(X_train))"
   ]
  },
  {
   "cell_type": "markdown",
   "id": "35",
   "metadata": {},
   "source": [
    "# Baseline\n",
    "\n",
    "- Bidirectional LSTM"
   ]
  },
  {
   "cell_type": "code",
   "execution_count": null,
   "id": "36",
   "metadata": {},
   "outputs": [],
   "source": [
    "class_map = {\n",
    "    \"협박 대화\": 0,\n",
    "    \"갈취 대화\": 1,\n",
    "    \"직장 내 괴롭힘 대화\": 2,\n",
    "    \"기타 괴롭힘 대화\": 3,\n",
    "    \"일반 대화\": 4,\n",
    "}\n",
    "label_to_class = {v: k for k, v in class_map.items()}"
   ]
  },
  {
   "cell_type": "markdown",
   "id": "37",
   "metadata": {},
   "source": [
    "## Training Model"
   ]
  },
  {
   "cell_type": "code",
   "execution_count": null,
   "id": "38",
   "metadata": {},
   "outputs": [],
   "source": [
    "import pandas as pd\n",
    "from datetime import datetime, timezone, timedelta\n",
    "\n",
    "import tensorflow as tf\n",
    "from tensorflow.keras.preprocessing.text import Tokenizer\n",
    "from tensorflow.keras.preprocessing.sequence import pad_sequences\n",
    "from sklearn.model_selection import train_test_split\n",
    "from sklearn.preprocessing import LabelEncoder\n",
    "\n",
    "KST = timezone(timedelta(hours=9))\n",
    "NOW = datetime.now(KST).strftime('%Y%m%d%H%M%S') # YYYYMMDDHHmmss\n",
    "\n",
    "# parameters\n",
    "RANDOM_SEED = 42\n",
    "TRAIN_CSV_DATA_PATH = \"data/train_with_normal_nikl.csv\"\n",
    "TEST_JSON_DATA_PATH = \"data/test.json\"\n",
    "SUBMISSION_CSV_DATA_PATH = \"data/submission.csv\"\n",
    "EPOCHS = 50\n",
    "MODEL_PATH = f\"models/baseline_{NOW}.keras\"\n",
    "\n",
    "VOCAB_SIZE = len(words_dict)\n",
    "SEQ_LEN = 100\n",
    "\n",
    "# fix random seed\n",
    "tf.random.set_seed(RANDOM_SEED)\n",
    "\n",
    "# # Data preprocessing\n",
    "# data = pd.read_csv(\"data/train_with_normal_nikl.csv\")\n",
    "# data[\"class_label\"] = data[\"class\"].apply(lambda x: class_map[x]) # str -> int\n",
    "\n",
    "# # Tokenization\n",
    "# tokenizer = Tokenizer(num_words=VOCAB_SIZE, oov_token=\"<UNK>\")\n",
    "# tokenizer.fit_on_texts(data[\"conversation\"])\n",
    "# train_sequences = tokenizer.texts_to_sequences(data[\"conversation\"])\n",
    "# train_sequences = pad_sequences(train_sequences, padding='post', maxlen=SEQ_LEN)\n",
    "\n",
    "# # Split the data\n",
    "# X_train, X_val, y_train, y_val = train_test_split(train_sequences, \n",
    "#                                                   data[\"class_label\"], \n",
    "#                                                   test_size=0.2,\n",
    "#                                                   random_state=RANDOM_SEED, \n",
    "#                                                   stratify=data[\"class_label\"])\n",
    "\n",
    "def get_model(X, vocab_size, num_classes):\n",
    "    model = tf.keras.Sequential([\n",
    "        tf.keras.layers.Embedding(input_dim=vocab_size, output_dim=64, input_length=X.shape[-1]),\n",
    "        tf.keras.layers.Bidirectional(tf.keras.layers.LSTM(64)),\n",
    "        tf.keras.layers.Dense(64, activation=\"relu\"),\n",
    "        tf.keras.layers.Dense(num_classes, activation=\"softmax\")\n",
    "    ])\n",
    "    \n",
    "    model.compile(loss=\"sparse_categorical_crossentropy\", \n",
    "                  optimizer=\"adam\", \n",
    "                  metrics=[\"accuracy\"])\n",
    "    return model\n",
    "\n",
    "model = get_model(X_train, VOCAB_SIZE, num_classes=len(class_map))\n",
    "callbacks = [\n",
    "    tf.keras.callbacks.ModelCheckpoint(MODEL_PATH,\n",
    "                                       monitor=\"val_loss\",\n",
    "                                       save_best_only=True)\n",
    "]\n",
    "history = model.fit(X_train, y_train, \n",
    "                    epochs=EPOCHS,\n",
    "                    validation_data=(X_val, y_val),\n",
    "                    callbacks=callbacks)"
   ]
  },
  {
   "cell_type": "code",
   "execution_count": null,
   "id": "39",
   "metadata": {},
   "outputs": [],
   "source": [
    "import matplotlib.pyplot as plt\n",
    "\n",
    "history_dict = history.history\n",
    "\n",
    "loss = history_dict['loss']\n",
    "val_loss = history_dict['val_loss']\n",
    "epochs = range(1, len(loss) + 1)\n",
    "\n",
    "fig = plt.figure(figsize=(12, 5))\n",
    "\n",
    "ax1 = fig.add_subplot(1, 2, 1)\n",
    "ax1.plot(epochs, loss, color='blue', label='train_loss')\n",
    "ax1.plot(epochs, val_loss, color='red', label='val_loss')\n",
    "ax1.set_title('Train and Validation Loss')\n",
    "ax1.set_xlabel('Epochs')\n",
    "ax1.set_ylabel('Loss')\n",
    "ax1.grid()\n",
    "ax1.legend()\n",
    "\n",
    "accuracy = history_dict['accuracy']\n",
    "val_accuracy = history_dict['val_accuracy']\n",
    "\n",
    "ax2 = fig.add_subplot(1, 2, 2)\n",
    "ax2.plot(epochs, accuracy, color='blue', label='train_accuracy')\n",
    "ax2.plot(epochs, val_accuracy, color='red', label='val_accuracy')\n",
    "ax2.set_title('Train and Validation Accuracy')\n",
    "ax2.set_xlabel('Epochs')\n",
    "ax2.set_ylabel('Accuracy')\n",
    "ax2.grid()\n",
    "ax2.legend()\n",
    "\n",
    "plt.show()"
   ]
  },
  {
   "cell_type": "markdown",
   "id": "40",
   "metadata": {},
   "source": [
    "## Submission"
   ]
  },
  {
   "cell_type": "code",
   "execution_count": null,
   "id": "41",
   "metadata": {},
   "outputs": [],
   "source": [
    "import json\n",
    "\n",
    "def load_test_df():\n",
    "    with open(\"data/test.json\") as file:\n",
    "        test_json = json.load(file)\n",
    "    \n",
    "    file_names = []\n",
    "    conversations = []\n",
    "    for file_name in test_json:\n",
    "        conversation = test_json[file_name][\"text\"]\n",
    "\n",
    "        file_names.append(file_name)\n",
    "        conversations.append(conversation)\n",
    "        \n",
    "    return pd.DataFrame({\"file_name\": file_names, \"conversation\": conversations})\n",
    "    \n",
    "test_df = load_test_df()\n",
    "test_df"
   ]
  },
  {
   "cell_type": "code",
   "execution_count": null,
   "id": "42",
   "metadata": {},
   "outputs": [],
   "source": [
    "import numpy as np\n",
    "\n",
    "# # Tokenization\n",
    "# test_sequences = tokenizer.texts_to_sequences(test_df[\"conversation\"])\n",
    "# test_sequences = pad_sequences(test_sequences, padding=\"post\", maxlen=SEQ_LEN)\n",
    "\n",
    "# Prediction\n",
    "model = tf.keras.models.load_model(MODEL_PATH)\n",
    "predictions_prob = model.predict(X_test)\n",
    "predictions = np.argmax(predictions_prob, axis=1)\n",
    "test_df[\"class\"] = predictions\n",
    "test_df[\"class_str\"] = test_df[\"class\"].apply(lambda x: label_to_class[x])\n",
    "test_df"
   ]
  },
  {
   "cell_type": "code",
   "execution_count": null,
   "id": "43",
   "metadata": {},
   "outputs": [],
   "source": [
    "submission_df = pd.read_csv(\"~/aiffel/dktc/data/new_submission.csv\")\n",
    "test_submission_df = (submission_df\n",
    "                      .merge(test_df[[\"file_name\", \"class\"]], on=\"file_name\")\n",
    "                      .drop(columns=[\"class_x\"])\n",
    "                      .rename(columns={\"class_y\": \"class\"}))\n",
    "test_submission_df.to_csv(f\"~/aiffel/dktc/baseline_{NOW}.csv\", index=False)\n",
    "pd.read_csv(f\"~/aiffel/dktc/baseline_{NOW}.csv\")"
   ]
  },
  {
   "cell_type": "markdown",
   "id": "44",
   "metadata": {},
   "source": [
    "## RNN - LSTM"
   ]
  },
  {
   "cell_type": "code",
   "execution_count": null,
   "id": "45",
   "metadata": {},
   "outputs": [],
   "source": [
    "# 전처리 아주 간단하게만, 형태소없이, 일반 대화 없이 한번 해보기로.\n",
    "# 각 문장의 불용어, 특수 문자 등을 제거하는 function: {return: 정리된 문장}\n",
    "def sentence_organizer(sentence):\n",
    "\n",
    "    sentence = re.sub(r'@[^@]+@', 'pronoun', sentence)\n",
    "    sentence = re.sub(r'name1', 'pronoun', sentence)\n",
    "    sentence = re.sub(r'company-name' , 'pronoun', sentence)\n",
    "    sentence = re.sub(r'\\n', \" \", sentence)\n",
    "    \n",
    "    # 특수문자 제거 (문장내의 특수 문자제거)\n",
    "    sentence = re.sub(r\"[^ㄱ-ㅎㅏ-ㅣ가-힣0-9a-zA-Z?.!\\s]\", \"\", sentence)\n",
    "    \n",
    "    # 영어라면 소문자로 변환\n",
    "    sentence = sentence.lower() # 텍스트 소문자화\n",
    "    \n",
    "\n",
    "    return sentence"
   ]
  },
  {
   "cell_type": "code",
   "execution_count": null,
   "id": "46",
   "metadata": {},
   "outputs": [],
   "source": [
    "# 결측치 제거, 중복 제거, 불용어 제거한 데이터를 제공하는 fucntion\n",
    "def load_data(path):\n",
    "    train_data_path = path\n",
    "    data = pd.read_csv(train_data_path)\n",
    "    \n",
    "    # 중복 제거\n",
    "    data.drop_duplicates(subset = ['conversation'], inplace=True)\n",
    "    \n",
    "    \n",
    "    data['conversation'] = data['conversation'].map(lambda x: sentence_organizer(x))\n",
    "\n",
    "    return data"
   ]
  },
  {
   "cell_type": "code",
   "execution_count": null,
   "id": "47",
   "metadata": {},
   "outputs": [],
   "source": [
    "train_data_path =\"data/train.csv\"\n",
    "train = load_data(train_data_path)"
   ]
  },
  {
   "cell_type": "code",
   "execution_count": null,
   "id": "48",
   "metadata": {},
   "outputs": [],
   "source": [
    "class_map = {\n",
    "    \"협박 대화\": 0,\n",
    "    \"갈취 대화\": 1,\n",
    "    \"직장 내 괴롭힘 대화\": 2,\n",
    "    \"기타 괴롭힘 대화\": 3,\n",
    "    \"일반 대화\": 4,\n",
    "}\n",
    "label_to_class = {v: k for k, v in class_map.items()}"
   ]
  },
  {
   "cell_type": "code",
   "execution_count": null,
   "id": "49",
   "metadata": {},
   "outputs": [],
   "source": [
    "import pandas as pd\n",
    "import numpy as np\n",
    "import tensorflow as tf\n",
    "from sklearn.model_selection import train_test_split\n",
    "from sklearn.preprocessing import LabelEncoder\n",
    "from sklearn.metrics import classification_report, accuracy_score, f1_score\n",
    "import matplotlib.pyplot as plt\n",
    "\n",
    "# 랜덤 시드 고정\n",
    "RANDOM_SEED = 42\n",
    "np.random.seed(RANDOM_SEED)\n",
    "tf.random.set_seed(RANDOM_SEED)\n",
    "\n",
    "# 데이터 로드\n",
    "texts = train['conversation']  # 텍스트 데이터 컬럼 이름 수정\n",
    "train = changeClassInt(train)\n",
    "labels = train['class']  # 클래스 레이블 컬럼 이름 수정\n",
    "labels = np.asarray(labels).astype('int')\n",
    "texts = np.asarray(texts).astype('str')\n",
    "\n",
    "# 토크나이저를 사용\n",
    "tokenizer = tf.keras.preprocessing.text.Tokenizer()\n",
    "tokenizer.fit_on_texts(texts)\n",
    "\n",
    "# 훈련 및 검증 데이터 분할\n",
    "X_train, X_val, y_train, y_val = train_test_split(texts, labels, test_size=0.2, random_state=RANDOM_SEED, stratify=labels)\n",
    "\n",
    "#텍스트 데이터 토큰화\n",
    "X_train_seq = tokenizer.texts_to_sequences(X_train)\n",
    "X_val_seq = tokenizer.texts_to_sequences(X_val)\n",
    "\n",
    "# 패딩을 통해 동일한 길이로 조정\n",
    "max_length = 535  # 적절한 길이로 조정\n",
    "X_train_padded = tf.keras.preprocessing.sequence.pad_sequences(X_train_seq, maxlen=max_length, padding='post')\n",
    "X_val_padded = tf.keras.preprocessing.sequence.pad_sequences(X_val_seq, maxlen=max_length, padding='post')\n",
    "\n",
    "vocab_size = len(tokenizer.word_index) + 1  # 단어 사전 크기\n",
    "num_classes = len(set(labels))  # 클래스 수"
   ]
  },
  {
   "cell_type": "code",
   "execution_count": null,
   "id": "50",
   "metadata": {},
   "outputs": [],
   "source": [
    "def create_lstm_model(vocab_size, max_length, num_classes):\n",
    "    model = tf.keras.Sequential([\n",
    "        tf.keras.layers.Embedding(input_dim=vocab_size, output_dim=128, input_length=max_length),\n",
    "        tf.keras.layers.LSTM(128, dropout=0.2, recurrent_dropout=0.2),\n",
    "        tf.keras.layers.Dense(num_classes, activation='softmax')\n",
    "    ])\n",
    "    model.compile(optimizer='adam', loss='sparse_categorical_crossentropy', metrics=['accuracy'])\n",
    "    return model"
   ]
  },
  {
   "cell_type": "code",
   "execution_count": null,
   "id": "51",
   "metadata": {},
   "outputs": [],
   "source": [
    "# LSTM 모델 훈련\n",
    "lstm_model = create_lstm_model(vocab_size, max_length, num_classes)\n",
    "lstm_history = lstm_model.fit(X_train_padded, y_train, epochs=50, validation_data=(X_val_padded, y_val), batch_size=32)\n",
    "\n",
    "# 모델 저장\n",
    "lstm_model.save('saved_models/lstm_model.h5')"
   ]
  },
  {
   "cell_type": "code",
   "execution_count": null,
   "id": "52",
   "metadata": {},
   "outputs": [],
   "source": [
    "import matplotlib.pyplot as plt\n",
    "\n",
    "history_dict = lstm_history.history\n",
    "\n",
    "loss = history_dict['loss']\n",
    "val_loss = history_dict['val_loss']\n",
    "epochs = range(1, len(loss) + 1)\n",
    "\n",
    "fig = plt.figure(figsize=(12, 5))\n",
    "\n",
    "ax1 = fig.add_subplot(1, 2, 1)\n",
    "ax1.plot(epochs, loss, color='blue', label='train_loss')\n",
    "ax1.plot(epochs, val_loss, color='red', label='val_loss')\n",
    "ax1.set_title('Train and Validation Loss')\n",
    "ax1.set_xlabel('Epochs')\n",
    "ax1.set_ylabel('Loss')\n",
    "ax1.grid()\n",
    "ax1.legend()\n",
    "\n",
    "accuracy = history_dict['accuracy']\n",
    "val_accuracy = history_dict['val_accuracy']\n",
    "\n",
    "ax2 = fig.add_subplot(1, 2, 2)\n",
    "ax2.plot(epochs, accuracy, color='blue', label='train_accuracy')\n",
    "ax2.plot(epochs, val_accuracy, color='red', label='val_accuracy')\n",
    "ax2.set_title('Train and Validation Accuracy')\n",
    "ax2.set_xlabel('Epochs')\n",
    "ax2.set_ylabel('Accuracy')\n",
    "ax2.grid()\n",
    "ax2.legend()\n",
    "\n",
    "plt.show()"
   ]
  },
  {
   "cell_type": "code",
   "execution_count": null,
   "id": "53",
   "metadata": {},
   "outputs": [],
   "source": [
    "import json\n",
    "\n",
    "def load_test_df():\n",
    "    with open(\"data/test.json\") as file:\n",
    "        test_json = json.load(file)\n",
    "    \n",
    "    file_names = []\n",
    "    conversations = []\n",
    "    for file_name in test_json:\n",
    "        conversation = test_json[file_name][\"text\"]\n",
    "\n",
    "        file_names.append(file_name)\n",
    "        conversations.append(conversation)\n",
    "        \n",
    "    return pd.DataFrame({\"file_name\": file_names, \"conversation\": conversations})\n",
    "    \n",
    "test = load_test_df()\n",
    "test"
   ]
  },
  {
   "cell_type": "code",
   "execution_count": null,
   "id": "54",
   "metadata": {},
   "outputs": [],
   "source": [
    "# 결측치 제거, 중복 제거, 불용어 제거한 데이터를 제공하는 fucntion\n",
    "def load_test(data):\n",
    "    \n",
    "    data['conversation'] = data['conversation'].map(lambda x: sentence_analysis(x))\n",
    "\n",
    "    return data"
   ]
  },
  {
   "cell_type": "code",
   "execution_count": null,
   "id": "55",
   "metadata": {},
   "outputs": [],
   "source": [
    "test = load_test(test)\n",
    "#텍스트 데이터 토큰화\n",
    "X_test_seq = tokenizer.texts_to_sequences(test)\n",
    "\n",
    "# 패딩을 통해 동일한 길이로 조정\n",
    "max_length = 535  # 적절한 길이로 조정\n",
    "X_test_padded = tf.keras.preprocessing.sequence.pad_sequences(X_test_seq, maxlen=max_length, padding='post')\n"
   ]
  },
  {
   "cell_type": "code",
   "execution_count": null,
   "id": "56",
   "metadata": {},
   "outputs": [],
   "source": [
    "def evaluate_model(model, X_val_padded, threshold=0.7):\n",
    "    predictions = model.predict(X_val_padded)\n",
    "    predicted_labels = np.argmax(predictions, axis=1)\n",
    "    predicted_confidences = np.max(predictions, axis=1)\n",
    "    \n",
    "    # 새로운 클래스로 분류\n",
    "    new_class_label = num_classes  # 기존 클래스 + 1\n",
    "    final_predictions = [new_class_label if conf < threshold else label for label, conf in zip(predicted_labels, predicted_confidences)]\n",
    "    \n",
    "    # accuracy = accuracy_score(y_val, final_predictions)\n",
    "    # f1 = f1_score(y_val, final_predictions, average='weighted')\n",
    "    \n",
    "    # print(f\"Accuracy: {accuracy}\")\n",
    "    # print(f\"F1 Score: {f1}\")\n",
    "    return final_predictions\n",
    "\n",
    "# # Prediction\n",
    "# model = lstm_model\n",
    "# accuracy, f1 = evaluate_model(model, X_val_padded, y_val, threshold = 0.8)\n",
    "\n",
    "# predictions_prob = model.predict(X_test_padded)\n",
    "# predictions = np.argmax(predictions_prob, axis=1)\n",
    "# test[\"class\"] = predictions\n",
    "# test[\"class_str\"] = test_df[\"class\"].apply(lambda x: label_to_class[x])\n",
    "# test"
   ]
  },
  {
   "cell_type": "code",
   "execution_count": null,
   "id": "57",
   "metadata": {},
   "outputs": [],
   "source": [
    "predictions = evaluate_model(model, X_test_padded)\n",
    "print(predictions)\n",
    "test[\"class\"] = predictions\n",
    "test[\"class_str\"] = test_df[\"class\"].apply(lambda x: label_to_class[x])\n",
    "test\n"
   ]
  },
  {
   "cell_type": "code",
   "execution_count": null,
   "id": "58",
   "metadata": {},
   "outputs": [],
   "source": [
    "submission_df = pd.read_csv(\"data/new_submission.csv\")\n",
    "test_submission_df = (submission_df\n",
    "                      .merge(test_df[[\"file_name\", \"class\"]], on=\"file_name\")\n",
    "                      .drop(columns=[\"class_x\"])\n",
    "                      .rename(columns={\"class_y\": \"class\"}))\n",
    "test_submission_df.to_csv(f\"results/lstm_{NOW}.csv\", index=False)\n",
    "pd.read_csv(f\"results/lstm_{NOW}.csv\")"
   ]
  },
  {
   "cell_type": "markdown",
   "id": "59",
   "metadata": {},
   "source": [
    "## RNN - GRU"
   ]
  },
  {
   "cell_type": "code",
   "execution_count": null,
   "id": "60",
   "metadata": {},
   "outputs": [],
   "source": [
    "# GRU 모델 정의\n",
    "def create_gru_model(vocab_size, max_length, num_classes):\n",
    "    model = tf.keras.Sequential([\n",
    "        tf.keras.layers.Embedding(input_dim=vocab_size, output_dim=128, input_length=max_length),\n",
    "        tf.keras.layers.GRU(128, dropout=0.2, recurrent_dropout=0.2),\n",
    "        tf.keras.layers.Dense(num_classes, activation='softmax')\n",
    "    ])\n",
    "    model.compile(optimizer='adam', loss='sparse_categorical_crossentropy', metrics=['accuracy'])\n",
    "    return model"
   ]
  },
  {
   "cell_type": "code",
   "execution_count": null,
   "id": "61",
   "metadata": {},
   "outputs": [],
   "source": [
    "# GRU 모델 훈련\n",
    "gru_model = create_gru_model(vocab_size, max_length, num_classes)\n",
    "gru_history = gru_model.fit(X_train_padded, y_train, epochs=50, validation_data=(X_val_padded, y_val), batch_size=32)\n",
    "\n",
    "# 모델 저장\n",
    "gru_model.save('gru_model.h5')"
   ]
  },
  {
   "cell_type": "code",
   "execution_count": null,
   "id": "62",
   "metadata": {},
   "outputs": [],
   "source": [
    "import matplotlib.pyplot as plt\n",
    "\n",
    "history_dict = gru_history.history\n",
    "\n",
    "loss = history_dict['loss']\n",
    "val_loss = history_dict['val_loss']\n",
    "epochs = range(1, len(loss) + 1)\n",
    "\n",
    "fig = plt.figure(figsize=(12, 5))\n",
    "\n",
    "ax1 = fig.add_subplot(1, 2, 1)\n",
    "ax1.plot(epochs, loss, color='blue', label='train_loss')\n",
    "ax1.plot(epochs, val_loss, color='red', label='val_loss')\n",
    "ax1.set_title('Train and Validation Loss')\n",
    "ax1.set_xlabel('Epochs')\n",
    "ax1.set_ylabel('Loss')\n",
    "ax1.grid()\n",
    "ax1.legend()\n",
    "\n",
    "accuracy = history_dict['accuracy']\n",
    "val_accuracy = history_dict['val_accuracy']\n",
    "\n",
    "ax2 = fig.add_subplot(1, 2, 2)\n",
    "ax2.plot(epochs, accuracy, color='blue', label='train_accuracy')\n",
    "ax2.plot(epochs, val_accuracy, color='red', label='val_accuracy')\n",
    "ax2.set_title('Train and Validation Accuracy')\n",
    "ax2.set_xlabel('Epochs')\n",
    "ax2.set_ylabel('Accuracy')\n",
    "ax2.grid()\n",
    "ax2.legend()\n",
    "\n",
    "plt.show()"
   ]
  },
  {
   "cell_type": "code",
   "execution_count": null,
   "id": "63",
   "metadata": {},
   "outputs": [],
   "source": [
    "predictions = evaluate_model(model, X_test_padded)\n",
    "print(predictions)\n",
    "test[\"class\"] = predictions\n",
    "test[\"class_str\"] = test_df[\"class\"].apply(lambda x: label_to_class[x])\n",
    "test"
   ]
  },
  {
   "cell_type": "code",
   "execution_count": null,
   "id": "64",
   "metadata": {},
   "outputs": [],
   "source": [
    "submission_df = pd.read_csv(\"data/new_submission.csv\")\n",
    "test_submission_df = (submission_df\n",
    "                      .merge(test_df[[\"file_name\", \"class\"]], on=\"file_name\")\n",
    "                      .drop(columns=[\"class_x\"])\n",
    "                      .rename(columns={\"class_y\": \"class\"}))\n",
    "test_submission_df.to_csv(f\"results/gru_{NOW}.csv\", index=False)\n",
    "pd.read_csv(f\"results/gru_{NOW}.csv\")"
   ]
  },
  {
   "cell_type": "code",
   "execution_count": null,
   "id": "65",
   "metadata": {},
   "outputs": [],
   "source": [
    "! pip install tf-keras"
   ]
  },
  {
   "cell_type": "code",
   "execution_count": null,
   "id": "66",
   "metadata": {},
   "outputs": [],
   "source": [
    "import tensorflow as tf\n",
    "from transformers import BertTokenizer, TFBertForSequenceClassification\n",
    "from sklearn.metrics import classification_report, accuracy_score\n",
    "from sklearn.model_selection import train_test_split\n",
    "from transformers import TFBertForSequenceClassification, TFElectraForSequenceClassification, AutoTokenizer\n",
    "from sklearn.preprocessing import LabelEncoder\n",
    "import matplotlib.pyplot as plt\n",
    "\n",
    "# 설정\n",
    "EPOCHS = 5  # epochs를 더 늘릴 수 있지만, 실습을 위해 5로 설정합니다.\n",
    "BATCH_SIZE = 16\n",
    "MAX_LENGTH = max_len  # 문장 최대 길이\n",
    "MODEL_SAVE_PATH = \"saved_models/\"\n",
    "NUM_CLASSES = 4  # 클래스 수\n",
    "RANDOM_SEED = 42\n",
    "\n",
    "# 랜덤 시드 고정\n",
    "tf.random.set_seed(RANDOM_SEED)\n",
    "np.random.seed(RANDOM_SEED)"
   ]
  },
  {
   "cell_type": "markdown",
   "id": "67",
   "metadata": {},
   "source": [
    "## KOBERT"
   ]
  },
  {
   "cell_type": "code",
   "execution_count": null,
   "id": "68",
   "metadata": {},
   "outputs": [],
   "source": [
    "# 결측치 제거, 중복 제거, 불용어 제거한 데이터를 제공하는 fucntion\n",
    "def load_data(path):\n",
    "    train_data_path = path\n",
    "    data = pd.read_csv(train_data_path)\n",
    "    \n",
    "    # 중복 제거\n",
    "    data.drop_duplicates(subset = ['conversation'], inplace=True)\n",
    "    \n",
    "    \n",
    "    data['conversation'] = data['conversation'].map(lambda x: sentence_organizer(x))\n",
    "\n",
    "    return data"
   ]
  },
  {
   "cell_type": "code",
   "execution_count": null,
   "id": "69",
   "metadata": {},
   "outputs": [],
   "source": [
    "train_data_path =\"data/train.csv\"\n",
    "train_data = load_data(train_data_path)\n",
    "train_text = train_data['conversation']\n",
    "train_data = changeClassInt(train_data)\n",
    "tar_data = train_data['class']\n",
    "\n",
    "train_text = list(train_text)\n",
    "tar_data = list(tar_data)\n",
    "\n",
    "\n",
    "# 훈련 및 검증 데이터 분할\n",
    "X_train, X_val, y_train, y_val = train_test_split(train_text, tar_data, test_size=0.2, random_state=RANDOM_SEED, stratify=tar_data)\n",
    "\n"
   ]
  },
  {
   "cell_type": "code",
   "execution_count": null,
   "id": "70",
   "metadata": {},
   "outputs": [],
   "source": [
    "print(X_train[:2])"
   ]
  },
  {
   "cell_type": "code",
   "execution_count": null,
   "id": "71",
   "metadata": {},
   "outputs": [],
   "source": [
    "# 토크나이저 선택\n",
    "def get_tokenizer(model_name):\n",
    "    return AutoTokenizer.from_pretrained(model_name)\n",
    "\n",
    "# 토크나이징 함수\n",
    "def tokenize_sentences(tokenizer, sentences, max_length):\n",
    "    # X_train = []\n",
    "\n",
    "    # for sen in sentences:\n",
    "    #     print(sen)\n",
    "    #     t = sen.split(\" \")\n",
    "    #     print(t)\n",
    "    #     tokened = tokenizer(\n",
    "    #     text = t,\n",
    "    #     padding='max_length',\n",
    "    #     truncation=True,\n",
    "    #     return_tensors='tf',\n",
    "    #     max_length=max_length\n",
    "    # )\n",
    "    #     X_train.append(tokened)    \n",
    "\n",
    "    return tokenizer(\n",
    "        text=sentences,\n",
    "        padding='max_length',\n",
    "        truncation=True,\n",
    "        return_tensors='tf',\n",
    "        max_length=max_length\n",
    "    )\n"
   ]
  },
  {
   "cell_type": "code",
   "execution_count": null,
   "id": "72",
   "metadata": {},
   "outputs": [],
   "source": [
    "print(X_train[:2])"
   ]
  },
  {
   "cell_type": "code",
   "execution_count": null,
   "id": "73",
   "metadata": {},
   "outputs": [],
   "source": [
    "# KoBERT 모델 훈련\n",
    "model_name = 'monologg/kobert'\n",
    "tokenizer = get_tokenizer(model_name)\n",
    "X_train_tokenized = tokenize_sentences(tokenizer, X_train, MAX_LENGTH)\n",
    "X_val_tokenized = tokenize_sentences(tokenizer, X_val, MAX_LENGTH)\n",
    "\n",
    "# X_train_tokenized = []\n",
    "# for s in X_train:\n",
    "#     t = tokenizer(text = s,  padding= 'max_length', truncation = True, max_length = MAX_LENGTH, return_tensors='tf')\n",
    "#     X_train_tokenized.append(t)\n",
    "\n",
    "\n",
    "# X_val_tokenized = []\n",
    "# for s in X_val:\n",
    "#     t = tokenizer(text = s,  padding= 'max_length', truncation = True, max_length = MAX_LENGTH, return_tensors='tf')\n",
    "#     X_val_tokenized.append(t)\n"
   ]
  },
  {
   "cell_type": "code",
   "execution_count": null,
   "id": "74",
   "metadata": {},
   "outputs": [],
   "source": [
    "print(len(X_train_tokenized))\n",
    "print(X_train_tokenized)\n",
    "# print(X_train_tokenized[0][0])\n",
    "\n",
    "# print(X_val_tokenized[1])"
   ]
  },
  {
   "cell_type": "code",
   "execution_count": null,
   "id": "75",
   "metadata": {},
   "outputs": [],
   "source": [
    "model = TFBertForSequenceClassification.from_pretrained(model_name, num_labels=NUM_CLASSES)\n",
    "\n",
    "optimizer = tf.keras.optimizers.Adam(learning_rate=5e-5)\n",
    "loss = tf.keras.losses.SparseCategoricalCrossentropy(from_logits=True)\n",
    "model.compile(optimizer=optimizer, loss=loss, metrics=['accuracy'])\n",
    "\n",
    "# 모델 훈련\n",
    "kobert_history = model.fit(\n",
    "    [X_train_tokenized['input_ids'], X_train_tokenized['attention_mask']],\n",
    "    y_train,\n",
    "    validation_data=([X_val_tokenized['input_ids'], X_val_tokenized['attention_mask']], y_val),\n",
    "    epochs=EPOCHS,\n",
    "    batch_size=BATCH_SIZE\n",
    ")\n",
    "\n",
    "# 모델 저장\n",
    "model.save_pretrained(MODEL_SAVE_PATH + 'kobert')\n",
    "tokenizer.save_pretrained(MODEL_SAVE_PATH + 'kobert')"
   ]
  },
  {
   "cell_type": "code",
   "execution_count": null,
   "id": "76",
   "metadata": {},
   "outputs": [],
   "source": [
    "import pandas as pd\n",
    "from sklearn.model_selection import train_test_split\n",
    "\n",
    "\n",
    "def tokenize(texts, labels, max_length):\n",
    "    encodings = tokenizer(texts, truncation=True, padding=True, max_length=max_length)\n",
    "    dataset = tf.data.Dataset.from_tensor_slices((\n",
    "        dict(encodings),\n",
    "        labels\n",
    "    ))\n",
    "    return dataset\n",
    "\n",
    "train_df = load_data(TRAIN_DATA_PATH)\n",
    "train_df[\"class_num\"] = train_df[\"class\"].map(class_map)\n",
    "\n",
    "X_train, X_val, y_train, y_val = train_test_split(train_df[\"conversation\"], train_df[\"class_num\"], \n",
    "                                                  test_size=0.2, random_state=42, \n",
    "                                                  stratify=train_df[\"class_num\"])\n",
    "\n",
    "train_dataset = (tokenize(X_train.tolist(), y_train, MAX_LENGTH)\n",
    "           .shuffle(len(X_train))\n",
    "           .batch(BATCH_SIZE)\n",
    "           .prefetch(tf.data.experimental.AUTOTUNE))\n",
    "\n",
    "val_dataset = (tokenize(X_val.tolist(), y_val, MAX_LENGTH)\n",
    "           .shuffle(len(X_val))\n",
    "           .batch(BATCH_SIZE)\n",
    "           .prefetch(tf.data.experimental.AUTOTUNE))"
   ]
  },
  {
   "cell_type": "markdown",
   "id": "77",
   "metadata": {},
   "source": [
    "## KoELECTRA"
   ]
  },
  {
   "cell_type": "code",
   "execution_count": null,
   "id": "78",
   "metadata": {},
   "outputs": [],
   "source": []
  },
  {
   "cell_type": "markdown",
   "id": "79",
   "metadata": {},
   "source": [
    "## KLUE-BERT"
   ]
  },
  {
   "cell_type": "code",
   "execution_count": null,
   "id": "80",
   "metadata": {},
   "outputs": [],
   "source": []
  }
 ],
 "metadata": {
  "kernelspec": {
   "display_name": "Python 3 (ipykernel)",
   "language": "python",
   "name": "python3"
  },
  "language_info": {
   "codemirror_mode": {
    "name": "ipython",
    "version": 3
   },
   "file_extension": ".py",
   "mimetype": "text/x-python",
   "name": "python",
   "nbconvert_exporter": "python",
   "pygments_lexer": "ipython3",
   "version": "3.10.13"
  }
 },
 "nbformat": 4,
 "nbformat_minor": 5
}
