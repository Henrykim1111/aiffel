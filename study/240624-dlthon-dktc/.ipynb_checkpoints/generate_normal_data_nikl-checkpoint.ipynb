{
 "cells": [
  {
   "cell_type": "markdown",
   "id": "0",
   "metadata": {},
   "source": [
    "# 일반 대화 - [모두의 말뭉치: 일상 대화 말뭉치 2022](https://kli.korean.go.kr/corpus/request/corpusRegist.do)"
   ]
  },
  {
   "cell_type": "markdown",
   "id": "1",
   "metadata": {},
   "source": [
    "## 데이터 로드"
   ]
  },
  {
   "cell_type": "code",
   "execution_count": null,
   "id": "2",
   "metadata": {},
   "outputs": [],
   "source": [
    "import os\n",
    "import json\n",
    "import pandas as pd\n",
    "\n",
    "class ConversationData:\n",
    "    def __init__(self, json_data):\n",
    "        self.json_data = json_data\n",
    "    \n",
    "    def is_normal_conversation(self):\n",
    "        return \"일상대화\" in self.json_data[\"metadata\"][\"category\"]\n",
    "    \n",
    "    def get_topic_type(self):\n",
    "        document = self.__get_document()\n",
    "        full_topic = document[\"metadata\"][\"topic\"]\n",
    "        return full_topic.split(\" > \")[0]\n",
    "    \n",
    "    def get_conversation(self):\n",
    "        document = self.__get_document()\n",
    "        \n",
    "        # 한 발화자가 여러 utterance에 걸쳐 발화를 하는 경우, 하나의 문장으로 만든다.\n",
    "        conversation = []\n",
    "        curr_speaker = None\n",
    "        curr_sentence = None\n",
    "\n",
    "        for utterance in document[\"utterance\"]:\n",
    "            sentence = utterance[\"form\"].strip()\n",
    "            speaker_id = utterance[\"speaker_id\"].strip()\n",
    "            if sentence == \"\":\n",
    "                continue\n",
    "\n",
    "            # 대화 처음\n",
    "            if curr_speaker is None:\n",
    "                curr_speaker = speaker_id\n",
    "                curr_sentence = sentence\n",
    "                continue\n",
    "\n",
    "\n",
    "            # 이전 발화자가 계속 발화를 이어가는 경우\n",
    "            if curr_speaker == speaker_id:\n",
    "                curr_sentence += \" \" + sentence\n",
    "\n",
    "            # 다른 사람이 발화하는 경우\n",
    "            else:\n",
    "                conversation.append(curr_sentence)\n",
    "                curr_speaker = speaker_id\n",
    "                curr_sentence = sentence\n",
    "\n",
    "        conversation.append(curr_sentence)\n",
    "        \n",
    "        return conversation\n",
    "        \n",
    "    def __get_document(self):\n",
    "        return self.json_data[\"document\"][0] # document는 size가 1인 list\n",
    "\n",
    "def load_json(path):\n",
    "    with open(path) as file:\n",
    "        return json.load(file)\n",
    "\n",
    "def load_nikl_normal_conversation_df(data_dir_path=\"data/NIKL_DIALOGUE_2022_v1.0\"):\n",
    "    topic_types = []\n",
    "    conversations = []\n",
    "    \n",
    "    for file_path in os.listdir(data_dir_path):\n",
    "        if not file_path.endswith(\"json\"):\n",
    "            continue\n",
    "        \n",
    "        json_data = load_json(f\"{data_dir_path}/{file_path}\")\n",
    "        conversation_data = ConversationData(json_data)\n",
    "        \n",
    "        if not conversation_data.is_normal_conversation():\n",
    "            continue\n",
    "        \n",
    "        topic_types.append(conversation_data.get_topic_type())\n",
    "        conversations.append(conversation_data.get_conversation())\n",
    "\n",
    "    return pd.DataFrame({\n",
    "        \"topic_type\": topic_types,\n",
    "        \"conversation\": [\"\\n\".join(c) for c in conversations],\n",
    "    })\n"
   ]
  },
  {
   "cell_type": "code",
   "execution_count": null,
   "id": "3",
   "metadata": {},
   "outputs": [],
   "source": [
    "nikl_normal_conversation_df = load_nikl_normal_conversation_df()"
   ]
  },
  {
   "cell_type": "markdown",
   "id": "4",
   "metadata": {},
   "source": [
    "## 데이터 수 확인"
   ]
  },
  {
   "cell_type": "code",
   "execution_count": null,
   "id": "5",
   "metadata": {},
   "outputs": [],
   "source": [
    "# 전체 데이터 수\n",
    "nikl_normal_conversation_df.info()"
   ]
  },
  {
   "cell_type": "code",
   "execution_count": null,
   "id": "6",
   "metadata": {},
   "outputs": [],
   "source": [
    "# 주제별 데이터\n",
    "nikl_normal_conversation_df[\"topic_type\"].value_counts()"
   ]
  },
  {
   "cell_type": "code",
   "execution_count": null,
   "id": "7",
   "metadata": {},
   "outputs": [],
   "source": [
    "# random data\n",
    "nikl_normal_conversation_df.sample(20)"
   ]
  },
  {
   "cell_type": "markdown",
   "id": "8",
   "metadata": {},
   "source": [
    "## 전처리"
   ]
  },
  {
   "cell_type": "code",
   "execution_count": null,
   "id": "9",
   "metadata": {},
   "outputs": [],
   "source": [
    "processed_df = nikl_normal_conversation_df.copy()"
   ]
  },
  {
   "cell_type": "markdown",
   "id": "10",
   "metadata": {},
   "source": [
    "### 10문장 미만 데이터 제거"
   ]
  },
  {
   "cell_type": "code",
   "execution_count": null,
   "id": "11",
   "metadata": {},
   "outputs": [],
   "source": [
    "processed_df[\"conversation_len\"] =\\\n",
    "    processed_df[\"conversation\"].apply(lambda x: len(x.split(\"\\n\")))\n",
    "\n",
    "processed_df = processed_df[processed_df[\"conversation_len\"] >= 10]\n",
    "\n",
    "processed_df"
   ]
  },
  {
   "cell_type": "markdown",
   "id": "12",
   "metadata": {},
   "source": [
    "### 10문장만 데이터 뽑기"
   ]
  },
  {
   "cell_type": "code",
   "execution_count": null,
   "id": "13",
   "metadata": {},
   "outputs": [],
   "source": [
    "def remove_out_of_n(conversation, n):\n",
    "    return \"\\n\".join(conversation.split(\"\\n\")[:n])\n",
    "\n",
    "processed_df[\"conversation\"] = processed_df[\"conversation\"].apply(lambda x: remove_out_of_n(x, n=10))\n",
    "processed_df[\"conversation\"]"
   ]
  },
  {
   "cell_type": "markdown",
   "id": "14",
   "metadata": {},
   "source": [
    "### 주제 별로 1,000개 데이터 뽑기"
   ]
  },
  {
   "cell_type": "code",
   "execution_count": null,
   "id": "15",
   "metadata": {},
   "outputs": [],
   "source": [
    "new_df = pd.DataFrame({\n",
    "    \"topic_type\": [],\n",
    "    \"conversation\": [],\n",
    "    \"conversation_len\": [],\n",
    "})\n",
    "\n",
    "for topic_type, data_num in [\n",
    "    (\"대중교통\", 63),\n",
    "    (\"방송/연예\", 63),\n",
    "    (\"취직\", 63),\n",
    "    (\"건강/다이어트\", 63),\n",
    "    (\"경제/재테크\", 63),\n",
    "    (\"먹거리\", 63),\n",
    "    (\"회사/학교\", 63),\n",
    "    (\"휴가\", 63),\n",
    "    (\"스포츠/레저/취미\", 62),\n",
    "    (\"가족/관혼상제\", 62),\n",
    "    (\"쇼핑\", 62),\n",
    "    (\"생활/주거환경\", 62),\n",
    "    (\"우정\", 62),\n",
    "    (\"반려동물\", 62),\n",
    "    (\"음악\", 62),\n",
    "    (\"기타\", 62),\n",
    "]:\n",
    "    topic_df = processed_df[processed_df[\"topic_type\"] == topic_type]\n",
    "    topic_df = topic_df.iloc[:data_num, :]\n",
    "    new_df = pd.concat([new_df, topic_df], axis=0, ignore_index=True)\n",
    "    \n",
    "new_df"
   ]
  },
  {
   "cell_type": "markdown",
   "id": "16",
   "metadata": {},
   "source": [
    "## 데이터 저장"
   ]
  },
  {
   "cell_type": "code",
   "execution_count": null,
   "id": "17",
   "metadata": {},
   "outputs": [],
   "source": [
    "data_df = new_df[[\"topic_type\", \"conversation\"]]\n",
    "data_df.to_csv(\"data/normal_conversation_nikl.csv\", index=False)"
   ]
  },
  {
   "cell_type": "markdown",
   "id": "18",
   "metadata": {},
   "source": [
    "### train 데이터와 합치기"
   ]
  },
  {
   "cell_type": "code",
   "execution_count": null,
   "id": "19",
   "metadata": {},
   "outputs": [],
   "source": [
    "train_df = pd.read_csv(\"data/train.csv\")\n",
    "train_df"
   ]
  },
  {
   "cell_type": "code",
   "execution_count": null,
   "id": "20",
   "metadata": {},
   "outputs": [],
   "source": [
    "normal_conversation_nikl_df = pd.read_csv(\"data/normal_conversation_nikl.csv\")\n",
    "normal_conversation_nikl_df"
   ]
  },
  {
   "cell_type": "code",
   "execution_count": null,
   "id": "21",
   "metadata": {},
   "outputs": [],
   "source": [
    "curr_idx = train_df[\"idx\"].max() + 1\n",
    "\n",
    "for idx, data in normal_conversation_nikl_df.iterrows():\n",
    "    train_df = train_df.append({\n",
    "        \"idx\": curr_idx,\n",
    "        \"class\": \"일반 대화\",\n",
    "        \"conversation\": data[\"conversation\"],\n",
    "    }, ignore_index=True)\n",
    "\n",
    "    curr_idx += 1\n",
    "    \n",
    "train_df"
   ]
  },
  {
   "cell_type": "code",
   "execution_count": null,
   "id": "22",
   "metadata": {},
   "outputs": [],
   "source": [
    "train_df.to_csv(\"data/train_with_normal_nikl.csv\", index=False)"
   ]
  },
  {
   "cell_type": "code",
   "execution_count": null,
   "id": "23",
   "metadata": {},
   "outputs": [],
   "source": [
    "train_with_normal_nikl_df = pd.read_csv(\"data/train_with_normal_nikl.csv\")\n",
    "train_with_normal_nikl_df"
   ]
  },
  {
   "cell_type": "code",
   "execution_count": null,
   "id": "24",
   "metadata": {},
   "outputs": [],
   "source": [
    "train_with_normal_nikl_df[\"class\"].value_counts()"
   ]
  },
  {
   "cell_type": "code",
   "execution_count": null,
   "id": "25",
   "metadata": {},
   "outputs": [],
   "source": []
  }
 ],
 "metadata": {
  "kernelspec": {
   "display_name": "Python 3 (ipykernel)",
   "language": "python",
   "name": "python3"
  },
  "language_info": {
   "codemirror_mode": {
    "name": "ipython",
    "version": 3
   },
   "file_extension": ".py",
   "mimetype": "text/x-python",
   "name": "python",
   "nbconvert_exporter": "python",
   "pygments_lexer": "ipython3",
   "version": "3.9.7"
  }
 },
 "nbformat": 4,
 "nbformat_minor": 5
}
