{
 "cells": [
  {
   "cell_type": "markdown",
   "id": "0",
   "metadata": {},
   "source": [
    "# 프로젝트 2 : 날씨 좋은 월요일 오후 세 시, 자전거 타는 사람은 몇 명?"
   ]
  },
  {
   "cell_type": "markdown",
   "id": "1",
   "metadata": {},
   "source": [
    "## (1) 데이터 가져오기\n",
    "---\n",
    "- 터미널에서 ~/data/data/bike-sharing-demand 경로에 train.csv 데이터를 train 변수로 가져 옵니다.\n",
    "- 여기에서 데이터를 상세히 확인할 수 있습니다."
   ]
  },
  {
   "cell_type": "code",
   "execution_count": null,
   "id": "2",
   "metadata": {},
   "outputs": [],
   "source": [
    "# 데이터 불러오기\n",
    "import pandas as pd\n",
    "\n",
    "train = pd.read_csv('~/data/data/bike-sharing-demand/train.csv')\n",
    "print(train.shape)\n",
    "train.head()"
   ]
  },
  {
   "cell_type": "markdown",
   "id": "3",
   "metadata": {},
   "source": [
    "## (2) datetime 컬럼을 datetime 자료형으로 변환하고 연, 월, 일, 시, 분, 초까지 6가지 컬럼 생성하기\n",
    "---\n",
    "- to_datetime 활용 : 링크 참조\n",
    "- pandas datetime extract year month day 키워드로 검색해 보기"
   ]
  },
  {
   "cell_type": "code",
   "execution_count": null,
   "id": "4",
   "metadata": {},
   "outputs": [],
   "source": [
    "# datetime 자료형 변경\n",
    "train['datetime'] = pd.to_datetime(train['datetime'])\n",
    "train.info()"
   ]
  },
  {
   "cell_type": "code",
   "execution_count": null,
   "id": "5",
   "metadata": {},
   "outputs": [],
   "source": [
    "# 6개의 속성 추가\n",
    "time_attrs = ['year', 'month', 'day', 'hour', 'minute', 'second']\n",
    "\n",
    "for i in time_attrs:\n",
    "    train[i] = getattr(train['datetime'].dt, i)\n",
    "    \n",
    "train.info()"
   ]
  },
  {
   "cell_type": "markdown",
   "id": "6",
   "metadata": {},
   "source": [
    "## (3) year, month, day, hour, minute, second 데이터 개수 시각화하기\n",
    "---\n",
    "- sns.countplot 활용해서 시각화하기\n",
    "- subplot을 활용해서 한 번에 6개의 그래프 함께 시각화하기"
   ]
  },
  {
   "cell_type": "code",
   "execution_count": null,
   "id": "7",
   "metadata": {},
   "outputs": [],
   "source": [
    "import matplotlib.pyplot as plt\n",
    "import seaborn as sns\n",
    "\n",
    "plt.figure(figsize=(12, 6))\n",
    "for i in range(6):\n",
    "    plt.subplot(2,3,i+1)\n",
    "    sns.countplot(x=time_attrs[i], data=train)\n",
    "    plt.title(time_attrs[i])"
   ]
  },
  {
   "cell_type": "markdown",
   "id": "8",
   "metadata": {},
   "source": [
    "## (4) X, y 컬럼 선택 및 train/test 데이터 분리\n",
    "---\n",
    "- X(feature) 에는 어떤 데이터 컬럼을 넣어야 될지 고민해 봅시다 데이터 컬럼을 추가하거나 빼면서 잘 조합하여 데이터를 넣기 바랍니다. 만일 모든 데이터 컬럼(특징)을 넣는다면 오차 값이 말도 안 되게 적게 나올 수도 있습니다. ex) count를 예측하는데 casual,registered 컬럼이 필요할까요?\n",
    "- count 값을 맞추고자 하므로, y 변수에 count 컬럼의 데이터 넣기"
   ]
  },
  {
   "cell_type": "code",
   "execution_count": null,
   "id": "9",
   "metadata": {},
   "outputs": [],
   "source": [
    "train.columns"
   ]
  },
  {
   "cell_type": "code",
   "execution_count": null,
   "id": "10",
   "metadata": {},
   "outputs": [],
   "source": [
    "# 계절 기준 확인\n",
    "# 봄 : 1~3월\n",
    "# 여름 : 4~6월\n",
    "# 가을 : 7~9월\n",
    "# 겨울 : 10~12월\n",
    "print(train[train['season'] == 1].month.unique())\n",
    "print(train[train['season'] == 2].month.unique())\n",
    "print(train[train['season'] == 3].month.unique())\n",
    "print(train[train['season'] == 4].month.unique())"
   ]
  },
  {
   "cell_type": "code",
   "execution_count": null,
   "id": "11",
   "metadata": {},
   "outputs": [],
   "source": [
    "# 시간에 따른 수\n",
    "fig, (ax1) = plt.subplots(1,1)\n",
    "fig.set_size_inches(20, 5)\n",
    "\n",
    "sns.pointplot(data = train, x = 'hour', y = 'count', ax = ax1)"
   ]
  },
  {
   "cell_type": "code",
   "execution_count": null,
   "id": "12",
   "metadata": {},
   "outputs": [],
   "source": [
    "# 시간과 근무일에 따른 수\n",
    "# 근무일에는 출퇴근 시간대에 사용이 많음\n",
    "fig, (ax1) = plt.subplots(1,1)\n",
    "fig.set_size_inches(20, 5)\n",
    "\n",
    "sns.pointplot(data = train, x = 'hour', y = 'count', hue = 'workingday', ax = ax1)"
   ]
  },
  {
   "cell_type": "code",
   "execution_count": null,
   "id": "13",
   "metadata": {},
   "outputs": [],
   "source": [
    "# 시간과 휴일에 따른 수\n",
    "# 휴일에는 시간대별로 낮에는 고르게 사용\n",
    "fig, ax1 = plt.subplots(1,1)\n",
    "fig.set_size_inches(20, 5)\n",
    "\n",
    "sns.pointplot(data = train, x = 'hour', y = 'count', hue = 'holiday', ax = ax1)"
   ]
  },
  {
   "cell_type": "code",
   "execution_count": null,
   "id": "14",
   "metadata": {},
   "outputs": [],
   "source": [
    "# 시간별 날씨에 따른 수\n",
    "# 겨울에는 추위로 인해 거의 사용 없음\n",
    "fig, ax1 = plt.subplots(1,1)\n",
    "fig.set_size_inches(20, 5)\n",
    "\n",
    "sns.pointplot(data = train, x = 'hour', y = 'count', hue = 'weather', ax = ax1)"
   ]
  },
  {
   "cell_type": "code",
   "execution_count": null,
   "id": "15",
   "metadata": {},
   "outputs": [],
   "source": [
    "# temp와 atemp는 거의 동일한 상관관계를 보임\n",
    "corr_data = train[['count', 'season', 'holiday', 'workingday', 'weather', 'temp', 'atemp', 'humidity', 'windspeed', 'month', 'day', 'hour']]\n",
    "fig, ax = plt.subplots(figsize=(20,12))\n",
    "colormap = plt.cm.PuBu\n",
    "\n",
    "sns.heatmap(data = corr_data.corr(), ax = ax, linewidths = 0.1, square = True, annot = True, cmap = colormap)\n",
    "\n",
    "plt.show()"
   ]
  },
  {
   "cell_type": "code",
   "execution_count": null,
   "id": "16",
   "metadata": {},
   "outputs": [],
   "source": [
    "fig, (ax1, ax2, ax3) = plt.subplots(ncols = 3, figsize=(12,5))\n",
    "\n",
    "sns.scatterplot(data = train, x = 'windspeed', y = 'count', ax = ax1)\n",
    "sns.scatterplot(data = train, x = 'temp', y = 'count', ax = ax2)\n",
    "sns.scatterplot(data = train, x = 'humidity', y =  'count', ax = ax3)"
   ]
  },
  {
   "cell_type": "code",
   "execution_count": null,
   "id": "17",
   "metadata": {},
   "outputs": [],
   "source": [
    "# 풍속이 0인 데이터를 IQR을 활용해 예측치로 바꿔줍니다.\n",
    "\n",
    "len(train[train['windspeed']==0])\n",
    "\n",
    "fig, (ax1, ax2, ax3, ax4, ax5, ax6) = plt.subplots(nrows = 6, figsize = (12,10))\n",
    "sns.boxplot(data = train, x = 'windspeed', ax = ax1)\n",
    "sns.boxplot(data = train, x = 'humidity', ax = ax2)\n",
    "sns.boxplot(data = train, x = 'temp', ax = ax3)\n",
    "sns.boxplot(data = train, x = 'casual', ax = ax4)\n",
    "sns.boxplot(data = train, x = 'registered', ax = ax5)\n",
    "sns.boxplot(data = train, x = 'count', ax = ax6)"
   ]
  },
  {
   "cell_type": "code",
   "execution_count": null,
   "id": "18",
   "metadata": {},
   "outputs": [],
   "source": [
    "# IQR method\n",
    "import numpy as np\n",
    "from collections import Counter\n",
    "\n",
    "def detect_outliers(data, n, cols):\n",
    "    outlier_indices = []\n",
    "    for col in cols:\n",
    "        Q1 = np.percentile(data[col], 25)\n",
    "        Q3 = np.percentile(data[col], 75)\n",
    "        IQR = Q3 - Q1\n",
    "\n",
    "        outlier_step = 1.5 * IQR\n",
    "\n",
    "        outlier_list_col = data[(data[col] < Q1 - outlier_step) | (data[col] > Q3 + outlier_step)].index\n",
    "        outlier_indices.extend(outlier_list_col)\n",
    "    outlier_indices = Counter(outlier_indices)\n",
    "    multiple_outliers = list(k for k, v in outlier_indices.items() if v > n)\n",
    "\n",
    "    return multiple_outliers\n",
    "\n",
    "Outliers_to_drop = detect_outliers(train, 2, [\"temp\", \"atemp\", \"casual\", \"registered\", \"humidity\", \"windspeed\", \"count\"])\n"
   ]
  },
  {
   "cell_type": "code",
   "execution_count": null,
   "id": "19",
   "metadata": {},
   "outputs": [],
   "source": [
    "train.shape"
   ]
  },
  {
   "cell_type": "code",
   "execution_count": null,
   "id": "20",
   "metadata": {},
   "outputs": [],
   "source": [
    "train = train.drop(Outliers_to_drop, axis = 0).reset_index(drop = True)\n",
    "train.shape"
   ]
  },
  {
   "cell_type": "code",
   "execution_count": null,
   "id": "21",
   "metadata": {},
   "outputs": [],
   "source": [
    "# 왜도, 첨도 확인\n",
    "fig, ax = plt.subplots(1, 1, figsize=(10, 6))\n",
    "\n",
    "graph = sns.histplot(train['count'],\n",
    "                     color='b',\n",
    "                     kde=True,\n",
    "                     label='Skewness: {:.2f}'.format(train['count'].skew()),\n",
    "                     ax=ax)\n",
    "\n",
    "graph.legend(loc='best')\n",
    "\n",
    "print('Skewness (왜도): %f' % train['count'].skew())\n",
    "print('Kurtosis (첨도): %f' % train['count'].kurt())"
   ]
  },
  {
   "cell_type": "code",
   "execution_count": null,
   "id": "22",
   "metadata": {},
   "outputs": [],
   "source": [
    "# 람다를 통해 'count_log' 생성\n",
    "\n",
    "train['count_log'] = train['count'].map(lambda i: np.log(i) if i > 0 else 0)\n",
    "\n",
    "fig, ax = plt.subplots(1, 1, figsize=(10, 6))\n",
    "graph = sns.histplot(train['count_log'], color='b', label='Skewness: {:.2f}'.format(train['count_log'].skew()), kde=True)\n",
    "graph.legend(loc='best')\n",
    "\n",
    "print(\"Skewness (왜도): %f\" % train['count_log'].skew())\n",
    "print(\"Kurtosis (첨도): %f\" % train['count_log'].kurt())\n",
    "\n",
    "# drop 'count'\n",
    "train.drop('count', axis=1, inplace=True)"
   ]
  },
  {
   "cell_type": "code",
   "execution_count": null,
   "id": "23",
   "metadata": {},
   "outputs": [],
   "source": [
    "from sklearn.ensemble import RandomForestClassifier\n",
    "\n",
    "def predict_windspeed(data):\n",
    "    wind0 = data.loc[data['windspeed'] == 0]\n",
    "    windnot0 = data.loc[data['windspeed'] != 0]\n",
    "\n",
    "    # Predict 'windspeed' using weather variables\n",
    "    col = ['season', 'weather', 'temp', 'humidity', 'atemp', 'day']\n",
    "\n",
    "    windnot0['windspeed'] = windnot0['windspeed'].astype('str')\n",
    "\n",
    "    rf = RandomForestClassifier()\n",
    "    # Fit 'windspeed!=0'\n",
    "    # model.fit(X_train, Y_train)\n",
    "    rf.fit(windnot0[col], windnot0['windspeed'])\n",
    "\n",
    "    # Predict where 'windspeed!=0'\n",
    "    # model.predict(X_test)\n",
    "    pred_wind0 = rf.predict(X=wind0[col])\n",
    "\n",
    "    # Change value of 'wind0' to 'pred_wind0'\n",
    "    wind0['windspeed'] = pred_wind0\n",
    "\n",
    "    # Combine 'windnot0' & 'wind0'\n",
    "    data = windnot0.append(wind0)\n",
    "    data['windspeed'] = data['windspeed'].astype('float')\n",
    "\n",
    "    data.reset_index(inplace=True, drop=True)\n",
    "\n",
    "    return data\n"
   ]
  },
  {
   "cell_type": "code",
   "execution_count": null,
   "id": "24",
   "metadata": {},
   "outputs": [],
   "source": [
    "# 예측 풍속 추가\n",
    "train = predict_windspeed(train)"
   ]
  },
  {
   "cell_type": "code",
   "execution_count": null,
   "id": "25",
   "metadata": {},
   "outputs": [],
   "source": [
    "train[train['windspeed'] == 0.0]"
   ]
  },
  {
   "cell_type": "code",
   "execution_count": null,
   "id": "26",
   "metadata": {},
   "outputs": [],
   "source": [
    "from sklearn.model_selection import train_test_split\n",
    "\n",
    "X_train, X_test, y_train, y_test = train_test_split(train.drop('count', axis=1), train['count'], test_size=0.2)"
   ]
  },
  {
   "cell_type": "code",
   "execution_count": null,
   "id": "27",
   "metadata": {},
   "outputs": [],
   "source": [
    "fig, (ax1, ax2) = plt.subplots(2,1)\n",
    "fig.set_size_inches(20,15)\n",
    "\n",
    "sns.countplot(data = X_train, x = 'windspeed', ax = ax1)\n",
    "sns.countplot(data = X_test, x = 'windspeed', ax = ax2)"
   ]
  },
  {
   "cell_type": "markdown",
   "id": "28",
   "metadata": {},
   "source": [
    "- <b> test data에 대한 시각화는 진행하지 않는 것이 좋습니다 (정보 유출 관련 내용과 관련이 있습니다.</b>"
   ]
  },
  {
   "cell_type": "code",
   "execution_count": null,
   "id": "29",
   "metadata": {},
   "outputs": [],
   "source": [
    "### 여기에 test data에서 weather 4를 3으로 처리해주는 전처리를 추가하거나\n",
    "### train data에 weather 4 피처를 추가해주신다면 잘 돌아갈 것 같습니다"
   ]
  },
  {
   "cell_type": "code",
   "execution_count": null,
   "id": "30",
   "metadata": {},
   "outputs": [],
   "source": [
    "# One-hot encoding\n",
    "\n",
    "X_train = pd.get_dummies(X_train, columns = ['weather'], prefix = 'weather')\n",
    "X_test = pd.get_dummies(X_test, columns = ['weather'], prefix = 'weather')\n",
    "\n",
    "X_train = pd.get_dummies(X_train, columns = ['season'], prefix = 'season')\n",
    "X_test = pd.get_dummies(X_test, columns = ['season'], prefix = 'season')"
   ]
  },
  {
   "cell_type": "code",
   "execution_count": null,
   "id": "31",
   "metadata": {},
   "outputs": [],
   "source": [
    "X_train.drop('datetime', axis = 1, inplace=True)\n",
    "X_train.columns"
   ]
  },
  {
   "cell_type": "code",
   "execution_count": null,
   "id": "32",
   "metadata": {},
   "outputs": [],
   "source": [
    "X_test.drop('datetime', axis = 1, inplace=True)\n",
    "X_test.columns"
   ]
  },
  {
   "cell_type": "markdown",
   "id": "33",
   "metadata": {},
   "source": [
    "## (5) LinearRegression 모델 학습\n",
    "---\n",
    "- sklearn의 LinearRegression 모델 불러오기 및 학습하기"
   ]
  },
  {
   "cell_type": "code",
   "execution_count": null,
   "id": "34",
   "metadata": {},
   "outputs": [],
   "source": [
    "from sklearn.linear_model import LinearRegression\n",
    "\n",
    "lr_model = LinearRegression()\n",
    "\n",
    "lr_model.fit(X_train, y_train)"
   ]
  },
  {
   "cell_type": "markdown",
   "id": "35",
   "metadata": {},
   "source": [
    "## (6) 학습된 모델로 X_test에 대한 예측값 출력 및 손실함수값 계산\n",
    "---\n",
    "- 학습된 모델에 X_test를 입력해서 예측값 출력하기\n",
    "- 모델이 예측한 값과 정답 target 간의 손실함수 값 계산하기\n",
    "- mse 값과 함께 rmse 값도 계산하기"
   ]
  },
  {
   "cell_type": "code",
   "execution_count": null,
   "id": "36",
   "metadata": {},
   "outputs": [],
   "source": [
    "y_pred = lr_model.predict(X_test)"
   ]
  },
  {
   "cell_type": "code",
   "execution_count": null,
   "id": "37",
   "metadata": {},
   "outputs": [],
   "source": [
    "mse = ((y_pred - y_test) ** 2).mean()\n",
    "rmse = np.sqrt(mse)"
   ]
  },
  {
   "cell_type": "markdown",
   "id": "38",
   "metadata": {},
   "source": [
    "## (7) x축은 temp 또는 humidity로, y축은 count로 예측 결과 시각화하기\n",
    "---\n",
    "- x축에 X 데이터 중 temp 데이터를, y축에는 count 데이터를 넣어서 시각화하기\n",
    "- x축에 X 데이터 중 humidity 데이터를, y축에는 count 데이터를 넣어서 시각화하기"
   ]
  },
  {
   "cell_type": "markdown",
   "id": "39",
   "metadata": {},
   "source": [
    "# 회고, 정리\n",
    "---\n",
    "배운 점 : 데이터 분류가 다양해지고 여러 속성들을 다룰 수록 정리가 되지 않는 느낌이 들었다. 또 시간 분배를 잘 해야한다고 느꼈다.\n",
    "아쉬운 점 : 막히는 부분이 있어서 진도를 아예 나가지 못한 점이 아쉽다. 어느정도 막혔으면 빠르게 팀원이나 퍼실분께 질문을 던져보는 것도 좋은 방법이었을 것 같다.\n",
    "느낀 점 : 공부가 더 필요하다.\n",
    "어려웠던 점 : 내 주관과 생각의 방향으로 데이터를 다루는 것이 아직은 어려운 것 같다."
   ]
  }
 ],
 "metadata": {
  "kernelspec": {
   "display_name": "Python 3 (ipykernel)",
   "language": "python",
   "name": "python3"
  },
  "language_info": {
   "codemirror_mode": {
    "name": "ipython",
    "version": 3
   },
   "file_extension": ".py",
   "mimetype": "text/x-python",
   "name": "python",
   "nbconvert_exporter": "python",
   "pygments_lexer": "ipython3",
   "version": "3.9.7"
  }
 },
 "nbformat": 4,
 "nbformat_minor": 5
}
