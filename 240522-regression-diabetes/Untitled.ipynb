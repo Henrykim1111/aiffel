{
 "cells": [
  {
   "cell_type": "markdown",
   "id": "c86da6d1",
   "metadata": {},
   "source": [
    "# 프로젝트 1: 손수 설계하는 선형회귀, 당뇨병 수치를 맞춰보자!"
   ]
  },
  {
   "cell_type": "markdown",
   "id": "8f86b863",
   "metadata": {},
   "source": [
    "## (1) 데이터 가져오기\n",
    "---\n",
    "- sklearn.datasets의 load_diabetes에서 데이터를 가져와주세요.\n",
    "- diabetes의 data를 df_X에, target을 df_y에 저장해주세요."
   ]
  },
  {
   "cell_type": "code",
   "execution_count": 1,
   "id": "5461a923",
   "metadata": {},
   "outputs": [],
   "source": [
    "# 사이킷런에서 데이터 불러오기\n",
    "from sklearn.datasets import load_diabetes\n",
    "\n",
    "diabetes=load_diabetes()"
   ]
  },
  {
   "cell_type": "code",
   "execution_count": 18,
   "id": "4524114a",
   "metadata": {},
   "outputs": [],
   "source": [
    "# data와 target 받아오기 및 확인\n",
    "df_X=diabetes.data\n",
    "df_y=diabetes.target"
   ]
  },
  {
   "cell_type": "code",
   "execution_count": 24,
   "id": "e6a90653",
   "metadata": {},
   "outputs": [
    {
     "name": "stdout",
     "output_type": "stream",
     "text": [
      "(442, 10)\n"
     ]
    }
   ],
   "source": [
    "# 데이터 확인\n",
    "print(df_X.shape)"
   ]
  },
  {
   "cell_type": "code",
   "execution_count": 23,
   "id": "22d09b53",
   "metadata": {},
   "outputs": [
    {
     "name": "stdout",
     "output_type": "stream",
     "text": [
      "(442,)\n"
     ]
    }
   ],
   "source": [
    "print(df_y.shape)"
   ]
  },
  {
   "cell_type": "code",
   "execution_count": 31,
   "id": "0e1c2cd8",
   "metadata": {},
   "outputs": [
    {
     "data": {
      "text/plain": [
       "['age', 'sex', 'bmi', 'bp', 's1', 's2', 's3', 's4', 's5', 's6']"
      ]
     },
     "execution_count": 31,
     "metadata": {},
     "output_type": "execute_result"
    }
   ],
   "source": [
    "diabetes[\"feature_names\"]"
   ]
  },
  {
   "cell_type": "code",
   "execution_count": 27,
   "id": "f18295db",
   "metadata": {},
   "outputs": [
    {
     "data": {
      "text/plain": [
       "array([ 0.03807591,  0.05068012,  0.06169621,  0.02187235, -0.0442235 ,\n",
       "       -0.03482076, -0.04340085, -0.00259226,  0.01990842, -0.01764613])"
      ]
     },
     "execution_count": 27,
     "metadata": {},
     "output_type": "execute_result"
    }
   ],
   "source": [
    "df_X[0]"
   ]
  },
  {
   "cell_type": "code",
   "execution_count": 28,
   "id": "876ff9f2",
   "metadata": {},
   "outputs": [
    {
     "data": {
      "text/plain": [
       "151.0"
      ]
     },
     "execution_count": 28,
     "metadata": {},
     "output_type": "execute_result"
    }
   ],
   "source": [
    "df_y[0]"
   ]
  },
  {
   "cell_type": "markdown",
   "id": "6a83c5d3",
   "metadata": {},
   "source": [
    "## (2) 모델에 입력할 데이터 X 준비하기\n",
    "---\n",
    "- df_X에 있는 값들을 numpy array로 변환해서 저장해주세요."
   ]
  },
  {
   "cell_type": "code",
   "execution_count": 29,
   "id": "fd53c475",
   "metadata": {},
   "outputs": [
    {
     "data": {
      "text/plain": [
       "(442, 10)"
      ]
     },
     "execution_count": 29,
     "metadata": {},
     "output_type": "execute_result"
    }
   ],
   "source": [
    "import numpy as np\n",
    "\n",
    "X = np.array(df_X)\n",
    "X.shape"
   ]
  },
  {
   "cell_type": "markdown",
   "id": "0f88978f",
   "metadata": {},
   "source": [
    "## (3) 모델에 예측할 데이터 y 준비하기\n",
    "---\n",
    "- df_y에 있는 값들을 numpy array로 변환해서 저장해주세요."
   ]
  },
  {
   "cell_type": "code",
   "execution_count": 30,
   "id": "543d9ed9",
   "metadata": {},
   "outputs": [
    {
     "data": {
      "text/plain": [
       "(442,)"
      ]
     },
     "execution_count": 30,
     "metadata": {},
     "output_type": "execute_result"
    }
   ],
   "source": [
    "y = np.array(df_y)\n",
    "y.shape"
   ]
  },
  {
   "cell_type": "markdown",
   "id": "e9d09f13",
   "metadata": {},
   "source": [
    "## (4) train 데이터와 test 데이터로 분리하기\n",
    "---\n",
    "- X와 y 데이터를 각각 train 데이터와 test 데이터로 분리해주세요."
   ]
  },
  {
   "cell_type": "code",
   "execution_count": 32,
   "id": "70c3d143",
   "metadata": {},
   "outputs": [
    {
     "data": {
      "text/plain": [
       "(442, 353, 89)"
      ]
     },
     "execution_count": 32,
     "metadata": {},
     "output_type": "execute_result"
    }
   ],
   "source": [
    "from sklearn.model_selection import train_test_split\n",
    "\n",
    "# train : test = 8:2\n",
    "X_train, X_test, y_train, y_test = train_test_split(X, y, test_size=0.2, random_state=123)\n",
    "\n",
    "len(X), len(X_train), len(X_test)"
   ]
  },
  {
   "cell_type": "markdown",
   "id": "3ef6440f",
   "metadata": {},
   "source": [
    "## (5) 모델 준비하기\n",
    "---\n",
    "- 입력 데이터 개수에 맞는 가중치 W와 b를 준비해주세요.\n",
    "- 모델 함수를 구현해주세요."
   ]
  },
  {
   "cell_type": "code",
   "execution_count": 45,
   "id": "5a27e4fe",
   "metadata": {},
   "outputs": [],
   "source": [
    "W = np.random.rand(10)\n",
    "b = np.random.rand()"
   ]
  },
  {
   "cell_type": "code",
   "execution_count": 47,
   "id": "a5e42165",
   "metadata": {},
   "outputs": [],
   "source": [
    "def model(X, W, b):\n",
    "    predictions = 0\n",
    "    for i in range(10):\n",
    "        predictions += X[i] * W[i]\n",
    "    predictions += b\n",
    "    return predictions"
   ]
  },
  {
   "cell_type": "markdown",
   "id": "965c9e37",
   "metadata": {},
   "source": [
    "## (6) 손실함수 loss 정의하기\n",
    "---\n",
    "- 손실함수를 MSE 함수로 정의해주세요."
   ]
  },
  {
   "cell_type": "code",
   "execution_count": 50,
   "id": "67611e4c",
   "metadata": {},
   "outputs": [],
   "source": [
    "def MSE(y, y_pred):\n",
    "    mse = ((y - y_pred) ** 2).mean()\n",
    "    return mse\n",
    "\n",
    "def loss(X, W, b, y):\n",
    "    y_pred = model(X, W, b)\n",
    "    L = MSE(y, y_pred)\n",
    "    return L"
   ]
  },
  {
   "cell_type": "markdown",
   "id": "f04ebcf4",
   "metadata": {},
   "source": [
    "## (7) 기울기를 구하는 gradient 함수 구현하기\n",
    "---\n",
    "- 기울기를 계산하는 gradient 함수를 구현해주세요."
   ]
  },
  {
   "cell_type": "code",
   "execution_count": 51,
   "id": "883f2676",
   "metadata": {},
   "outputs": [],
   "source": [
    "def gradient(X, W, b, y):\n",
    "    N = len(y)\n",
    "    \n",
    "    y_pred = model(X, W, b)\n",
    "    \n",
    "    dW = 1/N * 2 * X.T.dot(y_pred - y)\n",
    "    db = 2 * (y_pred - y).mean()\n",
    "    return dW, db\n",
    "    "
   ]
  },
  {
   "cell_type": "code",
   "execution_count": null,
   "id": "1dc68fd7",
   "metadata": {},
   "outputs": [],
   "source": []
  },
  {
   "cell_type": "code",
   "execution_count": null,
   "id": "af1eb47a",
   "metadata": {},
   "outputs": [],
   "source": []
  },
  {
   "cell_type": "code",
   "execution_count": null,
   "id": "bfb6281a",
   "metadata": {},
   "outputs": [],
   "source": []
  },
  {
   "cell_type": "code",
   "execution_count": null,
   "id": "b79dc0f5",
   "metadata": {},
   "outputs": [],
   "source": []
  },
  {
   "cell_type": "code",
   "execution_count": null,
   "id": "d2155499",
   "metadata": {},
   "outputs": [],
   "source": []
  },
  {
   "cell_type": "code",
   "execution_count": null,
   "id": "2fe7f1ab",
   "metadata": {},
   "outputs": [],
   "source": []
  }
 ],
 "metadata": {
  "kernelspec": {
   "display_name": "Python 3 (ipykernel)",
   "language": "python",
   "name": "python3"
  },
  "language_info": {
   "codemirror_mode": {
    "name": "ipython",
    "version": 3
   },
   "file_extension": ".py",
   "mimetype": "text/x-python",
   "name": "python",
   "nbconvert_exporter": "python",
   "pygments_lexer": "ipython3",
   "version": "3.9.7"
  }
 },
 "nbformat": 4,
 "nbformat_minor": 5
}
