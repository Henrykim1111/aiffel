{
 "cells": [
  {
   "cell_type": "markdown",
   "id": "eff75355",
   "metadata": {},
   "source": [
    "# 프로젝트 1: 손수 설계하는 선형회귀, 당뇨병 수치를 맞춰보자!"
   ]
  },
  {
   "cell_type": "markdown",
   "id": "ee03e1be",
   "metadata": {},
   "source": [
    "## (1) 데이터 가져오기\n",
    "---\n",
    "- sklearn.datasets의 load_diabetes에서 데이터를 가져와주세요.\n",
    "- diabetes의 data를 df_X에, target을 df_y에 저장해주세요."
   ]
  },
  {
   "cell_type": "code",
   "execution_count": 1,
   "id": "a4246b37",
   "metadata": {},
   "outputs": [],
   "source": [
    "# 사이킷런에서 데이터 불러오기\n",
    "from sklearn.datasets import load_diabetes\n",
    "\n",
    "diabetes=load_diabetes()"
   ]
  },
  {
   "cell_type": "code",
   "execution_count": 18,
   "id": "774d8002",
   "metadata": {},
   "outputs": [],
   "source": [
    "# data와 target 받아오기 및 확인\n",
    "df_X=diabetes.data\n",
    "df_y=diabetes.target"
   ]
  },
  {
   "cell_type": "code",
   "execution_count": 24,
   "id": "7b53747f",
   "metadata": {},
   "outputs": [
    {
     "name": "stdout",
     "output_type": "stream",
     "text": [
      "(442, 10)\n"
     ]
    }
   ],
   "source": [
    "# 데이터 확인\n",
    "print(df_X.shape)"
   ]
  },
  {
   "cell_type": "code",
   "execution_count": 23,
   "id": "7ebf14db",
   "metadata": {},
   "outputs": [
    {
     "name": "stdout",
     "output_type": "stream",
     "text": [
      "(442,)\n"
     ]
    }
   ],
   "source": [
    "print(df_y.shape)"
   ]
  },
  {
   "cell_type": "code",
   "execution_count": 31,
   "id": "be629ca5",
   "metadata": {},
   "outputs": [
    {
     "data": {
      "text/plain": [
       "['age', 'sex', 'bmi', 'bp', 's1', 's2', 's3', 's4', 's5', 's6']"
      ]
     },
     "execution_count": 31,
     "metadata": {},
     "output_type": "execute_result"
    }
   ],
   "source": [
    "diabetes[\"feature_names\"]"
   ]
  },
  {
   "cell_type": "code",
   "execution_count": 27,
   "id": "25110fde",
   "metadata": {},
   "outputs": [
    {
     "data": {
      "text/plain": [
       "array([ 0.03807591,  0.05068012,  0.06169621,  0.02187235, -0.0442235 ,\n",
       "       -0.03482076, -0.04340085, -0.00259226,  0.01990842, -0.01764613])"
      ]
     },
     "execution_count": 27,
     "metadata": {},
     "output_type": "execute_result"
    }
   ],
   "source": [
    "df_X[0]"
   ]
  },
  {
   "cell_type": "code",
   "execution_count": 28,
   "id": "4ba0b924",
   "metadata": {},
   "outputs": [
    {
     "data": {
      "text/plain": [
       "151.0"
      ]
     },
     "execution_count": 28,
     "metadata": {},
     "output_type": "execute_result"
    }
   ],
   "source": [
    "df_y[0]"
   ]
  },
  {
   "cell_type": "markdown",
   "id": "e3ce712d",
   "metadata": {},
   "source": [
    "## (2) 모델에 입력할 데이터 X 준비하기\n",
    "---\n",
    "- df_X에 있는 값들을 numpy array로 변환해서 저장해주세요."
   ]
  },
  {
   "cell_type": "code",
   "execution_count": 29,
   "id": "1a5c623d",
   "metadata": {},
   "outputs": [
    {
     "data": {
      "text/plain": [
       "(442, 10)"
      ]
     },
     "execution_count": 29,
     "metadata": {},
     "output_type": "execute_result"
    }
   ],
   "source": [
    "import numpy as np\n",
    "\n",
    "X = np.array(df_X)\n",
    "X.shape"
   ]
  },
  {
   "cell_type": "markdown",
   "id": "d6d4c66a",
   "metadata": {},
   "source": [
    "## (3) 모델에 예측할 데이터 y 준비하기\n",
    "---\n",
    "- df_y에 있는 값들을 numpy array로 변환해서 저장해주세요."
   ]
  },
  {
   "cell_type": "code",
   "execution_count": 30,
   "id": "493d9965",
   "metadata": {},
   "outputs": [
    {
     "data": {
      "text/plain": [
       "(442,)"
      ]
     },
     "execution_count": 30,
     "metadata": {},
     "output_type": "execute_result"
    }
   ],
   "source": [
    "y = np.array(df_y)\n",
    "y.shape"
   ]
  },
  {
   "cell_type": "markdown",
   "id": "6313b786",
   "metadata": {},
   "source": [
    "## (4) train 데이터와 test 데이터로 분리하기\n",
    "---\n",
    "- X와 y 데이터를 각각 train 데이터와 test 데이터로 분리해주세요."
   ]
  },
  {
   "cell_type": "code",
   "execution_count": 79,
   "id": "3a5dfb2b",
   "metadata": {},
   "outputs": [
    {
     "data": {
      "text/plain": [
       "(442, 353, 89)"
      ]
     },
     "execution_count": 79,
     "metadata": {},
     "output_type": "execute_result"
    }
   ],
   "source": [
    "from sklearn.model_selection import train_test_split\n",
    "\n",
    "# train : test = 8:2\n",
    "X_train, X_test, y_train, y_test = train_test_split(X, y, test_size=0.2, random_state=123)\n",
    "\n",
    "len(X), len(X_train), len(X_test)"
   ]
  },
  {
   "cell_type": "markdown",
   "id": "0b68139d",
   "metadata": {},
   "source": [
    "## (5) 모델 준비하기\n",
    "---\n",
    "- 입력 데이터 개수에 맞는 가중치 W와 b를 준비해주세요.\n",
    "- 모델 함수를 구현해주세요."
   ]
  },
  {
   "cell_type": "code",
   "execution_count": 65,
   "id": "80cf99de",
   "metadata": {},
   "outputs": [],
   "source": [
    "W = np.random.rand(10)\n",
    "b = np.random.rand()"
   ]
  },
  {
   "cell_type": "code",
   "execution_count": 102,
   "id": "ebc84320",
   "metadata": {},
   "outputs": [],
   "source": [
    "def model(X, W, b):\n",
    "    return np.dot(X, W) + b"
   ]
  },
  {
   "cell_type": "markdown",
   "id": "73acd2bc",
   "metadata": {},
   "source": [
    "## (6) 손실함수 loss 정의하기\n",
    "---\n",
    "- 손실함수를 MSE 함수로 정의해주세요."
   ]
  },
  {
   "cell_type": "code",
   "execution_count": 50,
   "id": "56e494d1",
   "metadata": {},
   "outputs": [],
   "source": [
    "def MSE(y, y_pred):\n",
    "    mse = ((y - y_pred) ** 2).mean()\n",
    "    return mse\n",
    "\n",
    "def loss(X, W, b, y):\n",
    "    y_pred = model(X, W, b)\n",
    "    L = MSE(y, y_pred)\n",
    "    return L"
   ]
  },
  {
   "cell_type": "markdown",
   "id": "ba5db4c3",
   "metadata": {},
   "source": [
    "## (7) 기울기를 구하는 gradient 함수 구현하기\n",
    "---\n",
    "- 기울기를 계산하는 gradient 함수를 구현해주세요."
   ]
  },
  {
   "cell_type": "code",
   "execution_count": 103,
   "id": "8c3d0508",
   "metadata": {},
   "outputs": [],
   "source": [
    "def gradient(X, W, b, y):\n",
    "    N = len(y)\n",
    "    \n",
    "    y_pred = model(X, W, b)\n",
    "    \n",
    "    dW = 1/N * 2 * X.T.dot(y_pred - y)\n",
    "    db = 2 * (y_pred - y).mean()\n",
    "    return dW, db"
   ]
  },
  {
   "cell_type": "markdown",
   "id": "04b7d0c0",
   "metadata": {},
   "source": [
    "## (8) 하이퍼파라미터인 학습률 설정하기\n",
    "---\n",
    "- 학습률, learning rate 를 설정해주세요\n",
    "- 만약 학습이 잘 되지 않는다면 learning rate 값을 한번 여러 가지로 설정하며 실험해 보세요."
   ]
  },
  {
   "cell_type": "code",
   "execution_count": 91,
   "id": "2b403980",
   "metadata": {},
   "outputs": [],
   "source": [
    "LEARNING_RATE = 0.01"
   ]
  },
  {
   "cell_type": "markdown",
   "id": "06d84cd7",
   "metadata": {},
   "source": [
    "## (9) 모델 학습하기\n",
    "---\n",
    "- 정의된 손실함수와 기울기 함수로 모델을 학습해주세요.\n",
    "- loss값이 충분히 떨어질 때까지 학습을 진행해주세요.\n",
    "- 입력하는 데이터인 X에 들어가는 특성 컬럼들을 몇 개 빼도 괜찮습니다. 다양한 데이터로 실험해 보세요."
   ]
  },
  {
   "cell_type": "code",
   "execution_count": 120,
   "id": "ddc5c92e",
   "metadata": {},
   "outputs": [
    {
     "name": "stdout",
     "output_type": "stream",
     "text": [
      "Iteration 0 : Loss 2928.9663\n",
      "Iteration 500 : Loss 2928.9579\n",
      "Iteration 1000 : Loss 2928.9495\n",
      "Iteration 1500 : Loss 2928.9412\n",
      "Iteration 2000 : Loss 2928.9328\n",
      "Iteration 2500 : Loss 2928.9245\n",
      "Iteration 3000 : Loss 2928.9161\n",
      "Iteration 3500 : Loss 2928.9078\n",
      "Iteration 4000 : Loss 2928.8994\n",
      "Iteration 4500 : Loss 2928.8911\n",
      "Iteration 5000 : Loss 2928.8828\n",
      "Iteration 5500 : Loss 2928.8744\n",
      "Iteration 6000 : Loss 2928.8661\n",
      "Iteration 6500 : Loss 2928.8578\n",
      "Iteration 7000 : Loss 2928.8495\n",
      "Iteration 7500 : Loss 2928.8411\n",
      "Iteration 8000 : Loss 2928.8328\n",
      "Iteration 8500 : Loss 2928.8245\n",
      "Iteration 9000 : Loss 2928.8162\n",
      "Iteration 9500 : Loss 2928.8079\n",
      "Iteration 10000 : Loss 2928.7996\n",
      "Iteration 10500 : Loss 2928.7913\n",
      "Iteration 11000 : Loss 2928.7830\n",
      "Iteration 11500 : Loss 2928.7747\n",
      "Iteration 12000 : Loss 2928.7665\n",
      "Iteration 12500 : Loss 2928.7582\n",
      "Iteration 13000 : Loss 2928.7499\n",
      "Iteration 13500 : Loss 2928.7416\n",
      "Iteration 14000 : Loss 2928.7334\n",
      "Iteration 14500 : Loss 2928.7251\n",
      "Iteration 15000 : Loss 2928.7168\n",
      "Iteration 15500 : Loss 2928.7086\n",
      "Iteration 16000 : Loss 2928.7003\n",
      "Iteration 16500 : Loss 2928.6921\n",
      "Iteration 17000 : Loss 2928.6838\n",
      "Iteration 17500 : Loss 2928.6756\n",
      "Iteration 18000 : Loss 2928.6673\n",
      "Iteration 18500 : Loss 2928.6591\n",
      "Iteration 19000 : Loss 2928.6509\n",
      "Iteration 19500 : Loss 2928.6426\n",
      "Iteration 20000 : Loss 2928.6344\n",
      "Iteration 20500 : Loss 2928.6262\n",
      "Iteration 21000 : Loss 2928.6179\n",
      "Iteration 21500 : Loss 2928.6097\n",
      "Iteration 22000 : Loss 2928.6015\n",
      "Iteration 22500 : Loss 2928.5933\n",
      "Iteration 23000 : Loss 2928.5851\n",
      "Iteration 23500 : Loss 2928.5769\n",
      "Iteration 24000 : Loss 2928.5687\n",
      "Iteration 24500 : Loss 2928.5605\n",
      "Iteration 25000 : Loss 2928.5523\n",
      "Iteration 25500 : Loss 2928.5441\n",
      "Iteration 26000 : Loss 2928.5359\n",
      "Iteration 26500 : Loss 2928.5278\n",
      "Iteration 27000 : Loss 2928.5196\n",
      "Iteration 27500 : Loss 2928.5114\n",
      "Iteration 28000 : Loss 2928.5032\n",
      "Iteration 28500 : Loss 2928.4951\n",
      "Iteration 29000 : Loss 2928.4869\n",
      "Iteration 29500 : Loss 2928.4787\n",
      "Iteration 30000 : Loss 2928.4706\n",
      "Iteration 30500 : Loss 2928.4624\n",
      "Iteration 31000 : Loss 2928.4543\n",
      "Iteration 31500 : Loss 2928.4461\n",
      "Iteration 32000 : Loss 2928.4380\n",
      "Iteration 32500 : Loss 2928.4298\n",
      "Iteration 33000 : Loss 2928.4217\n",
      "Iteration 33500 : Loss 2928.4136\n",
      "Iteration 34000 : Loss 2928.4054\n",
      "Iteration 34500 : Loss 2928.3973\n",
      "Iteration 35000 : Loss 2928.3892\n",
      "Iteration 35500 : Loss 2928.3811\n",
      "Iteration 36000 : Loss 2928.3730\n",
      "Iteration 36500 : Loss 2928.3649\n",
      "Iteration 37000 : Loss 2928.3567\n",
      "Iteration 37500 : Loss 2928.3486\n",
      "Iteration 38000 : Loss 2928.3405\n",
      "Iteration 38500 : Loss 2928.3324\n",
      "Iteration 39000 : Loss 2928.3243\n",
      "Iteration 39500 : Loss 2928.3163\n",
      "Iteration 40000 : Loss 2928.3082\n",
      "Iteration 40500 : Loss 2928.3001\n",
      "Iteration 41000 : Loss 2928.2920\n",
      "Iteration 41500 : Loss 2928.2839\n",
      "Iteration 42000 : Loss 2928.2758\n",
      "Iteration 42500 : Loss 2928.2678\n",
      "Iteration 43000 : Loss 2928.2597\n",
      "Iteration 43500 : Loss 2928.2516\n",
      "Iteration 44000 : Loss 2928.2436\n",
      "Iteration 44500 : Loss 2928.2355\n",
      "Iteration 45000 : Loss 2928.2275\n",
      "Iteration 45500 : Loss 2928.2194\n",
      "Iteration 46000 : Loss 2928.2114\n",
      "Iteration 46500 : Loss 2928.2033\n",
      "Iteration 47000 : Loss 2928.1953\n",
      "Iteration 47500 : Loss 2928.1873\n",
      "Iteration 48000 : Loss 2928.1792\n",
      "Iteration 48500 : Loss 2928.1712\n",
      "Iteration 49000 : Loss 2928.1632\n",
      "Iteration 49500 : Loss 2928.1552\n"
     ]
    }
   ],
   "source": [
    "losses = []\n",
    "epochs = 50000\n",
    "\n",
    "for i in range(epochs):\n",
    "    dW, db = gradient(X_train, W, b, y_train)\n",
    "    W -= LEARNING_RATE * dW\n",
    "    b -= LEARNING_RATE * db\n",
    "    L = loss(X_train, W, b, y_train)\n",
    "    losses.append(L)\n",
    "    if i % 500 == 0:\n",
    "        print('Iteration %d : Loss %0.4f' % (i, L))"
   ]
  },
  {
   "cell_type": "markdown",
   "id": "911cc505",
   "metadata": {},
   "source": [
    "## (10) test 데이터에 대한 성능 확인하기\n",
    "---\n",
    "- test 데이터에 대한 성능을 확인해주세요."
   ]
  },
  {
   "cell_type": "code",
   "execution_count": 122,
   "id": "71705bd0",
   "metadata": {},
   "outputs": [
    {
     "data": {
      "text/plain": [
       "(array([  -0.93135204, -219.75731333,  513.79826781,  289.49776231,\n",
       "        -144.97564849,  -72.4252683 , -171.15846872,  165.29570702,\n",
       "         438.46853918,  113.39630614]),\n",
       " 152.0245389640391)"
      ]
     },
     "execution_count": 122,
     "metadata": {},
     "output_type": "execute_result"
    }
   ],
   "source": [
    "W, b"
   ]
  },
  {
   "cell_type": "code",
   "execution_count": 121,
   "id": "5a58db5b",
   "metadata": {},
   "outputs": [
    {
     "data": {
      "text/plain": [
       "2733.6097160835307"
      ]
     },
     "execution_count": 121,
     "metadata": {},
     "output_type": "execute_result"
    }
   ],
   "source": [
    "prediction = model(X_test, W, b)\n",
    "mse = loss(X_test, W, b, y_test)\n",
    "mse"
   ]
  },
  {
   "cell_type": "code",
   "execution_count": 116,
   "id": "53e2341a",
   "metadata": {},
   "outputs": [
    {
     "data": {
      "text/plain": [
       "[<matplotlib.lines.Line2D at 0x7bf3ddd2f6d0>]"
      ]
     },
     "execution_count": 116,
     "metadata": {},
     "output_type": "execute_result"
    },
    {
     "data": {
      "image/png": "[encoded data removed]",
      "text/plain": [
       "<Figure size 720x216 with 2 Axes>"
      ]
     },
     "metadata": {
      "needs_background": "light"
     },
     "output_type": "display_data"
    }
   ],
   "source": [
    "import pandas as pd\n",
    "import matplotlib.pyplot as plt\n",
    "import seaborn as sns\n",
    "\n",
    "plt.figure(figsize=(10, 3))\n",
    "plt.subplot(1, 2, 1)\n",
    "plt.plot(losses[:200])\n",
    "\n",
    "plt.subplot(1, 2, 2)\n",
    "plt.plot(losses[200:])"
   ]
  },
  {
   "cell_type": "code",
   "execution_count": 123,
   "id": "f8aa4aa4",
   "metadata": {},
   "outputs": [
    {
     "data": {
      "image/png": "[encoded data removed]",
      "text/plain": [
       "<Figure size 432x288 with 1 Axes>"
      ]
     },
     "metadata": {
      "needs_background": "light"
     },
     "output_type": "display_data"
    }
   ],
   "source": [
    "# prediction과 y_test 비교\n",
    "plt.scatter(X_test[:, 0], y_test)\n",
    "plt.scatter(X_test[:, 0], prediction)\n",
    "plt.show()"
   ]
  },
  {
   "cell_type": "code",
   "execution_count": null,
   "id": "c2be6a99",
   "metadata": {},
   "outputs": [],
   "source": []
  },
  {
   "cell_type": "code",
   "execution_count": null,
   "id": "2e175964",
   "metadata": {},
   "outputs": [],
   "source": []
  },
  {
   "cell_type": "code",
   "execution_count": null,
   "id": "8fab3326",
   "metadata": {},
   "outputs": [],
   "source": []
  },
  {
   "cell_type": "code",
   "execution_count": null,
   "id": "c2d04d06",
   "metadata": {},
   "outputs": [],
   "source": []
  },
  {
   "cell_type": "code",
   "execution_count": null,
   "id": "db38de32",
   "metadata": {},
   "outputs": [],
   "source": []
  }
 ],
 "metadata": {
  "kernelspec": {
   "display_name": "Python 3 (ipykernel)",
   "language": "python",
   "name": "python3"
  },
  "language_info": {
   "codemirror_mode": {
    "name": "ipython",
    "version": 3
   },
   "file_extension": ".py",
   "mimetype": "text/x-python",
   "name": "python",
   "nbconvert_exporter": "python",
   "pygments_lexer": "ipython3",
   "version": "3.9.7"
  }
 },
 "nbformat": 4,
 "nbformat_minor": 5
}
