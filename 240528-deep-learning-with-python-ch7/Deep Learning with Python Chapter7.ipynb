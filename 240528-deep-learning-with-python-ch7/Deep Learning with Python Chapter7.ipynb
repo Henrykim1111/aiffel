{
 "cells": [
  {
   "cell_type": "markdown",
   "id": "de03812a",
   "metadata": {},
   "source": [
    "# 7장 케라스 완전 정복"
   ]
  },
  {
   "cell_type": "markdown",
   "id": "17fd2d7a",
   "metadata": {},
   "source": [
    "## 7.1 다양한 워크플로\n",
    "- 케라스 API 설계는 복잡성의 단계적 공개(progressive disclosure) 원칙을 따름\n",
    "\n",
    "\n",
    "## 7.2 케라스 모델을 만드는 여러 방법\n",
    "- Sequential 모델\n",
    "- 함수형 API\n",
    "- Model 서브클래싱\n",
    "\n",
    "### 7.2.1 Sequential 모델\n",
    "---"
   ]
  },
  {
   "cell_type": "code",
   "execution_count": 1,
   "id": "0b2eb051",
   "metadata": {},
   "outputs": [],
   "source": [
    "from tensorflow import keras\n",
    "from tensorflow.keras import layers\n",
    "\n",
    "model = keras.Sequential([\n",
    "    layers.Dense(64, activation=\"relu\"),\n",
    "    layers.Dense(10, activation=\"softmax\")\n",
    "])"
   ]
  },
  {
   "cell_type": "code",
   "execution_count": 2,
   "id": "71140c41",
   "metadata": {},
   "outputs": [],
   "source": [
    "model = keras.Sequential()\n",
    "model.add(layers.Dense(64, activation=\"relu\"))\n",
    "model.add(layers.Dense(10, activation=\"softmax\"))"
   ]
  },
  {
   "cell_type": "code",
   "execution_count": 4,
   "id": "5d29847f",
   "metadata": {},
   "outputs": [
    {
     "data": {
      "text/plain": [
       "[<tf.Variable 'dense_2/kernel:0' shape=(3, 64) dtype=float32, numpy=\n",
       " array([[-0.25431392,  0.20526904, -0.05850653, -0.14174044, -0.06481999,\n",
       "          0.12206724,  0.13848636, -0.16149768,  0.26909208,  0.04543054,\n",
       "         -0.08388923,  0.28449118, -0.27970552,  0.0892607 ,  0.11757743,\n",
       "          0.2739141 , -0.1646362 , -0.15263398,  0.09424075, -0.28604874,\n",
       "         -0.00692514, -0.13341498,  0.23670655,  0.25227922, -0.1878874 ,\n",
       "         -0.12073584, -0.21116449, -0.18090326,  0.26548028,  0.14192495,\n",
       "          0.07007331,  0.02145487,  0.1642487 ,  0.13790444,  0.27503598,\n",
       "          0.07080591,  0.23179805, -0.09857404, -0.06436537,  0.28349382,\n",
       "         -0.12361206, -0.18314299,  0.25516433, -0.14760555, -0.2725556 ,\n",
       "          0.09036046,  0.26657695, -0.03748173, -0.05247854, -0.28152362,\n",
       "         -0.01914993, -0.17830592, -0.1047269 , -0.02181083,  0.15849167,\n",
       "          0.28455305, -0.24769115,  0.12493506, -0.12216264, -0.25890726,\n",
       "         -0.13738033, -0.03646183,  0.00132087, -0.19987825],\n",
       "        [ 0.11866748,  0.00113893, -0.02219734, -0.1455178 ,  0.19203839,\n",
       "          0.21876615,  0.13602486,  0.09682494, -0.2108726 ,  0.0600442 ,\n",
       "          0.12407655, -0.18094714, -0.2652335 ,  0.02336192,  0.00560734,\n",
       "          0.03815234,  0.11311784, -0.04670551,  0.18614367, -0.2975521 ,\n",
       "         -0.02747375, -0.24727656, -0.04628587,  0.07427326, -0.27138728,\n",
       "          0.08165199, -0.1372609 ,  0.03906116, -0.23072875,  0.27633023,\n",
       "          0.24405318,  0.05841362, -0.29259825, -0.05736019, -0.20270845,\n",
       "         -0.2686427 , -0.09640315,  0.22432005, -0.16223885,  0.01989296,\n",
       "          0.2742554 ,  0.02567473, -0.1666362 , -0.24208269,  0.24123865,\n",
       "          0.2520848 ,  0.29287183,  0.05150393, -0.2603255 ,  0.26930386,\n",
       "         -0.13859637,  0.1879848 ,  0.20711279, -0.03142953,  0.2846223 ,\n",
       "         -0.1748986 ,  0.16427067, -0.15891048,  0.21721262, -0.17268775,\n",
       "         -0.15270883, -0.162603  ,  0.00677279, -0.15932958],\n",
       "        [ 0.29189163,  0.24940586,  0.12240535,  0.14168921, -0.2014671 ,\n",
       "          0.15513164, -0.12313554, -0.19820058, -0.24273473,  0.19201684,\n",
       "         -0.14450344,  0.02109009,  0.11542273, -0.20322487,  0.06138048,\n",
       "          0.13651112, -0.28256863, -0.21477638, -0.00866085,  0.02701265,\n",
       "         -0.08536892,  0.12071714, -0.01465261, -0.26616737,  0.04618055,\n",
       "          0.26300448, -0.06114952,  0.01471505,  0.28587466,  0.25834805,\n",
       "          0.0397782 ,  0.20594609,  0.28108168,  0.19188485, -0.232131  ,\n",
       "         -0.14026491, -0.11260408,  0.19146204, -0.04998337, -0.11759526,\n",
       "         -0.26170152,  0.24286735,  0.2605422 , -0.19871792, -0.0732442 ,\n",
       "         -0.03182667,  0.0614247 , -0.07941119,  0.10571042, -0.1848191 ,\n",
       "         -0.20126504, -0.29167834, -0.08168696,  0.29258192, -0.10226755,\n",
       "         -0.17561534, -0.09460305, -0.15274557, -0.09152798, -0.16097827,\n",
       "          0.19397476, -0.01923078, -0.05434148,  0.1699956 ]],\n",
       "       dtype=float32)>,\n",
       " <tf.Variable 'dense_2/bias:0' shape=(64,) dtype=float32, numpy=\n",
       " array([0., 0., 0., 0., 0., 0., 0., 0., 0., 0., 0., 0., 0., 0., 0., 0., 0.,\n",
       "        0., 0., 0., 0., 0., 0., 0., 0., 0., 0., 0., 0., 0., 0., 0., 0., 0.,\n",
       "        0., 0., 0., 0., 0., 0., 0., 0., 0., 0., 0., 0., 0., 0., 0., 0., 0.,\n",
       "        0., 0., 0., 0., 0., 0., 0., 0., 0., 0., 0., 0., 0.], dtype=float32)>,\n",
       " <tf.Variable 'dense_3/kernel:0' shape=(64, 10) dtype=float32, numpy=\n",
       " array([[ 0.1450308 ,  0.25954792, -0.1996517 ,  0.01475915,  0.23276243,\n",
       "         -0.11267881, -0.2445346 ,  0.07243893, -0.0303815 ,  0.11639255],\n",
       "        [-0.131687  , -0.27003834,  0.21343738,  0.23873326, -0.16869205,\n",
       "          0.1343359 , -0.21999405, -0.27591476, -0.24271137, -0.00958735],\n",
       "        [-0.06636076,  0.05928195,  0.11751348,  0.25999787, -0.167238  ,\n",
       "         -0.01854166,  0.09564558,  0.22858068,  0.01203966, -0.22700794],\n",
       "        [-0.20974912,  0.01690906,  0.06602809,  0.12291342,  0.25210026,\n",
       "         -0.02349627,  0.01187956,  0.2584912 , -0.20280427, -0.20851883],\n",
       "        [-0.13252985, -0.03576864, -0.01718089, -0.00613987,  0.26466492,\n",
       "         -0.16785586,  0.12806845,  0.20343998, -0.26581618, -0.20239231],\n",
       "        [ 0.04927179, -0.13691671,  0.14486265, -0.21484187,  0.01117271,\n",
       "         -0.07662483, -0.09857967, -0.2796372 ,  0.27183053,  0.22704825],\n",
       "        [-0.0732834 ,  0.04833397,  0.23643306,  0.0551663 , -0.09745042,\n",
       "         -0.12310365,  0.02114567,  0.00868464, -0.22838324,  0.04751924],\n",
       "        [ 0.1960715 , -0.08669183,  0.25912777,  0.24927774,  0.02241099,\n",
       "          0.02456164, -0.07688166, -0.03246081, -0.02582479,  0.2792903 ],\n",
       "        [ 0.05525199, -0.15751615,  0.11971232,  0.26157555, -0.20834258,\n",
       "          0.03025427,  0.0887503 ,  0.21573332, -0.04890233,  0.27669916],\n",
       "        [ 0.18386364,  0.11231989, -0.25826067,  0.11157316,  0.11026815,\n",
       "          0.11811686,  0.17974955, -0.24717385,  0.19573322,  0.22381309],\n",
       "        [ 0.21275109, -0.07729042,  0.19626275,  0.15393141, -0.04523122,\n",
       "          0.12812799,  0.10166049, -0.1104822 , -0.12708244, -0.28238946],\n",
       "        [-0.26756173, -0.22831094, -0.06398471, -0.27052408,  0.28359142,\n",
       "          0.03288627, -0.15576427, -0.22757156,  0.13286799,  0.21685717],\n",
       "        [ 0.15375787, -0.22281796, -0.03143251, -0.12058863, -0.0303593 ,\n",
       "          0.10640749, -0.03644387,  0.27273044, -0.18283653,  0.23531994],\n",
       "        [-0.12572004,  0.18309402,  0.02846298, -0.24104394, -0.20264262,\n",
       "          0.14080763, -0.1681211 , -0.22822043,  0.20818162, -0.15326099],\n",
       "        [ 0.12828094, -0.04658602,  0.1964337 ,  0.02388045, -0.15259778,\n",
       "         -0.06171395, -0.24857563, -0.11686587,  0.02430001, -0.09035391],\n",
       "        [ 0.07368007,  0.07065392,  0.21268356, -0.0261299 , -0.02171534,\n",
       "         -0.2813915 ,  0.27161393,  0.10987309, -0.1020588 ,  0.23983309],\n",
       "        [-0.04543149,  0.17681831,  0.1939412 ,  0.07133105, -0.15422006,\n",
       "          0.20558318,  0.27818856,  0.15836659, -0.07516882,  0.13061464],\n",
       "        [-0.16782877, -0.23556346, -0.1630263 ,  0.07553113, -0.07583691,\n",
       "          0.14870694, -0.05189808,  0.12182686,  0.2510424 , -0.0081369 ],\n",
       "        [ 0.23154244,  0.16641992,  0.03607619,  0.19586757, -0.10776575,\n",
       "          0.1427367 ,  0.24144295,  0.07205597, -0.2518102 , -0.13595274],\n",
       "        [ 0.17592704, -0.2765804 , -0.13000445, -0.10879645,  0.19300455,\n",
       "         -0.0684091 ,  0.1558342 ,  0.05668342,  0.01800609, -0.0915188 ],\n",
       "        [ 0.23045394,  0.00611144, -0.2754248 , -0.10630505,  0.23523393,\n",
       "          0.10976297,  0.11185709,  0.10522413, -0.22522253,  0.15795505],\n",
       "        [ 0.1007162 ,  0.19800913, -0.00863054, -0.15860102,  0.20725358,\n",
       "         -0.06092548,  0.14492679, -0.08630913, -0.11055294,  0.05937523],\n",
       "        [-0.17997874, -0.11751054,  0.28000322,  0.18453443, -0.05573964,\n",
       "          0.09714824, -0.0819146 , -0.15539788, -0.2742335 ,  0.2179701 ],\n",
       "        [ 0.07241434,  0.18127733,  0.23869863,  0.20841855,  0.11100054,\n",
       "          0.15047863,  0.11818436,  0.00435528,  0.05352604,  0.13049752],\n",
       "        [-0.01422378,  0.2509171 ,  0.14871013,  0.1996504 ,  0.20615649,\n",
       "          0.20167834,  0.04454264, -0.05766965, -0.16913956,  0.19152334],\n",
       "        [ 0.22288439, -0.10625902,  0.04409301,  0.18089625, -0.11504014,\n",
       "         -0.1592482 ,  0.01383939, -0.19936162,  0.02761197,  0.24306813],\n",
       "        [ 0.01374304, -0.24108928, -0.12782201, -0.08840026,  0.09134364,\n",
       "          0.00229308,  0.01267603,  0.13278574,  0.08065709, -0.20856106],\n",
       "        [ 0.23990336, -0.00336403,  0.24157259,  0.05553952,  0.14842334,\n",
       "          0.05638641, -0.1745229 , -0.04915209,  0.0413999 , -0.2387903 ],\n",
       "        [ 0.11834165, -0.091259  ,  0.01055071,  0.09376022,  0.23859575,\n",
       "         -0.06715743, -0.02942657, -0.14796986,  0.26126924,  0.22332755],\n",
       "        [ 0.0660181 , -0.02623132,  0.14515674, -0.04898196, -0.25217423,\n",
       "          0.00233951, -0.21427122, -0.2159131 ,  0.24056748,  0.00823861],\n",
       "        [-0.21312565,  0.19232023, -0.11774226, -0.22160465,  0.05267084,\n",
       "          0.03298607,  0.26709202, -0.12726668,  0.10115701, -0.23084286],\n",
       "        [ 0.01448652, -0.24577221, -0.20627652, -0.2338054 , -0.2523096 ,\n",
       "         -0.2627083 , -0.02293095, -0.159674  ,  0.20848823,  0.27080992],\n",
       "        [ 0.27475467,  0.05828175,  0.10079232, -0.17974472, -0.0117577 ,\n",
       "         -0.05678174, -0.21297982, -0.21460107, -0.23183167, -0.03410202],\n",
       "        [ 0.03963208, -0.12870152, -0.08976638, -0.0711066 ,  0.24663451,\n",
       "          0.2697036 , -0.09512189, -0.02881578, -0.25951025,  0.17515299],\n",
       "        [ 0.05409518, -0.13751514, -0.26085335, -0.03628236, -0.18389568,\n",
       "          0.02368852, -0.2774388 , -0.17127374, -0.1339541 , -0.04915854],\n",
       "        [ 0.2838873 , -0.04051293,  0.07197139, -0.05125427, -0.09478298,\n",
       "          0.21804956, -0.23380004, -0.11316212, -0.07424484, -0.24082296],\n",
       "        [ 0.0800364 , -0.18675794,  0.03211093, -0.11866005, -0.2443999 ,\n",
       "         -0.1941207 ,  0.22715226, -0.17818077,  0.1246281 , -0.12912793],\n",
       "        [ 0.11324683,  0.01934084,  0.21135482,  0.07685849, -0.16387206,\n",
       "          0.2538987 , -0.18826671, -0.2698395 ,  0.03531006, -0.23025677],\n",
       "        [ 0.03688094,  0.19499317, -0.18684784,  0.093254  , -0.03822759,\n",
       "          0.13291872, -0.11101051, -0.00432697,  0.10516146,  0.0023472 ],\n",
       "        [ 0.25162575,  0.11663797,  0.25311455,  0.02996033,  0.21104634,\n",
       "          0.1761832 , -0.265014  ,  0.28240696, -0.0747779 , -0.18961248],\n",
       "        [ 0.19226944,  0.12243876, -0.12071872, -0.20134532,  0.26739535,\n",
       "         -0.18344298,  0.14023763,  0.05275103, -0.01059145,  0.18813649],\n",
       "        [ 0.22281584, -0.03247407, -0.25929177, -0.15514703,  0.1995447 ,\n",
       "          0.2455037 , -0.01517993, -0.15611322,  0.21994129, -0.23249169],\n",
       "        [-0.10270984, -0.10024229,  0.00312534,  0.05959854,  0.25362346,\n",
       "          0.15592253, -0.16734833,  0.07053539,  0.28186783, -0.22659165],\n",
       "        [-0.0578326 , -0.00864431,  0.12879977, -0.0881955 ,  0.20875263,\n",
       "          0.12533891,  0.08029824, -0.24053049,  0.00464231, -0.00292262],\n",
       "        [-0.1118841 ,  0.20368141,  0.24111769, -0.19039083,  0.15510541,\n",
       "          0.16269514,  0.2076248 ,  0.08591852, -0.19781667, -0.13588594],\n",
       "        [-0.26642528,  0.04907891, -0.18380328,  0.07413161, -0.01164719,\n",
       "          0.18296641, -0.16805938, -0.07971311,  0.25880173, -0.231106  ],\n",
       "        [ 0.02295512,  0.05038562, -0.08891629,  0.05939078,  0.23756644,\n",
       "          0.00803921,  0.02328324, -0.16929632,  0.11197004,  0.15810502],\n",
       "        [-0.02033556, -0.10359138,  0.11335811,  0.19115016,  0.07475287,\n",
       "          0.13188756,  0.09232199,  0.0119569 ,  0.21345234, -0.15877345],\n",
       "        [ 0.2617208 ,  0.14424682,  0.1640675 ,  0.24218813,  0.15725788,\n",
       "          0.08690983, -0.23443684, -0.11922041, -0.21400657, -0.10856195],\n",
       "        [-0.23815091, -0.14905588, -0.07712626, -0.19029061,  0.14406401,\n",
       "          0.18641022,  0.069352  ,  0.20167533, -0.02286151,  0.23248556],\n",
       "        [-0.03232965,  0.08740154,  0.21121192, -0.05325612, -0.25393018,\n",
       "         -0.02607375,  0.23630175, -0.24105515,  0.22665396, -0.02295601],\n",
       "        [ 0.21529743, -0.25770006,  0.20773125, -0.24802396, -0.28147155,\n",
       "         -0.12224078, -0.19210522,  0.15385252, -0.26174256,  0.23363236],\n",
       "        [-0.20400964, -0.14993899,  0.19231236,  0.2121661 ,  0.09813514,\n",
       "          0.191327  , -0.20469539,  0.17642426, -0.16846102,  0.10132709],\n",
       "        [ 0.09166959,  0.15592489, -0.05371669, -0.0148415 ,  0.11839011,\n",
       "         -0.23112229, -0.14431112,  0.05723462,  0.06850904, -0.19577253],\n",
       "        [-0.02760151, -0.07579136, -0.2829397 ,  0.17201948, -0.25571796,\n",
       "          0.00321326,  0.19400394, -0.10780567, -0.04742546,  0.26001784],\n",
       "        [ 0.11018077, -0.00239757,  0.15901834, -0.21374181,  0.18643063,\n",
       "          0.08290145, -0.10960019,  0.02016035, -0.01279342,  0.0848608 ],\n",
       "        [-0.06139235, -0.12258063,  0.17349026,  0.26881674,  0.09861973,\n",
       "          0.12246984, -0.21084574, -0.17799251, -0.02981159,  0.07937238],\n",
       "        [-0.03210208,  0.20320338,  0.1771456 ,  0.05668792,  0.11085415,\n",
       "         -0.2382095 ,  0.21594897, -0.19518569, -0.10593112, -0.09327741],\n",
       "        [-0.11619996,  0.22814175,  0.18942028, -0.23631208,  0.03941986,\n",
       "          0.18816277,  0.18564537, -0.10842013, -0.0040381 , -0.05645004],\n",
       "        [-0.25063577, -0.01031983, -0.13943383,  0.27315918,  0.19340992,\n",
       "         -0.28349292,  0.24771771, -0.1717774 , -0.08320892, -0.26224482],\n",
       "        [ 0.12066969, -0.14413406, -0.00211665, -0.11614326, -0.12498629,\n",
       "         -0.12487352,  0.07465979,  0.08989069, -0.11613274, -0.03068498],\n",
       "        [ 0.20180398,  0.06049928, -0.10630566, -0.19839868, -0.22840014,\n",
       "          0.05421928, -0.14823517, -0.20985508, -0.21135178,  0.167508  ],\n",
       "        [ 0.25534526,  0.05352142,  0.17847309,  0.2313793 ,  0.23504946,\n",
       "          0.18700626, -0.17284475,  0.14743584,  0.06448266, -0.20975393],\n",
       "        [ 0.14606151,  0.06883946, -0.1519354 , -0.04347935, -0.00542691,\n",
       "          0.07717472,  0.20641467, -0.14814094,  0.25522044,  0.2359837 ]],\n",
       "       dtype=float32)>,\n",
       " <tf.Variable 'dense_3/bias:0' shape=(10,) dtype=float32, numpy=array([0., 0., 0., 0., 0., 0., 0., 0., 0., 0.], dtype=float32)>]"
      ]
     },
     "execution_count": 4,
     "metadata": {},
     "output_type": "execute_result"
    }
   ],
   "source": [
    "# build로 모델을 한 번 호출해야 모델의 가중치를 만들 수 있다.\n",
    "model.build(input_shape=(None, 3))\n",
    "model.weights"
   ]
  },
  {
   "cell_type": "code",
   "execution_count": 5,
   "id": "2d0c393f",
   "metadata": {},
   "outputs": [
    {
     "name": "stdout",
     "output_type": "stream",
     "text": [
      "Model: \"sequential_1\"\n",
      "_________________________________________________________________\n",
      "Layer (type)                 Output Shape              Param #   \n",
      "=================================================================\n",
      "dense_2 (Dense)              (None, 64)                256       \n",
      "_________________________________________________________________\n",
      "dense_3 (Dense)              (None, 10)                650       \n",
      "=================================================================\n",
      "Total params: 906\n",
      "Trainable params: 906\n",
      "Non-trainable params: 0\n",
      "_________________________________________________________________\n"
     ]
    }
   ],
   "source": [
    "model.summary()"
   ]
  },
  {
   "cell_type": "code",
   "execution_count": 7,
   "id": "3589b9a0",
   "metadata": {},
   "outputs": [
    {
     "name": "stdout",
     "output_type": "stream",
     "text": [
      "Model: \"my_example_model\"\n",
      "_________________________________________________________________\n",
      "Layer (type)                 Output Shape              Param #   \n",
      "=================================================================\n",
      "my_first_layer (Dense)       (None, 64)                256       \n",
      "_________________________________________________________________\n",
      "my_last_layer (Dense)        (None, 10)                650       \n",
      "=================================================================\n",
      "Total params: 906\n",
      "Trainable params: 906\n",
      "Non-trainable params: 0\n",
      "_________________________________________________________________\n"
     ]
    }
   ],
   "source": [
    "# 모델과 층에 모두 이름 지정이 가능하다\n",
    "\n",
    "model = keras.Sequential(name=\"my_example_model\")\n",
    "model.add(layers.Dense(64, activation=\"relu\", name=\"my_first_layer\"))\n",
    "model.add(layers.Dense(10, activation=\"softmax\", name=\"my_last_layer\"))\n",
    "model.build((None, 3))\n",
    "model.summary()"
   ]
  },
  {
   "cell_type": "code",
   "execution_count": 11,
   "id": "1647afa1",
   "metadata": {},
   "outputs": [
    {
     "name": "stdout",
     "output_type": "stream",
     "text": [
      "Model: \"sequential_5\"\n",
      "_________________________________________________________________\n",
      "Layer (type)                 Output Shape              Param #   \n",
      "=================================================================\n",
      "dense_7 (Dense)              (None, 64)                256       \n",
      "=================================================================\n",
      "Total params: 256\n",
      "Trainable params: 256\n",
      "Non-trainable params: 0\n",
      "_________________________________________________________________\n",
      "Model: \"sequential_5\"\n",
      "_________________________________________________________________\n",
      "Layer (type)                 Output Shape              Param #   \n",
      "=================================================================\n",
      "dense_7 (Dense)              (None, 64)                256       \n",
      "_________________________________________________________________\n",
      "dense_8 (Dense)              (None, 10)                650       \n",
      "=================================================================\n",
      "Total params: 906\n",
      "Trainable params: 906\n",
      "Non-trainable params: 0\n",
      "_________________________________________________________________\n"
     ]
    }
   ],
   "source": [
    "# 모델의 build 없이 summary를 확인하기 위해선 입력 크기를 미리 지정해주면 된다.\n",
    "\n",
    "model = keras.Sequential()\n",
    "model.add(keras.Input(shape=(3,)))\n",
    "model.add(layers.Dense(64, activation=\"relu\"))\n",
    "model.summary()\n",
    "model.add(layers.Dense(10, activation=\"softmax\"))\n",
    "model.summary()"
   ]
  },
  {
   "cell_type": "markdown",
   "id": "e56cbc5b",
   "metadata": {},
   "source": [
    "### 7.2.2 함수형 API\n",
    "---"
   ]
  },
  {
   "cell_type": "code",
   "execution_count": 14,
   "id": "857ec961",
   "metadata": {},
   "outputs": [
    {
     "name": "stdout",
     "output_type": "stream",
     "text": [
      "Model: \"model_2\"\n",
      "_________________________________________________________________\n",
      "Layer (type)                 Output Shape              Param #   \n",
      "=================================================================\n",
      "my_input (InputLayer)        [(None, 3)]               0         \n",
      "_________________________________________________________________\n",
      "dense_13 (Dense)             (None, 64)                256       \n",
      "_________________________________________________________________\n",
      "dense_14 (Dense)             (None, 10)                650       \n",
      "=================================================================\n",
      "Total params: 906\n",
      "Trainable params: 906\n",
      "Non-trainable params: 0\n",
      "_________________________________________________________________\n"
     ]
    }
   ],
   "source": [
    "# 다중 입력, 다중 출력, 비선형적인 구조의 모델을 만드는 데 사용\n",
    "\n",
    "# 심볼릭 텐서 : 실제 데이터를 가지고 있지 않지만 사용할 데이터 텐서의 사양이 인코딩 되어 있음\n",
    "inputs = keras.Input(shape=(3,), name=\"my_input\")\n",
    "features = layers.Dense(64, activation=\"relu\")(inputs)\n",
    "outputs = layers.Dense(10, activation=\"softmax\")(features)\n",
    "model = keras.Model(inputs=inputs, outputs=outputs)\n",
    "\n",
    "model.summary()"
   ]
  },
  {
   "cell_type": "code",
   "execution_count": 29,
   "id": "bb0c1389",
   "metadata": {},
   "outputs": [
    {
     "name": "stdout",
     "output_type": "stream",
     "text": [
      "40/40 [==============================] - 2s 30ms/step - loss: 36.0405 - priority_loss: 0.3224 - department_loss: 35.7180 - priority_mean_absolute_error: 0.4863 - department_accuracy: 0.1891\n",
      "40/40 [==============================] - 1s 8ms/step - loss: 32.1072 - priority_loss: 0.3330 - department_loss: 31.7742 - priority_mean_absolute_error: 0.4960 - department_accuracy: 0.1180\n"
     ]
    },
    {
     "data": {
      "image/png": "[encoded data removed]",
      "text/plain": [
       "<IPython.core.display.Image object>"
      ]
     },
     "execution_count": 29,
     "metadata": {},
     "output_type": "execute_result"
    }
   ],
   "source": [
    "# 다중 입력, 다중 출력 모델\n",
    "import numpy as np\n",
    "\n",
    "vocabulary_size = 10000\n",
    "num_tags = 100\n",
    "num_departments = 4\n",
    "\n",
    "# model\n",
    "title = keras.Input(shape=(vocabulary_size,), name=\"title\")\n",
    "text_body = keras.Input(shape=(vocabulary_size,), name=\"text_body\")\n",
    "tags = keras.Input(shape=(num_tags,), name=\"tags\")\n",
    "\n",
    "features = layers.Concatenate()([title, text_body, tags])\n",
    "features = layers.Dense(64, activation=\"relu\")(features)\n",
    "\n",
    "priority = layers.Dense(1, activation=\"sigmoid\", name=\"priority\")(features)\n",
    "department = layers.Dense(num_departments, activation=\"softmax\", name=\"department\")(features)\n",
    "\n",
    "model = keras.Model(inputs=[title, text_body, tags],\n",
    "                   outputs=[priority, department])\n",
    "\n",
    "# data\n",
    "num_samples = 1280\n",
    "\n",
    "title_data = np.random.randint(0, 2, size=(num_samples, vocabulary_size))\n",
    "text_body_data = np.random.randint(0, 2, size=(num_samples, vocabulary_size))\n",
    "tags_data = np.random.randint(0, 2, size=(num_samples, num_tags))\n",
    "\n",
    "priority_data = np.random.random(size=(num_samples, 1))\n",
    "department_data = np.random.randint(0, 2, size=(num_samples, num_departments))\n",
    "\n",
    "# compile fit eval\n",
    "model.compile(optimizer=\"rmsprop\",\n",
    "              loss={\"priority\": \"mean_squared_error\", \"department\": \"categorical_crossentropy\"},\n",
    "              metrics={\"priority\": [\"mean_absolute_error\"], \"department\": [\"accuracy\"]})\n",
    "model.fit({\"title\": title_data, \"text_body\": text_body_data, \"tags\": tags_data},\n",
    "          {\"priority\": priority_data, \"department\": department_data},\n",
    "          epochs=1)\n",
    "model.evaluate({\"title\": title_data, \"text_body\": text_body_data, \"tags\": tags_data},\n",
    "               {\"priority\": priority_data, \"department\": department_data})\n",
    "priority_preds, department_preds = model.predict(\n",
    "    {\"title\": title_data, \"text_body\": text_body_data, \"tags\": tags_data})\n",
    "keras.utils.plot_model(model, show_shapes=True)"
   ]
  },
  {
   "cell_type": "markdown",
   "id": "ed9bd526",
   "metadata": {},
   "source": [
    "### 7.2.3 Model 서브클래싱\n",
    "---"
   ]
  },
  {
   "cell_type": "code",
   "execution_count": 30,
   "id": "37010812",
   "metadata": {},
   "outputs": [
    {
     "name": "stdout",
     "output_type": "stream",
     "text": [
      "40/40 [==============================] - 2s 29ms/step - loss: 20.1856 - output_1_loss: 0.3330 - output_2_loss: 19.8526 - output_1_mean_absolute_error: 0.4948 - output_2_accuracy: 0.2945\n",
      "40/40 [==============================] - 1s 11ms/step - loss: 7.7952 - output_1_loss: 0.3411 - output_2_loss: 7.4542 - output_1_mean_absolute_error: 0.5040 - output_2_accuracy: 0.2602\n"
     ]
    }
   ],
   "source": [
    "# 3 Subclassing\n",
    "\n",
    "class CustomerTicketModel(keras.Model):\n",
    "\n",
    "    def __init__(self, num_departments):\n",
    "        super().__init__()\n",
    "        self.concat_layer = layers.Concatenate()\n",
    "        self.mixing_layer = layers.Dense(64, activation=\"relu\")\n",
    "        self.priority_scorer = layers.Dense(1, activation=\"sigmoid\")\n",
    "        self.department_classifier = layers.Dense(\n",
    "            num_departments, activation=\"softmax\")\n",
    "\n",
    "    def call(self, inputs):\n",
    "        title = inputs[\"title\"]\n",
    "        text_body = inputs[\"text_body\"]\n",
    "        tags = inputs[\"tags\"]\n",
    "\n",
    "        features = self.concat_layer([title, text_body, tags])\n",
    "        features = self.mixing_layer(features)\n",
    "        priority = self.priority_scorer(features)\n",
    "        department = self.department_classifier(features)\n",
    "        return priority, department\n",
    "\n",
    "model = CustomerTicketModel(num_departments=4)\n",
    "priority, department = model(\n",
    "    {\"title\": title_data, \"text_body\": text_body_data, \"tags\": tags_data})\n",
    "\n",
    "model.compile(optimizer=\"rmsprop\",\n",
    "              loss=[\"mean_squared_error\", \"categorical_crossentropy\"],\n",
    "              metrics=[[\"mean_absolute_error\"], [\"accuracy\"]])\n",
    "model.fit({\"title\": title_data,\n",
    "           \"text_body\": text_body_data,\n",
    "           \"tags\": tags_data},\n",
    "          [priority_data, department_data],\n",
    "          epochs=1)\n",
    "model.evaluate({\"title\": title_data,\n",
    "                \"text_body\": text_body_data,\n",
    "                \"tags\": tags_data},\n",
    "               [priority_data, department_data])\n",
    "priority_preds, department_preds = model.predict({\"title\": title_data,\n",
    "                                                  \"text_body\": text_body_data,\n",
    "                                                  \"tags\": tags_data})"
   ]
  },
  {
   "cell_type": "markdown",
   "id": "981c1b14",
   "metadata": {},
   "source": [
    "### 7.2.4 여러 방식을 혼합하여 사용하기\n",
    "---"
   ]
  },
  {
   "cell_type": "code",
   "execution_count": 34,
   "id": "63d6c458",
   "metadata": {},
   "outputs": [
    {
     "name": "stdout",
     "output_type": "stream",
     "text": [
      "Downloading data from https://storage.googleapis.com/tensorflow/tf-keras-datasets/mnist.npz\n",
      "11493376/11490434 [==============================] - 0s 0us/step\n",
      "11501568/11490434 [==============================] - 0s 0us/step\n"
     ]
    }
   ],
   "source": [
    "from tensorflow.keras.datasets import mnist\n",
    "\n",
    "def get_mnist_model():\n",
    "    inputs = keras.Input(shape=(28 * 28,))\n",
    "    features = layers.Dense(512, activation=\"relu\")(inputs)\n",
    "    features = layers.Dropout(0.5)(features)\n",
    "    outputs = layers.Dense(10, activation=\"softmax\")(features)\n",
    "    model = keras.Model(inputs, outputs)\n",
    "    return model\n",
    "\n",
    "(images, labels), (test_images, test_labels) = mnist.load_data()\n",
    "images = images.reshape((60000, 28 * 28)).astype(\"float32\") / 255\n",
    "test_images = test_images.reshape((10000, 28 * 28)).astype(\"float32\") / 255\n",
    "train_images, val_images = images[10000:], images[:10000]\n",
    "train_labels, val_labels = labels[10000:], labels[:10000]"
   ]
  },
  {
   "cell_type": "code",
   "execution_count": 35,
   "id": "96de4861",
   "metadata": {},
   "outputs": [
    {
     "name": "stdout",
     "output_type": "stream",
     "text": [
      "Epoch 1/3\n",
      "1563/1563 [==============================] - 11s 7ms/step - loss: 0.2975 - sparse_categorical_accuracy: 0.9115\n",
      "Epoch 2/3\n",
      "1563/1563 [==============================] - 10s 7ms/step - loss: 0.1673 - sparse_categorical_accuracy: 0.9520\n",
      "Epoch 3/3\n",
      "1563/1563 [==============================] - 11s 7ms/step - loss: 0.1392 - sparse_categorical_accuracy: 0.9621\n"
     ]
    },
    {
     "data": {
      "text/plain": [
       "<keras.callbacks.History at 0x7ebe3429a5b0>"
      ]
     },
     "execution_count": 35,
     "metadata": {},
     "output_type": "execute_result"
    }
   ],
   "source": [
    "import tensorflow as tf\n",
    "from tensorflow import keras\n",
    "\n",
    "# Quest: 사용자 정의 훈련 스텝을 사용하는 모델\n",
    "class CustomModel(keras.Model):\n",
    "    def train_step(self, data):\n",
    "        inputs, targets = data\n",
    "        with tf.GradientTape() as tape:\n",
    "            predictions = self(inputs, training=True)\n",
    "            loss = self.compiled_loss(targets, predictions)\n",
    "        gradients = tape.gradient(loss, self.trainable_weights)\n",
    "        self.optimizer.apply_gradients(zip(gradients, self.trainable_weights))\n",
    "        self.compiled_metrics.update_state(targets, predictions)\n",
    "        return {m.name: m.result() for m in self.metrics}\n",
    "\n",
    "from tensorflow.keras import layers\n",
    "\n",
    "inputs = keras.Input(shape=(28 * 28,))\n",
    "features = layers.Dense(512, activation=\"relu\")(inputs)\n",
    "features = layers.Dropout(0.5)(features)\n",
    "outputs = layers.Dense(10, activation=\"softmax\")(features)\n",
    "model = CustomModel(inputs, outputs)\n",
    "\n",
    "model.compile(optimizer=keras.optimizers.RMSprop(),\n",
    "              loss=keras.losses.SparseCategoricalCrossentropy(),\n",
    "              metrics=[keras.metrics.SparseCategoricalAccuracy()])\n",
    "model.fit(train_images, train_labels, epochs=3)"
   ]
  },
  {
   "cell_type": "code",
   "execution_count": null,
   "id": "30de3660",
   "metadata": {},
   "outputs": [],
   "source": []
  }
 ],
 "metadata": {
  "kernelspec": {
   "display_name": "Python 3 (ipykernel)",
   "language": "python",
   "name": "python3"
  },
  "language_info": {
   "codemirror_mode": {
    "name": "ipython",
    "version": 3
   },
   "file_extension": ".py",
   "mimetype": "text/x-python",
   "name": "python",
   "nbconvert_exporter": "python",
   "pygments_lexer": "ipython3",
   "version": "3.9.7"
  }
 },
 "nbformat": 4,
 "nbformat_minor": 5
}
