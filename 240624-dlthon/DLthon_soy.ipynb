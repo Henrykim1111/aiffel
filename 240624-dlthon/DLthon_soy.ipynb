{
 "cells": [
  {
   "cell_type": "code",
   "execution_count": 2,
   "id": "3c890f53",
   "metadata": {},
   "outputs": [
    {
     "data": {
      "text/html": [
       "<div>\n",
       "<style scoped>\n",
       "    .dataframe tbody tr th:only-of-type {\n",
       "        vertical-align: middle;\n",
       "    }\n",
       "\n",
       "    .dataframe tbody tr th {\n",
       "        vertical-align: top;\n",
       "    }\n",
       "\n",
       "    .dataframe thead th {\n",
       "        text-align: right;\n",
       "    }\n",
       "</style>\n",
       "<table border=\"1\" class=\"dataframe\">\n",
       "  <thead>\n",
       "    <tr style=\"text-align: right;\">\n",
       "      <th></th>\n",
       "      <th>idx</th>\n",
       "      <th>class</th>\n",
       "      <th>conversation</th>\n",
       "    </tr>\n",
       "  </thead>\n",
       "  <tbody>\n",
       "    <tr>\n",
       "      <th>0</th>\n",
       "      <td>0</td>\n",
       "      <td>협박 대화</td>\n",
       "      <td>지금 너 스스로를 죽여달라고 애원하는 것인가?\\n 아닙니다. 죄송합니다.\\n 죽을 ...</td>\n",
       "    </tr>\n",
       "    <tr>\n",
       "      <th>1</th>\n",
       "      <td>1</td>\n",
       "      <td>협박 대화</td>\n",
       "      <td>길동경찰서입니다.\\n9시 40분 마트에 폭발물을 설치할거다.\\n네?\\n똑바로 들어 ...</td>\n",
       "    </tr>\n",
       "    <tr>\n",
       "      <th>2</th>\n",
       "      <td>2</td>\n",
       "      <td>기타 괴롭힘 대화</td>\n",
       "      <td>너 되게 귀여운거 알지? 나보다 작은 남자는 첨봤어.\\n그만해. 니들 놀리는거 재미...</td>\n",
       "    </tr>\n",
       "    <tr>\n",
       "      <th>3</th>\n",
       "      <td>3</td>\n",
       "      <td>갈취 대화</td>\n",
       "      <td>어이 거기\\n예??\\n너 말이야 너. 이리 오라고\\n무슨 일.\\n너 옷 좋아보인다?...</td>\n",
       "    </tr>\n",
       "    <tr>\n",
       "      <th>4</th>\n",
       "      <td>4</td>\n",
       "      <td>갈취 대화</td>\n",
       "      <td>저기요 혹시 날이 너무 뜨겁잖아요? 저희 회사에서 이 선크림 파는데 한 번 손등에 ...</td>\n",
       "    </tr>\n",
       "  </tbody>\n",
       "</table>\n",
       "</div>"
      ],
      "text/plain": [
       "   idx      class                                       conversation\n",
       "0    0      협박 대화  지금 너 스스로를 죽여달라고 애원하는 것인가?\\n 아닙니다. 죄송합니다.\\n 죽을 ...\n",
       "1    1      협박 대화  길동경찰서입니다.\\n9시 40분 마트에 폭발물을 설치할거다.\\n네?\\n똑바로 들어 ...\n",
       "2    2  기타 괴롭힘 대화  너 되게 귀여운거 알지? 나보다 작은 남자는 첨봤어.\\n그만해. 니들 놀리는거 재미...\n",
       "3    3      갈취 대화  어이 거기\\n예??\\n너 말이야 너. 이리 오라고\\n무슨 일.\\n너 옷 좋아보인다?...\n",
       "4    4      갈취 대화  저기요 혹시 날이 너무 뜨겁잖아요? 저희 회사에서 이 선크림 파는데 한 번 손등에 ..."
      ]
     },
     "execution_count": 2,
     "metadata": {},
     "output_type": "execute_result"
    }
   ],
   "source": [
    "import os\n",
    "import pandas as pd\n",
    "\n",
    "train_data_path =\"~/aiffel/240624-dlthon/data/train.csv\"\n",
    "train_data = pd.read_csv(train_data_path)\n",
    "train_data.head()"
   ]
  },
  {
   "cell_type": "code",
   "execution_count": 3,
   "id": "0cad3b0a",
   "metadata": {},
   "outputs": [
    {
     "name": "stdout",
     "output_type": "stream",
     "text": [
      "지금 너 스스로를 죽여달라고 애원하는 것인가?\n",
      " 아닙니다. 죄송합니다.\n",
      " 죽을 거면 혼자 죽지 우리까지 사건에 휘말리게 해? 진짜 죽여버리고 싶게.\n",
      " 정말 잘못했습니다.\n",
      " 너가 선택해. 너가 죽을래 네 가족을 죽여줄까.\n",
      " 죄송합니다. 정말 잘못했습니다.\n",
      " 너에게는 선택권이 없어. 선택 못한다면 너와 네 가족까지 모조리 죽여버릴거야.\n",
      " 선택 못하겠습니다. 한번만 도와주세요.\n",
      " 그냥 다 죽여버려야겠군. 이의 없지?\n",
      " 제발 도와주세요.\n",
      "3950\n"
     ]
    }
   ],
   "source": [
    "print(train_data[\"conversation\"][0])\n",
    "print(len(train_data))"
   ]
  },
  {
   "cell_type": "markdown",
   "id": "ef2d0100",
   "metadata": {},
   "source": [
    "1. **데이터 EDA와 데이터 전처리가 적절하게 이뤄졌는가?**\n",
    "    * 결측치 제거\n",
    "    * 중복데이터 제거\n",
    "    * 불용어 제거 - 생성 모델이 아니기때문에 불용어를 제거해 중요한 단어만 넣는것이 중요하다고 생각\n",
    "    * 특수문자제거 또는 space bar로 변환\n",
    "    * 영어가 섞여있을 경우 소문자로 변환\n",
    "    * 숫자 처리는 어떻게 해야하는가? 숫자가 섞인 욕을 하는 경우가 있을 수 잇음. -> 숫자 그대로를 유지하는게 나을지 아니면 숫자를 의미를 가진 단어로 변환을 할지.\n",
    "    * 형태소 분석기를 사용하여 단어사전의 규모를 줄이는게 나을 수도 있지 않을까함. 그럴려면 맞춤법 검사기를 돌려야하나 생각이 들긴 함.\n",
    "    * 토큰화와 패딩.\n",
    "    * one hot encoding\n",
    "    * 데이터를 분할\n",
    "2. **Task에 알맞게 적절한 모델을 찾아보고 선정했는가?**\n",
    "    * 임베딩 레이어를 통해 고정된 크기의 벡터로 변환\n",
    "    * RNN: LSTM, GRU\n",
    "        * 대화의 흐름을 이해하고 감정을 예측하는 데 효과적\n",
    "        * LSTM과 GRU는 긴 시퀀스에서도 정보를 기억하고 사용하여 문장의 전후 맥락을 이해할 수 있음. 따라서 대화의 맥락을 이해하고 위협성을 판단하는 데 유리\n",
    "        * * loss = Sparse Categorical Crossentropy (다중 클래스 분류 문제에서 주로 사용되기 때문)\n",
    "    * 1D CNN\n",
    "        * : CNN은 텍스트 데이터에서 지역 패턴(예: 특정 단어 조합이나 구문)을 감지하는 데 뛰어납니다. 이는 특정 위협적인 표현을 감지하는 데 유리\n",
    "        * loss='categorical_crossentropy'\n",
    "    * BERT 한국어 모델\n",
    "        * BERT는 문장의 양방향 문맥을 이해\n",
    "        * BERT는 주로 텍스트 분류, 문장 유사성 평가 등에 사용\n",
    "        * loss='sparse_categorical_crossentropy'\n",
    "    \n",
    "3. **성능향상을 위해 논리적으로 접근했는가?**\n",
    "4. **결과 도출을 위해 여러가지 시도를 진행했는가?**\n",
    "5. **도출된 결론에 충분한 설득력이 있는가?**\n",
    "6. **적절한 metric을 설정하고 그 사용 근거 및 결과를 분석하였는가?**\n",
    "    * 정확도(Accuracy): 전체 데이터 중 맞게 분류된 데이터의 비율.\n",
    "    * 정밀도(Precision): 실제로 위협이 아닌 대화를 위협으로 잘못 예측한 경우를 줄이기 위한 지표.\n",
    "    * 재현율(Recall): 실제 위협 대화를 위협으로 잘 예측하는 비율.\n",
    "    * Confusion Matrix: 모델이 예측한 클래스와 실제 클래스 간의 혼동을 시각적으로 표현하여 어떤 클래스에서 오류가 발생하는지 확인\n",
    "7. **발표가 매끄럽게 진행되었고 발표시간을 준수하였는지?**"
   ]
  },
  {
   "cell_type": "markdown",
   "id": "ac86e910",
   "metadata": {},
   "source": [
    "### 결측치 제거"
   ]
  },
  {
   "cell_type": "code",
   "execution_count": 4,
   "id": "c389982d",
   "metadata": {},
   "outputs": [
    {
     "name": "stdout",
     "output_type": "stream",
     "text": [
      "idx             0\n",
      "class           0\n",
      "conversation    0\n",
      "dtype: int64\n"
     ]
    }
   ],
   "source": [
    "print(train_data.isnull().sum())"
   ]
  },
  {
   "cell_type": "code",
   "execution_count": 5,
   "id": "2f32ae28",
   "metadata": {},
   "outputs": [
    {
     "name": "stdout",
     "output_type": "stream",
     "text": [
      "0\n"
     ]
    }
   ],
   "source": [
    "print(train_data.isnull().sum()['class'])"
   ]
  },
  {
   "cell_type": "markdown",
   "id": "d1cd305c",
   "metadata": {},
   "source": [
    "### 중복제거"
   ]
  },
  {
   "cell_type": "code",
   "execution_count": 6,
   "id": "06441bc2",
   "metadata": {},
   "outputs": [
    {
     "name": "stdout",
     "output_type": "stream",
     "text": [
      "3950\n"
     ]
    }
   ],
   "source": [
    "print(len(train_data))"
   ]
  },
  {
   "cell_type": "code",
   "execution_count": 7,
   "id": "fbeb2917",
   "metadata": {},
   "outputs": [
    {
     "name": "stdout",
     "output_type": "stream",
     "text": [
      "conversation열에서 중복을 배제한 유일한 샘플의 수 : 3846\n"
     ]
    }
   ],
   "source": [
    "print('conversation열에서 중복을 배제한 유일한 샘플의 수 :', train_data['conversation'].nunique())"
   ]
  },
  {
   "cell_type": "code",
   "execution_count": 8,
   "id": "76f9e07b",
   "metadata": {},
   "outputs": [
    {
     "name": "stdout",
     "output_type": "stream",
     "text": [
      "저기요. 잠깐만요\\n매일 왜이러세요. 전 할말 없어요\\n그 쪽이 좋아서요\\n전 관심 없어요. 오지 마세요\\n한 번만 만나주세요.\\n제발 이러지 마세요. 전 남자친구 있어요\\n결혼한 건 아니잖아요. 딱 한번만 데이트해요\\n내가 왜 그쪽이랑 만나요?\\n그 쪽이 내 스타일이에요\\n난 아니거든요.                                                                                                                                                        2\n",
      "야 석탄?\\n 내가 왜 석탄이야?\\n 얼굴이 까마니까 석탄이지.\\n 그만해.\\n 너 라이터 불붙이면 아주 잘 타겠다.\\n 가 비켜.\\n 아주 콧구멍 커지니까 이제 연탄이네.\\n 비키라고.\\n 야 연탄?\\n 제발 좀 그만해. 나 정말 힘들어.                                                                                                                                                                                    2\n",
      "진용아 내 내 가방 돌려줘\\n아하하 진용아? 가방 돌려줄까?\\n노 놀리지마\\n노 놀리지마\\n하아.\\n한숨 쉰 거야?\\n아 아 아아니야.\\n아 아 아 아니야? 하하하하\\n아아.\\n왜? 기분 나빠?                                                                                                                                                                                                              2\n",
      "김대리. 이번 주간 회의 발표 준비좀 해줘.\\n저 말입니까.?\\n응. 너가 해줘\\n과장님 저번에도 제가 했고 저기 아무것도 안하는 사람들 있지 않습니까.\\n그래서 하기 싫다고.?\\n너무 하신거 아닙니까.? 지금 다른 업무로 조금 바쁩니다.\\n그래 그럼 그만둬 바쁜게 싫으면 그만둬야지\\n아닙니다. 죄송합니다. 제가 하겠습니다\\n진작에 그냥 한다고 했으면 됐잖아\\n옙. 죄송합니다.                                                                                                      2\n",
      "너 일로 따라와봐.\\n왜 그러는데.?\\n그냥 닥치고 따라오라면 따라와 진짜\\n어어.\\n너 잘보니까 국어쌤이랑 닮았다? 너?\\n헐대박 똑같네\\n나 아까 국어쌤한테 불려가서 혼난거 알아 몰라. 화풀이상대가 여깄구만!\\n아 하지마.\\n뭐? 하지말라고? 벙어리가 말도 하네?\\n.너네들 신고할꺼야.!.\\n뭐? 할 수 있음 해보시던가 그냥 짜지고 살라고 학교에서                                                                                                                     2\n",
      "                                                                                                                                                                                                                                                                                                                         ..\n",
      "자네는 생각이 없는가?\\n네?\\n내가 자네 결혼할때 빈몸으로 와서 집을 사줬으면 우리 집에 주말마다와서 얼굴도 비추고 자네 장모 적적하니 이야기도 하고 밥도 해먹고 그래야하는거아닌가?\\n네? 저번주에도 들렸는데.\\n아니 장인어른이 말하면 네 죄송합니다 하면 되지 자네는 집에서 교육을 그렇게 받았는가?\\n장인어른 말씀이 좀 심하신 것 같습니다\\n왜 기분나쁜가? 나도 기분이 자네때문에 안좋네\\n제가 뭘 그렇게 잘못했는지도 모르겠습니다\\n나 참 사위라도 마음에 안드는거 데려왔어도 딸아이가 좋다길래 받아줬더니 기여코 이런 일이 생기네\\n장인어른 너무하십니다    1\n",
      "안녕하십니까 사장님\\n뭔 안녕해 미친놈아 저리 꺼져\\n죄송합니다 사장님\\n그러게 죄송할 짓을 왜 하고 자빠지나\\n죄송합니다.\\n자네 창의성이 없나 죄송하다는 말밖에 못하는 장애를 가지고 있어?\\n그럼 어떻게 말해야 하나요?\\n얼래? 지금 대드는 거야? 됐다 차라리 죄송하다고 말이나 해 멍청아                                                                                                                                                       1\n",
      "아 이거 꼭 사고 싶은데 돈이 모자라. 5만원만 주라\\n 5만원? 나 돈 없어\\n 있는거 다 알아 무슨 5만원도 없어\\n 진짜 없어 이번달 용돈 다 썼어\\n 뭐 사야된다 하고 집에서 받으면 되잖아\\n 저번달에도 그렇게 해서 엄마한테 받았어. 그 때도 네가 뭐 산다해서 줬잖아\\n 내가 돈 받으면 준다 했잖아 그건\\n 근데 안줬잖아\\n 아 열받게 하네. 너 왕따 당하고 싶어?\\n 아니. 그래도 너무하잖아 계속 돈을 요구하는건.\\n 그래서. 못 주겠어? 이거 곧 품절될 거 같으니까 내일까지 돈 가져와\\n. 알겠어.                           1\n",
      "담배 좀 사주라\\n나 돈없어\\n그럼 몸으로 때우던지\\n나 집에 가야돼 다음에 만나\\n야! 어딜 집에가 겁대가리 없이\\n왜이래? 나 정말 가봐야돼\\n야 담배 심부름 하고가야지\\n지금은 곤란해\\n맞고할래 그냥할래?\\n미안해                                                                                                                                                                                                1\n",
      "희정씨\\n네?\\n주말에 시간이 넘쳐나나봐\\n갑자기 왜그러세요?\\n손이 빤짝빤짝 네일했니?\\n네 여름이라 기분전환으로.\\n어휴 그손으로 결제 받으러 가면 윗분들 눈 아프시겠다 정신사나워\\n그냥 파스텔톤으로만 칠한건데.\\n희정씨가 윗사람이야?? 얼른 가서 지우고와\\n.네                                                                                                                                                                     1\n",
      "Name: conversation, Length: 3846, dtype: int64\n"
     ]
    }
   ],
   "source": [
    "print(train_data['conversation'].value_counts())"
   ]
  },
  {
   "cell_type": "code",
   "execution_count": 9,
   "id": "ff3bd668",
   "metadata": {},
   "outputs": [
    {
     "name": "stdout",
     "output_type": "stream",
     "text": [
      "     idx      class                                       conversation\n",
      "262  262  기타 괴롭힘 대화  저기요. 잠깐만요\\n매일 왜이러세요. 전 할말 없어요\\n그 쪽이 좋아서요\\n전 관심...\n",
      "932  932  기타 괴롭힘 대화  저기요. 잠깐만요\\n매일 왜이러세요. 전 할말 없어요\\n그 쪽이 좋아서요\\n전 관심...\n"
     ]
    }
   ],
   "source": [
    "print(train_data[train_data['conversation'] == \"저기요. 잠깐만요\\n매일 왜이러세요. 전 할말 없어요\\n그 쪽이 좋아서요\\n전 관심 없어요. 오지 마세요\\n한 번만 만나주세요.\\n제발 이러지 마세요. 전 남자친구 있어요\\n결혼한 건 아니잖아요. 딱 한번만 데이트해요\\n내가 왜 그쪽이랑 만나요?\\n그 쪽이 내 스타일이에요\\n난 아니거든요.\"])"
   ]
  },
  {
   "cell_type": "code",
   "execution_count": 10,
   "id": "9273fbb6",
   "metadata": {},
   "outputs": [
    {
     "name": "stdout",
     "output_type": "stream",
     "text": [
      "       idx      class                                       conversation\n",
      "782    782  기타 괴롭힘 대화  야 석탄?\\n 내가 왜 석탄이야?\\n 얼굴이 까마니까 석탄이지.\\n 그만해.\\n 너...\n",
      "2656  2656  기타 괴롭힘 대화  야 석탄?\\n 내가 왜 석탄이야?\\n 얼굴이 까마니까 석탄이지.\\n 그만해.\\n 너...\n"
     ]
    }
   ],
   "source": [
    "print(train_data[train_data['conversation'] == '야 석탄?\\n 내가 왜 석탄이야?\\n 얼굴이 까마니까 석탄이지.\\n 그만해.\\n 너 라이터 불붙이면 아주 잘 타겠다.\\n 가 비켜.\\n 아주 콧구멍 커지니까 이제 연탄이네.\\n 비키라고.\\n 야 연탄?\\n 제발 좀 그만해. 나 정말 힘들어.'])"
   ]
  },
  {
   "cell_type": "code",
   "execution_count": 11,
   "id": "e5c9073c",
   "metadata": {},
   "outputs": [
    {
     "name": "stdout",
     "output_type": "stream",
     "text": [
      "전체 샘플수 : 3846\n"
     ]
    }
   ],
   "source": [
    "# inplace=True 를 설정하면 DataFrame 타입 값을 return 하지 않고 data 내부를 직접적으로 바꿉니다\n",
    "train_data.drop_duplicates(subset = ['conversation'], inplace=True)\n",
    "print('전체 샘플수 :', (len(train_data)))"
   ]
  },
  {
   "cell_type": "code",
   "execution_count": 13,
   "id": "25118108",
   "metadata": {},
   "outputs": [],
   "source": [
    "#불용어\n",
    "stopwords = ['것','저','그','의', '가', '이', '은', '는', '을', '를', '에', '와', '과','도','로', '하다', '다','이다', '하다', '되다', '뿐', '한테', '으로', '']"
   ]
  },
  {
   "cell_type": "code",
   "execution_count": 15,
   "id": "3cdd8dd5",
   "metadata": {},
   "outputs": [],
   "source": [
    "from konlpy.tag import Okt\n",
    "\n",
    "# Okt 형태소 분석기 객체 생성\n",
    "okt = Okt()\n",
    "\n",
    "\n",
    "# def lemmatize_text(text):\n",
    "#     # 텍스트를 형태소와 품사로 분석\n",
    "#     morphs = okt.pos(text, stem=True)\n",
    "#     # 원형이 있는 형태소만 선택\n",
    "#     lemmatized = [word for word, pos in morphs]\n",
    "#     return ' '.join(lemmatized)\n",
    "\n",
    "# # 예시 텍스트\n",
    "# sample_text = \"저는 오늘 그 사람을 만났습니다. 그리고 그 사람은 매우 친절했습니다.\"\n",
    "\n",
    "# # 원형 변환 적용\n",
    "# lemmatized_text = lemmatize_text(sample_text)\n",
    "\n",
    "# print(\"Original Text:\", sample_text)\n",
    "# print(\"Lemmatized Text:\", lemmatized_text)\n",
    "\n",
    "\n",
    "def morph_analyze(text):\n",
    "    # 텍스트에서 형태소 분석\n",
    "    morphs = okt.morphs(text)\n",
    "    return morphs"
   ]
  },
  {
   "cell_type": "code",
   "execution_count": 16,
   "id": "fde56932",
   "metadata": {},
   "outputs": [],
   "source": [
    "# import requests\n",
    "# from bs4 import BeautifulSoup\n",
    "# import json\n",
    "# from urllib.request import urlopen\n",
    "\n",
    "# def check_spelling(text):\n",
    "#     # 부산대 맞춤법 검사기 URL\n",
    "#     url = \"http://speller.cs.pusan.ac.kr/results\"\n",
    "    \n",
    "#     # 검사할 텍스트 데이터\n",
    "#     data = {'text1': text}\n",
    "    \n",
    "#     # 요청 보내기\n",
    "#     response = requests.post(url, data=data)\n",
    "    \n",
    "#     # BeautifulSoup을 사용하여 HTML 파싱\n",
    "#     soup = BeautifulSoup(response.text, 'html.parser')\n",
    "    \n",
    "#     # 맞춤법 교정 결과 가져오기\n",
    "#     result = soup.find('table', {'class': 'table'}).find_all('td')\n",
    "    \n",
    "#     corrected_text = text\n",
    "#     for idx in range(0, len(result), 3):\n",
    "#         original = result[idx].text.strip()\n",
    "#         suggestion = result[idx + 1].text.strip()\n",
    "#         if suggestion != '맞음':\n",
    "#             corrected_text = corrected_text.replace(original, suggestion)\n",
    "    \n",
    "#     return corrected_text\n",
    "\n",
    "# # 예시 텍스트\n",
    "# sample_text = \"저는 오늘 그 사람을 만났읍니다. 그리고 그 사람은 매우 친절했읍니다.\"\n",
    "\n",
    "# # 맞춤법 검사 적용\n",
    "# corrected_text = check_spelling(sample_text)\n",
    "\n",
    "# print(\"Original Text:\", sample_text)\n",
    "# print(\"Corrected Text:\", corrected_text)"
   ]
  },
  {
   "cell_type": "code",
   "execution_count": 19,
   "id": "7499d96d",
   "metadata": {},
   "outputs": [],
   "source": [
    "import re\n",
    "\n",
    "def preprocess_sentence(sentence, remove_stopwords=True):\n",
    "    # 맞춤법 검사\n",
    "    \n",
    "    # 특정 단어는 @~@되어있기 때문에 처리필요.\n",
    "    \n",
    "    \n",
    "    #형태소 분석\n",
    "    sentence = morph_analyze(sentence)\n",
    "    \n",
    "#     # 영어라면 소문자로 변환\n",
    "#     sentence = sentence.lower() # 텍스트 소문자화\n",
    "\n",
    "#     # 단어와 구두점 사이의 거리를 만들기\n",
    "#     sentence = re.sub(r\"([?.!])\", r\" \\1\", sentence)\n",
    "\n",
    "#     # \\n을 'ENTER'으로 변환\n",
    "#     sentence = re.sub(r'[\\n]', \" ENTER \", sentence)\n",
    "\n",
    "#     # 특수문자 제거 (문장내의 특수 문자제거)\n",
    "#     sentence = re.sub(r\"[^ㄱ-ㅎㅏ-ㅣ가-힣0-9a-zA-Z?.!\\s]\", \"\", sentence)\n",
    "    \n",
    "    \n",
    "    # 불용어 제거 (Text)     \n",
    "    sentence = ' '.join(word for word in sentence if  word not in stopwords)\n",
    "\n",
    "    return sentence"
   ]
  },
  {
   "cell_type": "code",
   "execution_count": 20,
   "id": "f3a2d781",
   "metadata": {},
   "outputs": [],
   "source": [
    "temp = train_data['conversation'].map(lambda x: preprocess_sentence(x))"
   ]
  },
  {
   "cell_type": "code",
   "execution_count": 24,
   "id": "7121d597",
   "metadata": {},
   "outputs": [
    {
     "data": {
      "text/plain": [
       "10    네 뭐 드릴까요?\\n말보르 레드 하나.\\n네. 여기요!\\n여기 사장은 없어?\\n네 ...\n",
       "11    이대리 오늘 도대체 뭘한거야?\\n창고정리도 하고 바닥도 청소했습니다\\n이게 한거니?...\n",
       "12    네네 무슨 일 때문에 전화주셨나요?\\n우리 애가 지우개 하나 훔친거 가지고 애들 앞...\n",
       "13    형! 형! 돈좀있어?\\n저 저요.?\\n여기 형말고 누가 있어? 형 얼마 있어?\\n저...\n",
       "14    김사원\\n대리님 왜 그러세요?\\n이거 오늘까지 제출해야 하는데 좀 해줄래?\\n네? ...\n",
       "15    야 너 휴대폰좀 빌려줘봐\\n안돼. 지난달에도 휴대폰 요금이 너무 많이 나와서 엄마한...\n",
       "16    잠깐만 거기 학생 \\n예? 저 부르셨너요?\\n그럼 누구겠어 \\n왜부르시죠\\n내가 지...\n",
       "17    얼마 가져왔어?\\n십만원 정도.\\n야 이걸로 새 폰을 어떻게 사\\n이게 최선이었어....\n",
       "18    야 너이마빡에 빛이난다\\n어?\\n야 한대만 때려보자 퍽\\n아 흑 왜그래 \\n아팠어?...\n",
       "19    나씨 정수기 물탱크 좀 갈아주시겠어요?\\n싫습니다. 물 저만 마시는 것도 아닌데 매...\n",
       "20    너가 민수라는 남자 제자니?\\n네 맞는데요 왜 그러시죠? 혹시 저희 선생님께 무슨 ...\n",
       "21    너 저번에 친구 지갑에서 돈 훔쳤잖아.\\n그말을 왜 지금 꺼내.\\n야 다 불어버리기...\n",
       "22    어유 파리꼬여 어디서 계란썩는 냄새가 나냐 설마 사람한태 나는 냄새는 아닐테고\\n너...\n",
       "23    나좀 제발 그만 따라다녀.부탁이야\\n너 만나려면 널 찾아가야될거아냐\\n우리 헤어졌자...\n",
       "24    야. 거지!\\n너네집 저기 판자촌이라면서?\\n.\\n판자촌이 뭐야?\\n왜 저 위에 다...\n",
       "25    여보 생활비좀 주세요\\n아니 이놈의 마누라는 허구한날 입만 열면 돈타령이야\\n애들 ...\n",
       "26    조용히 살라고 했는데 이새끼가깔짝깔짝건드네?\\n그러지마.그건 정말 너네가 잘못한거잖...\n",
       "27    돈을 빌려갔으면 갚아야지\\n죄송합니다 시간을 조금만 더 주십시오\\n내가 왜? 내가자...\n",
       "28    이리로 와 넌 토막내서 죽여줄게\\n살려주세요\\n싫어 난 너의 장난감이랑 놀 시간 보...\n",
       "29    병신이 아이스크림 먹게 돼 있냐?\\n난 먹으면 안 돼? 그만 좀 해.\\n당연히 안 ...\n",
       "Name: conversation, dtype: object"
      ]
     },
     "execution_count": 24,
     "metadata": {},
     "output_type": "execute_result"
    }
   ],
   "source": [
    "train_data['conversation'][10:30]"
   ]
  },
  {
   "cell_type": "code",
   "execution_count": 23,
   "id": "06685406",
   "metadata": {},
   "outputs": [
    {
     "data": {
      "text/plain": [
       "10    네 뭐 드릴 까요 ? \\n 말 보르 레드 하나 . \\n 네 . 여기 요 ! \\n 여...\n",
       "11    대리 오늘 도대체 뭘 한거야 ? \\n 창고 정리 하고 바닥 청소 했습니다 \\n 게 ...\n",
       "12    네네 무슨 일 때문 전화 주셨나요 ? \\n 우리 애가 지우개 하나 훔친거 가지 고 ...\n",
       "13    형 ! 형 ! 돈 좀있어 ? \\n 요 .? \\n 여기 형 말고 누가 있어 ? 형 얼...\n",
       "14    김사원 \\n 대리 님 왜 그러세요 ? \\n 거 오늘 까지 제출 해야 하는데 좀 해줄...\n",
       "15    야 너 휴대폰 좀 빌려줘 봐 \\n 안 돼 . 지난달 에도 휴대폰 요금 너무 많이 나...\n",
       "16    잠깐 만 거기 학생 예 ? 부르셨 너 요 ? \\n 그럼 누구 겠어 왜 부르시죠 \\n...\n",
       "17    얼마 가져왔어 ? \\n 십만원 정도 . \\n 야 걸 새 폰 어떻게 사 \\n 게 최선...\n",
       "18    야 너 이마 빡 빛 난 \\n 어 ? \\n 야 한 대만 때려 보자 퍽 \\n 아 흑 왜...\n",
       "19    나씨 정수기 물탱크 좀 갈아 주시겠어요 ? \\n 싫습니다 . 물 저만 마시는 아닌데...\n",
       "20    너 민수 라는 남자 제자 니 ? \\n 네 맞는데요 왜 러시 죠 ? 혹시 저희 선생님...\n",
       "21    너 저번 친구 지갑 에서 돈 훔쳤잖아 . \\n 말 왜 지금 꺼내 . \\n 야 불어 ...\n",
       "22    어유 파리 꼬여 어디서 계란 썩는 냄새 나냐 설마 사람 한 태 나 냄새 아닐테고 \\...\n",
       "23    나좀 제발 그만 따라다녀 . 부탁 이야 \\n 너 만나려면 널 찾아가야 될거아냐 \\n...\n",
       "24    야 . 거지 ! \\n 너 네 집 저기 판자촌 이라 면서 ? \\n . \\n 판자촌 뭐...\n",
       "25    여보 생활비 좀 주세요 \\n 아니 놈 마누라 허구 한 날 입 만 열면 돈 타령 이야...\n",
       "26    조용히 살라 고 했는데 새끼 깔짝깔짝 건드 네 ? \\n 그러지마 . 그건 정말 너 ...\n",
       "27    돈 빌려 갔으면 갚아야지 \\n 죄송합니다 시간 조금 만 더 주 십 시오 \\n 내 왜...\n",
       "28    리 넌 토막 내서 죽여줄게 \\n 살려주세요 \\n 싫어 난 너 장난감 이랑 놀 시간 ...\n",
       "29    병신 아이스크림 먹게 돼 있냐 ? \\n 난 먹으면 안 돼 ? 그만 좀 해 . \\n ...\n",
       "Name: conversation, dtype: object"
      ]
     },
     "execution_count": 23,
     "metadata": {},
     "output_type": "execute_result"
    }
   ],
   "source": [
    "temp[10:30]"
   ]
  },
  {
   "cell_type": "code",
   "execution_count": null,
   "id": "f53ba424",
   "metadata": {},
   "outputs": [],
   "source": []
  }
 ],
 "metadata": {
  "kernelspec": {
   "display_name": "Python 3 (ipykernel)",
   "language": "python",
   "name": "python3"
  },
  "language_info": {
   "codemirror_mode": {
    "name": "ipython",
    "version": 3
   },
   "file_extension": ".py",
   "mimetype": "text/x-python",
   "name": "python",
   "nbconvert_exporter": "python",
   "pygments_lexer": "ipython3",
   "version": "3.9.7"
  }
 },
 "nbformat": 4,
 "nbformat_minor": 5
}
