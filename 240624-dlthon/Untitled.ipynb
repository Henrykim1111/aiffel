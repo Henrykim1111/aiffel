{
 "cells": [
  {
   "cell_type": "code",
   "execution_count": 5,
   "id": "7286ff52",
   "metadata": {},
   "outputs": [
    {
     "data": {
      "text/html": [
       "<div>\n",
       "<style scoped>\n",
       "    .dataframe tbody tr th:only-of-type {\n",
       "        vertical-align: middle;\n",
       "    }\n",
       "\n",
       "    .dataframe tbody tr th {\n",
       "        vertical-align: top;\n",
       "    }\n",
       "\n",
       "    .dataframe thead th {\n",
       "        text-align: right;\n",
       "    }\n",
       "</style>\n",
       "<table border=\"1\" class=\"dataframe\">\n",
       "  <thead>\n",
       "    <tr style=\"text-align: right;\">\n",
       "      <th></th>\n",
       "      <th>idx</th>\n",
       "      <th>class</th>\n",
       "      <th>conversation</th>\n",
       "    </tr>\n",
       "  </thead>\n",
       "  <tbody>\n",
       "    <tr>\n",
       "      <th>0</th>\n",
       "      <td>0</td>\n",
       "      <td>협박 대화</td>\n",
       "      <td>지금 너 스스로를 죽여달라고 애원하는 것인가?\\n 아닙니다. 죄송합니다.\\n 죽을 ...</td>\n",
       "    </tr>\n",
       "    <tr>\n",
       "      <th>1</th>\n",
       "      <td>1</td>\n",
       "      <td>협박 대화</td>\n",
       "      <td>길동경찰서입니다.\\n9시 40분 마트에 폭발물을 설치할거다.\\n네?\\n똑바로 들어 ...</td>\n",
       "    </tr>\n",
       "    <tr>\n",
       "      <th>2</th>\n",
       "      <td>2</td>\n",
       "      <td>기타 괴롭힘 대화</td>\n",
       "      <td>너 되게 귀여운거 알지? 나보다 작은 남자는 첨봤어.\\n그만해. 니들 놀리는거 재미...</td>\n",
       "    </tr>\n",
       "    <tr>\n",
       "      <th>3</th>\n",
       "      <td>3</td>\n",
       "      <td>갈취 대화</td>\n",
       "      <td>어이 거기\\n예??\\n너 말이야 너. 이리 오라고\\n무슨 일.\\n너 옷 좋아보인다?...</td>\n",
       "    </tr>\n",
       "    <tr>\n",
       "      <th>4</th>\n",
       "      <td>4</td>\n",
       "      <td>갈취 대화</td>\n",
       "      <td>저기요 혹시 날이 너무 뜨겁잖아요? 저희 회사에서 이 선크림 파는데 한 번 손등에 ...</td>\n",
       "    </tr>\n",
       "  </tbody>\n",
       "</table>\n",
       "</div>"
      ],
      "text/plain": [
       "   idx      class                                       conversation\n",
       "0    0      협박 대화  지금 너 스스로를 죽여달라고 애원하는 것인가?\\n 아닙니다. 죄송합니다.\\n 죽을 ...\n",
       "1    1      협박 대화  길동경찰서입니다.\\n9시 40분 마트에 폭발물을 설치할거다.\\n네?\\n똑바로 들어 ...\n",
       "2    2  기타 괴롭힘 대화  너 되게 귀여운거 알지? 나보다 작은 남자는 첨봤어.\\n그만해. 니들 놀리는거 재미...\n",
       "3    3      갈취 대화  어이 거기\\n예??\\n너 말이야 너. 이리 오라고\\n무슨 일.\\n너 옷 좋아보인다?...\n",
       "4    4      갈취 대화  저기요 혹시 날이 너무 뜨겁잖아요? 저희 회사에서 이 선크림 파는데 한 번 손등에 ..."
      ]
     },
     "execution_count": 5,
     "metadata": {},
     "output_type": "execute_result"
    }
   ],
   "source": [
    "import os\n",
    "import pandas as pd\n",
    "\n",
    "train_data_path =\"~/aiffel/240624-dlthon/data/train.csv\"\n",
    "train_data = pd.read_csv(train_data_path)\n",
    "train_data.head()"
   ]
  },
  {
   "cell_type": "code",
   "execution_count": 6,
   "id": "a97b3297",
   "metadata": {},
   "outputs": [],
   "source": [
    "import pandas as pd\n",
    "import tensorflow as tf\n",
    "from tensorflow import keras\n",
    "from sklearn.model_selection import train_test_split\n",
    "import wandb\n",
    "from wandb.keras import WandbCallback\n",
    "from sklearn.preprocessing import LabelEncoder"
   ]
  },
  {
   "cell_type": "code",
   "execution_count": 21,
   "id": "bc6bdf0a",
   "metadata": {},
   "outputs": [
    {
     "data": {
      "text/html": [
       "<div>\n",
       "<style scoped>\n",
       "    .dataframe tbody tr th:only-of-type {\n",
       "        vertical-align: middle;\n",
       "    }\n",
       "\n",
       "    .dataframe tbody tr th {\n",
       "        vertical-align: top;\n",
       "    }\n",
       "\n",
       "    .dataframe thead th {\n",
       "        text-align: right;\n",
       "    }\n",
       "</style>\n",
       "<table border=\"1\" class=\"dataframe\">\n",
       "  <thead>\n",
       "    <tr style=\"text-align: right;\">\n",
       "      <th></th>\n",
       "      <th>idx</th>\n",
       "      <th>class</th>\n",
       "      <th>conversation</th>\n",
       "    </tr>\n",
       "  </thead>\n",
       "  <tbody>\n",
       "    <tr>\n",
       "      <th>0</th>\n",
       "      <td>0</td>\n",
       "      <td>협박 대화</td>\n",
       "      <td>지금 너 스스로를 죽여달라고 애원하는 것인가?\\n 아닙니다. 죄송합니다.\\n 죽을 ...</td>\n",
       "    </tr>\n",
       "    <tr>\n",
       "      <th>1</th>\n",
       "      <td>1</td>\n",
       "      <td>협박 대화</td>\n",
       "      <td>길동경찰서입니다.\\n9시 40분 마트에 폭발물을 설치할거다.\\n네?\\n똑바로 들어 ...</td>\n",
       "    </tr>\n",
       "    <tr>\n",
       "      <th>2</th>\n",
       "      <td>2</td>\n",
       "      <td>기타 괴롭힘 대화</td>\n",
       "      <td>너 되게 귀여운거 알지? 나보다 작은 남자는 첨봤어.\\n그만해. 니들 놀리는거 재미...</td>\n",
       "    </tr>\n",
       "    <tr>\n",
       "      <th>3</th>\n",
       "      <td>3</td>\n",
       "      <td>갈취 대화</td>\n",
       "      <td>어이 거기\\n예??\\n너 말이야 너. 이리 오라고\\n무슨 일.\\n너 옷 좋아보인다?...</td>\n",
       "    </tr>\n",
       "    <tr>\n",
       "      <th>4</th>\n",
       "      <td>4</td>\n",
       "      <td>갈취 대화</td>\n",
       "      <td>저기요 혹시 날이 너무 뜨겁잖아요? 저희 회사에서 이 선크림 파는데 한 번 손등에 ...</td>\n",
       "    </tr>\n",
       "  </tbody>\n",
       "</table>\n",
       "</div>"
      ],
      "text/plain": [
       "   idx      class                                       conversation\n",
       "0    0      협박 대화  지금 너 스스로를 죽여달라고 애원하는 것인가?\\n 아닙니다. 죄송합니다.\\n 죽을 ...\n",
       "1    1      협박 대화  길동경찰서입니다.\\n9시 40분 마트에 폭발물을 설치할거다.\\n네?\\n똑바로 들어 ...\n",
       "2    2  기타 괴롭힘 대화  너 되게 귀여운거 알지? 나보다 작은 남자는 첨봤어.\\n그만해. 니들 놀리는거 재미...\n",
       "3    3      갈취 대화  어이 거기\\n예??\\n너 말이야 너. 이리 오라고\\n무슨 일.\\n너 옷 좋아보인다?...\n",
       "4    4      갈취 대화  저기요 혹시 날이 너무 뜨겁잖아요? 저희 회사에서 이 선크림 파는데 한 번 손등에 ..."
      ]
     },
     "execution_count": 21,
     "metadata": {},
     "output_type": "execute_result"
    }
   ],
   "source": [
    "train_data_path =\"~/aiffel/240624-dlthon/data/train.csv\"\n",
    "train_data = pd.read_csv(train_data_path)\n",
    "train_data.head()"
   ]
  },
  {
   "cell_type": "code",
   "execution_count": 22,
   "id": "39e425b9",
   "metadata": {},
   "outputs": [
    {
     "data": {
      "text/html": [
       "<div>\n",
       "<style scoped>\n",
       "    .dataframe tbody tr th:only-of-type {\n",
       "        vertical-align: middle;\n",
       "    }\n",
       "\n",
       "    .dataframe tbody tr th {\n",
       "        vertical-align: top;\n",
       "    }\n",
       "\n",
       "    .dataframe thead th {\n",
       "        text-align: right;\n",
       "    }\n",
       "</style>\n",
       "<table border=\"1\" class=\"dataframe\">\n",
       "  <thead>\n",
       "    <tr style=\"text-align: right;\">\n",
       "      <th></th>\n",
       "      <th>idx</th>\n",
       "      <th>class</th>\n",
       "      <th>conversation</th>\n",
       "    </tr>\n",
       "  </thead>\n",
       "  <tbody>\n",
       "    <tr>\n",
       "      <th>0</th>\n",
       "      <td>0</td>\n",
       "      <td>협박 대화</td>\n",
       "      <td>지금 너 스스로를 죽여달라고 애원하는 것인가?\\n 아닙니다. 죄송합니다.\\n 죽을 ...</td>\n",
       "    </tr>\n",
       "    <tr>\n",
       "      <th>1</th>\n",
       "      <td>1</td>\n",
       "      <td>협박 대화</td>\n",
       "      <td>길동경찰서입니다.\\n9시 40분 마트에 폭발물을 설치할거다.\\n네?\\n똑바로 들어 ...</td>\n",
       "    </tr>\n",
       "    <tr>\n",
       "      <th>2</th>\n",
       "      <td>2</td>\n",
       "      <td>기타 괴롭힘 대화</td>\n",
       "      <td>너 되게 귀여운거 알지? 나보다 작은 남자는 첨봤어.\\n그만해. 니들 놀리는거 재미...</td>\n",
       "    </tr>\n",
       "    <tr>\n",
       "      <th>3</th>\n",
       "      <td>3</td>\n",
       "      <td>갈취 대화</td>\n",
       "      <td>어이 거기\\n예??\\n너 말이야 너. 이리 오라고\\n무슨 일.\\n너 옷 좋아보인다?...</td>\n",
       "    </tr>\n",
       "    <tr>\n",
       "      <th>4</th>\n",
       "      <td>4</td>\n",
       "      <td>갈취 대화</td>\n",
       "      <td>저기요 혹시 날이 너무 뜨겁잖아요? 저희 회사에서 이 선크림 파는데 한 번 손등에 ...</td>\n",
       "    </tr>\n",
       "    <tr>\n",
       "      <th>...</th>\n",
       "      <td>...</td>\n",
       "      <td>...</td>\n",
       "      <td>...</td>\n",
       "    </tr>\n",
       "    <tr>\n",
       "      <th>3945</th>\n",
       "      <td>3945</td>\n",
       "      <td>기타 괴롭힘 대화</td>\n",
       "      <td>준하야 넌 대가리가 왜이렇게 크냐?\\n내 머리가 뭐.\\n밥먹으면 대가리만 크냐 너는...</td>\n",
       "    </tr>\n",
       "    <tr>\n",
       "      <th>3946</th>\n",
       "      <td>3946</td>\n",
       "      <td>갈취 대화</td>\n",
       "      <td>내가 지금 너 아들 김길준 데리고 있어. 살리고 싶으면 계좌에 1억만 보내\\n예.?...</td>\n",
       "    </tr>\n",
       "    <tr>\n",
       "      <th>3947</th>\n",
       "      <td>3947</td>\n",
       "      <td>직장 내 괴롭힘 대화</td>\n",
       "      <td>나는 씨 같은 사람 보면 참 신기하더라. 어떻게 저렇게 살지.\\n왜 그래. 들리겠어...</td>\n",
       "    </tr>\n",
       "    <tr>\n",
       "      <th>3948</th>\n",
       "      <td>3948</td>\n",
       "      <td>갈취 대화</td>\n",
       "      <td>누구맘대로 여기서 장사하래?\\n이게 무슨일입니까?\\n남의 구역에서 장사하려면 자릿세...</td>\n",
       "    </tr>\n",
       "    <tr>\n",
       "      <th>3949</th>\n",
       "      <td>3949</td>\n",
       "      <td>직장 내 괴롭힘 대화</td>\n",
       "      <td>희정씨\\n네?\\n주말에 시간이 넘쳐나나봐\\n갑자기 왜그러세요?\\n손이 빤짝빤짝 네일...</td>\n",
       "    </tr>\n",
       "  </tbody>\n",
       "</table>\n",
       "<p>3950 rows × 3 columns</p>\n",
       "</div>"
      ],
      "text/plain": [
       "       idx        class                                       conversation\n",
       "0        0        협박 대화  지금 너 스스로를 죽여달라고 애원하는 것인가?\\n 아닙니다. 죄송합니다.\\n 죽을 ...\n",
       "1        1        협박 대화  길동경찰서입니다.\\n9시 40분 마트에 폭발물을 설치할거다.\\n네?\\n똑바로 들어 ...\n",
       "2        2    기타 괴롭힘 대화  너 되게 귀여운거 알지? 나보다 작은 남자는 첨봤어.\\n그만해. 니들 놀리는거 재미...\n",
       "3        3        갈취 대화  어이 거기\\n예??\\n너 말이야 너. 이리 오라고\\n무슨 일.\\n너 옷 좋아보인다?...\n",
       "4        4        갈취 대화  저기요 혹시 날이 너무 뜨겁잖아요? 저희 회사에서 이 선크림 파는데 한 번 손등에 ...\n",
       "...    ...          ...                                                ...\n",
       "3945  3945    기타 괴롭힘 대화  준하야 넌 대가리가 왜이렇게 크냐?\\n내 머리가 뭐.\\n밥먹으면 대가리만 크냐 너는...\n",
       "3946  3946        갈취 대화  내가 지금 너 아들 김길준 데리고 있어. 살리고 싶으면 계좌에 1억만 보내\\n예.?...\n",
       "3947  3947  직장 내 괴롭힘 대화  나는 씨 같은 사람 보면 참 신기하더라. 어떻게 저렇게 살지.\\n왜 그래. 들리겠어...\n",
       "3948  3948        갈취 대화  누구맘대로 여기서 장사하래?\\n이게 무슨일입니까?\\n남의 구역에서 장사하려면 자릿세...\n",
       "3949  3949  직장 내 괴롭힘 대화  희정씨\\n네?\\n주말에 시간이 넘쳐나나봐\\n갑자기 왜그러세요?\\n손이 빤짝빤짝 네일...\n",
       "\n",
       "[3950 rows x 3 columns]"
      ]
     },
     "execution_count": 22,
     "metadata": {},
     "output_type": "execute_result"
    }
   ],
   "source": [
    "train_data"
   ]
  },
  {
   "cell_type": "code",
   "execution_count": 14,
   "id": "8264d7d6",
   "metadata": {},
   "outputs": [
    {
     "name": "stdout",
     "output_type": "stream",
     "text": [
      "0       False\n",
      "1       False\n",
      "2       False\n",
      "3       False\n",
      "4       False\n",
      "        ...  \n",
      "3945    False\n",
      "3946    False\n",
      "3947    False\n",
      "3948    False\n",
      "3949    False\n",
      "Length: 3950, dtype: bool\n",
      "Number of duplicate rows: 0\n"
     ]
    }
   ],
   "source": [
    "# 중복된 행을 찾기\n",
    "duplicates = train_data.duplicated()\n",
    "print(duplicates)\n",
    "\n",
    "# 중복된 행의 개수를 세기\n",
    "num_duplicates = train_data.duplicated().sum()\n",
    "print(f'Number of duplicate rows: {num_duplicates}')"
   ]
  },
  {
   "cell_type": "code",
   "execution_count": 36,
   "id": "b6e4ca8c",
   "metadata": {},
   "outputs": [
    {
     "name": "stdout",
     "output_type": "stream",
     "text": [
      "3846\n"
     ]
    }
   ],
   "source": [
    "print(train_data['conversation'].nunique())"
   ]
  },
  {
   "cell_type": "code",
   "execution_count": 37,
   "id": "3fb033ed",
   "metadata": {},
   "outputs": [
    {
     "name": "stdout",
     "output_type": "stream",
     "text": [
      "저기요. 잠깐만요\\n매일 왜이러세요. 전 할말 없어요\\n그 쪽이 좋아서요\\n전 관심 없어요. 오지 마세요\\n한 번만 만나주세요.\\n제발 이러지 마세요. 전 남자친구 있어요\\n결혼한 건 아니잖아요. 딱 한번만 데이트해요\\n내가 왜 그쪽이랑 만나요?\\n그 쪽이 내 스타일이에요\\n난 아니거든요.                                                                                                                                                        2\n",
      "야 석탄?\\n 내가 왜 석탄이야?\\n 얼굴이 까마니까 석탄이지.\\n 그만해.\\n 너 라이터 불붙이면 아주 잘 타겠다.\\n 가 비켜.\\n 아주 콧구멍 커지니까 이제 연탄이네.\\n 비키라고.\\n 야 연탄?\\n 제발 좀 그만해. 나 정말 힘들어.                                                                                                                                                                                    2\n",
      "진용아 내 내 가방 돌려줘\\n아하하 진용아? 가방 돌려줄까?\\n노 놀리지마\\n노 놀리지마\\n하아.\\n한숨 쉰 거야?\\n아 아 아아니야.\\n아 아 아 아니야? 하하하하\\n아아.\\n왜? 기분 나빠?                                                                                                                                                                                                              2\n",
      "김대리. 이번 주간 회의 발표 준비좀 해줘.\\n저 말입니까.?\\n응. 너가 해줘\\n과장님 저번에도 제가 했고 저기 아무것도 안하는 사람들 있지 않습니까.\\n그래서 하기 싫다고.?\\n너무 하신거 아닙니까.? 지금 다른 업무로 조금 바쁩니다.\\n그래 그럼 그만둬 바쁜게 싫으면 그만둬야지\\n아닙니다. 죄송합니다. 제가 하겠습니다\\n진작에 그냥 한다고 했으면 됐잖아\\n옙. 죄송합니다.                                                                                                      2\n",
      "너 일로 따라와봐.\\n왜 그러는데.?\\n그냥 닥치고 따라오라면 따라와 진짜\\n어어.\\n너 잘보니까 국어쌤이랑 닮았다? 너?\\n헐대박 똑같네\\n나 아까 국어쌤한테 불려가서 혼난거 알아 몰라. 화풀이상대가 여깄구만!\\n아 하지마.\\n뭐? 하지말라고? 벙어리가 말도 하네?\\n.너네들 신고할꺼야.!.\\n뭐? 할 수 있음 해보시던가 그냥 짜지고 살라고 학교에서                                                                                                                     2\n",
      "                                                                                                                                                                                                                                                                                                                         ..\n",
      "자네는 생각이 없는가?\\n네?\\n내가 자네 결혼할때 빈몸으로 와서 집을 사줬으면 우리 집에 주말마다와서 얼굴도 비추고 자네 장모 적적하니 이야기도 하고 밥도 해먹고 그래야하는거아닌가?\\n네? 저번주에도 들렸는데.\\n아니 장인어른이 말하면 네 죄송합니다 하면 되지 자네는 집에서 교육을 그렇게 받았는가?\\n장인어른 말씀이 좀 심하신 것 같습니다\\n왜 기분나쁜가? 나도 기분이 자네때문에 안좋네\\n제가 뭘 그렇게 잘못했는지도 모르겠습니다\\n나 참 사위라도 마음에 안드는거 데려왔어도 딸아이가 좋다길래 받아줬더니 기여코 이런 일이 생기네\\n장인어른 너무하십니다    1\n",
      "안녕하십니까 사장님\\n뭔 안녕해 미친놈아 저리 꺼져\\n죄송합니다 사장님\\n그러게 죄송할 짓을 왜 하고 자빠지나\\n죄송합니다.\\n자네 창의성이 없나 죄송하다는 말밖에 못하는 장애를 가지고 있어?\\n그럼 어떻게 말해야 하나요?\\n얼래? 지금 대드는 거야? 됐다 차라리 죄송하다고 말이나 해 멍청아                                                                                                                                                       1\n",
      "아 이거 꼭 사고 싶은데 돈이 모자라. 5만원만 주라\\n 5만원? 나 돈 없어\\n 있는거 다 알아 무슨 5만원도 없어\\n 진짜 없어 이번달 용돈 다 썼어\\n 뭐 사야된다 하고 집에서 받으면 되잖아\\n 저번달에도 그렇게 해서 엄마한테 받았어. 그 때도 네가 뭐 산다해서 줬잖아\\n 내가 돈 받으면 준다 했잖아 그건\\n 근데 안줬잖아\\n 아 열받게 하네. 너 왕따 당하고 싶어?\\n 아니. 그래도 너무하잖아 계속 돈을 요구하는건.\\n 그래서. 못 주겠어? 이거 곧 품절될 거 같으니까 내일까지 돈 가져와\\n. 알겠어.                           1\n",
      "담배 좀 사주라\\n나 돈없어\\n그럼 몸으로 때우던지\\n나 집에 가야돼 다음에 만나\\n야! 어딜 집에가 겁대가리 없이\\n왜이래? 나 정말 가봐야돼\\n야 담배 심부름 하고가야지\\n지금은 곤란해\\n맞고할래 그냥할래?\\n미안해                                                                                                                                                                                                1\n",
      "희정씨\\n네?\\n주말에 시간이 넘쳐나나봐\\n갑자기 왜그러세요?\\n손이 빤짝빤짝 네일했니?\\n네 여름이라 기분전환으로.\\n어휴 그손으로 결제 받으러 가면 윗분들 눈 아프시겠다 정신사나워\\n그냥 파스텔톤으로만 칠한건데.\\n희정씨가 윗사람이야?? 얼른 가서 지우고와\\n.네                                                                                                                                                                     1\n",
      "Name: conversation, Length: 3846, dtype: int64\n"
     ]
    }
   ],
   "source": [
    "# 중복된 행을 찾기\n",
    "val_counts = train_data['conversation'].value_counts()\n",
    "\n",
    "print(val_counts)"
   ]
  },
  {
   "cell_type": "code",
   "execution_count": 38,
   "id": "a8869ede",
   "metadata": {},
   "outputs": [
    {
     "name": "stdout",
     "output_type": "stream",
     "text": [
      "     idx      class                                       conversation\n",
      "262  262  기타 괴롭힘 대화  저기요. 잠깐만요\\n매일 왜이러세요. 전 할말 없어요\\n그 쪽이 좋아서요\\n전 관심...\n",
      "932  932  기타 괴롭힘 대화  저기요. 잠깐만요\\n매일 왜이러세요. 전 할말 없어요\\n그 쪽이 좋아서요\\n전 관심...\n"
     ]
    }
   ],
   "source": [
    "print(train_data[train_data['conversation'] == \"저기요. 잠깐만요\\n매일 왜이러세요. 전 할말 없어요\\n그 쪽이 좋아서요\\n전 관심 없어요. 오지 마세요\\n한 번만 만나주세요.\\n제발 이러지 마세요. 전 남자친구 있어요\\n결혼한 건 아니잖아요. 딱 한번만 데이트해요\\n내가 왜 그쪽이랑 만나요?\\n그 쪽이 내 스타일이에요\\n난 아니거든요.\"])"
   ]
  },
  {
   "cell_type": "code",
   "execution_count": 39,
   "id": "1ad100b6",
   "metadata": {},
   "outputs": [
    {
     "name": "stdout",
     "output_type": "stream",
     "text": [
      "3846\n"
     ]
    }
   ],
   "source": [
    "train_data.drop_duplicates(subset = ['conversation'], inplace=True)\n",
    "print(len(train_data))"
   ]
  },
  {
   "cell_type": "code",
   "execution_count": null,
   "id": "21f59d63",
   "metadata": {},
   "outputs": [],
   "source": [
    "train"
   ]
  },
  {
   "cell_type": "code",
   "execution_count": 33,
   "id": "dbcc60a3",
   "metadata": {},
   "outputs": [],
   "source": [
    "stopwords = {'이', '그', '저', '의', '가', '을', '를', '은', '는', '에', '와', '과', '도', '으로', '로', '에서', '에게', '뿐'}"
   ]
  },
  {
   "cell_type": "code",
   "execution_count": 35,
   "id": "b6d3dcda",
   "metadata": {},
   "outputs": [],
   "source": [
    "def remove_stopwords(text):\n",
    "    words = text.split()\n",
    "    filtered_words = [word for word in words if word not in stopwords]\n",
    "    return ' '.join(filtered_words)"
   ]
  },
  {
   "cell_type": "markdown",
   "id": "79ebfda3",
   "metadata": {},
   "source": []
  },
  {
   "cell_type": "code",
   "execution_count": null,
   "id": "3efe9813",
   "metadata": {},
   "outputs": [],
   "source": []
  },
  {
   "cell_type": "code",
   "execution_count": null,
   "id": "e6d1fe96",
   "metadata": {},
   "outputs": [],
   "source": []
  },
  {
   "cell_type": "code",
   "execution_count": null,
   "id": "bfe7f6b3",
   "metadata": {},
   "outputs": [],
   "source": []
  },
  {
   "cell_type": "code",
   "execution_count": 40,
   "id": "a00867f0",
   "metadata": {},
   "outputs": [
    {
     "name": "stdout",
     "output_type": "stream",
     "text": [
      " 문장에서 ''와 '' 제거해 봅시다.\n"
     ]
    }
   ],
   "source": [
    "import re\n",
    "\n",
    "def remove_stopwords(sentence, stopwords):\n",
    "    # 불용어 리스트를 정규표현식에 맞게 포맷합니다.\n",
    "    stopwords_regex = r'\\b(' + '|'.join(stopwords) + r')\\b'\n",
    "        \n",
    "    # 정규표현식을 사용하여 불용어를 제거합니다.\n",
    "    sentence_without_stopwords = re.sub(stopwords_regex, '', sentence)\n",
    "    \n",
    "    return sentence_without_stopwords\n",
    "\n",
    "# 예제 문장과 불용어 리스트\n",
    "sentence = \"이 문장에서 '이'와 '가'를 제거해 봅시다.\"\n",
    "stopwords = ['이', '가', '을', '를']\n",
    "\n",
    "# 불용어 제거 함수 호출\n",
    "filtered_sentence = remove_stopwords(sentence, stopwords)\n",
    "print(filtered_sentence)\n"
   ]
  },
  {
   "cell_type": "code",
   "execution_count": null,
   "id": "40f547e7",
   "metadata": {},
   "outputs": [],
   "source": []
  }
 ],
 "metadata": {
  "kernelspec": {
   "display_name": "Python 3 (ipykernel)",
   "language": "python",
   "name": "python3"
  },
  "language_info": {
   "codemirror_mode": {
    "name": "ipython",
    "version": 3
   },
   "file_extension": ".py",
   "mimetype": "text/x-python",
   "name": "python",
   "nbconvert_exporter": "python",
   "pygments_lexer": "ipython3",
   "version": "3.9.7"
  }
 },
 "nbformat": 4,
 "nbformat_minor": 5
}
