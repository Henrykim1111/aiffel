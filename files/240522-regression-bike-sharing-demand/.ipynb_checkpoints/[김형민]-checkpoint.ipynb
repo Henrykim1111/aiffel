{
 "cells": [
  {
   "cell_type": "markdown",
   "metadata": {
    "id": "TiIXjngNy0Ki"
   },
   "source": [
    "# **Library Import & Data Check**"
   ]
  },
  {
   "cell_type": "markdown",
   "metadata": {
    "id": "Gcgar5i0zQix"
   },
   "source": [
    "## Importing libraries"
   ]
  },
  {
   "cell_type": "code",
   "execution_count": null,
   "metadata": {
    "id": "Bz7Uf25ACM2t"
   },
   "outputs": [],
   "source": [
    "import pandas as pd\n",
    "import numpy as np\n",
    "import matplotlib.pyplot as plt\n",
    "import seaborn as sns\n",
    "import pandas as pd\n",
    "import datetime as dt\n",
    "import scipy"
   ]
  },
  {
   "cell_type": "markdown",
   "metadata": {
    "id": "grqt_F5izhhv"
   },
   "source": [
    "## Loading data"
   ]
  },
  {
   "cell_type": "code",
   "execution_count": null,
   "metadata": {
    "colab": {
     "base_uri": "https://localhost:8080/",
     "height": 1000
    },
    "id": "1EYRsGriSkfT",
    "outputId": "f31ec8f9-fff1-41ee-e822-77b3d413e692"
   },
   "outputs": [],
   "source": [
    "from google.colab import files\n",
    "files.upload()"
   ]
  },
  {
   "cell_type": "code",
   "execution_count": null,
   "metadata": {
    "id": "yRa-MUidNzSH"
   },
   "outputs": [],
   "source": [
    "train = pd.read_csv(\"train.csv\")\n",
    "test = pd.read_csv(\"test.csv\")\n",
    "submission = pd.read_csv(\"sampleSubmission.csv\")"
   ]
  },
  {
   "cell_type": "markdown",
   "metadata": {
    "id": "1LMe8ArPz1bq"
   },
   "source": [
    "## Checking data"
   ]
  },
  {
   "cell_type": "code",
   "execution_count": null,
   "metadata": {
    "colab": {
     "base_uri": "https://localhost:8080/"
    },
    "id": "rvPDmbNMFxl1",
    "outputId": "7759ec15-083b-4bf8-fddb-5ea62c35b228"
   },
   "outputs": [],
   "source": [
    "train.columns"
   ]
  },
  {
   "cell_type": "code",
   "execution_count": null,
   "metadata": {
    "colab": {
     "base_uri": "https://localhost:8080/"
    },
    "id": "woddQkuNNCIz",
    "outputId": "4595e006-6214-4d9e-9da0-2153e4f610b4"
   },
   "outputs": [],
   "source": [
    "test.columns"
   ]
  },
  {
   "cell_type": "code",
   "execution_count": null,
   "metadata": {
    "colab": {
     "base_uri": "https://localhost:8080/",
     "height": 206
    },
    "id": "ajGxd9brNCNa",
    "outputId": "98566013-89c3-4f20-9dcb-ead40d87ffc6"
   },
   "outputs": [],
   "source": [
    "train.head()"
   ]
  },
  {
   "cell_type": "code",
   "execution_count": null,
   "metadata": {
    "colab": {
     "base_uri": "https://localhost:8080/",
     "height": 206
    },
    "id": "tKofUcoPNCQp",
    "outputId": "7dbcdbbf-ab85-4f90-ae54-6678d07f52b3"
   },
   "outputs": [],
   "source": [
    "test.head()"
   ]
  },
  {
   "cell_type": "code",
   "execution_count": null,
   "metadata": {
    "colab": {
     "base_uri": "https://localhost:8080/",
     "height": 206
    },
    "id": "gLIIxNM5NCTh",
    "outputId": "949b2895-a160-4e8e-8c1d-6809c5efdb1f"
   },
   "outputs": [],
   "source": [
    "submission.head()"
   ]
  },
  {
   "cell_type": "code",
   "execution_count": null,
   "metadata": {
    "id": "pCJRp_21NCWR"
   },
   "outputs": [],
   "source": [
    "train['datetime'] = pd.to_datetime(train['datetime'])\n",
    "test['datetime'] = pd.to_datetime(test['datetime'])"
   ]
  },
  {
   "cell_type": "code",
   "execution_count": null,
   "metadata": {
    "colab": {
     "base_uri": "https://localhost:8080/"
    },
    "id": "svHjIQ1cNCZH",
    "outputId": "7471ae97-86fb-4c13-9d95-1fde4a3a46be"
   },
   "outputs": [],
   "source": [
    "train.info()"
   ]
  },
  {
   "cell_type": "code",
   "execution_count": null,
   "metadata": {
    "colab": {
     "base_uri": "https://localhost:8080/"
    },
    "id": "-tT3z3sHNCcK",
    "outputId": "089a432b-1fb9-4a7d-8fcf-9024d54dedef"
   },
   "outputs": [],
   "source": [
    "test.info()"
   ]
  },
  {
   "cell_type": "code",
   "execution_count": null,
   "metadata": {
    "colab": {
     "base_uri": "https://localhost:8080/"
    },
    "id": "oFhayG8BNCe_",
    "outputId": "6812c070-fc1f-4dba-8c0a-c6a21a5ea503"
   },
   "outputs": [],
   "source": [
    "print(train.shape)\n",
    "print(test.shape)"
   ]
  },
  {
   "cell_type": "markdown",
   "metadata": {
    "id": "TH43eeMAz-nr"
   },
   "source": [
    "## Exploratory Data Analysis"
   ]
  },
  {
   "cell_type": "code",
   "execution_count": null,
   "metadata": {
    "id": "987XzRPENCh_"
   },
   "outputs": [],
   "source": [
    "train['year'] = train['datetime'].dt.year\n",
    "train['month'] = train['datetime'].dt.month\n",
    "train['day'] = train['datetime'].dt.day\n",
    "train['hour'] = train['datetime'].dt.hour\n",
    "train['minute'] = train['datetime'].dt.minute\n",
    "train['second'] = train['datetime'].dt.second\n",
    "\n",
    "train['dayofweek'] = train['datetime'].dt.dayofweek\n",
    "\n",
    "test['year'] = test['datetime'].dt.year\n",
    "test['month'] = test['datetime'].dt.month\n",
    "test['day'] = test['datetime'].dt.day\n",
    "test['hour'] = test['datetime'].dt.hour\n",
    "test['minute'] = test['datetime'].dt.minute\n",
    "test['second'] = test['datetime'].dt.second\n",
    "\n",
    "test['dayofweek'] = test['datetime'].dt.dayofweek"
   ]
  },
  {
   "cell_type": "code",
   "execution_count": null,
   "metadata": {
    "colab": {
     "base_uri": "https://localhost:8080/",
     "height": 467
    },
    "id": "mRALYWIFNClR",
    "outputId": "1c29bc3a-b863-49e7-d278-2089d0b5f8b1"
   },
   "outputs": [],
   "source": [
    "sns.barplot(data = train, x = 'year', y = 'count')"
   ]
  },
  {
   "cell_type": "code",
   "execution_count": null,
   "metadata": {
    "colab": {
     "base_uri": "https://localhost:8080/",
     "height": 467
    },
    "id": "oKVXUzTuFxp6",
    "outputId": "a2ec85f9-7adb-49e9-d0fa-23adbc71b630"
   },
   "outputs": [],
   "source": [
    "sns.barplot(data = train, x = 'month', y = 'count')"
   ]
  },
  {
   "cell_type": "code",
   "execution_count": null,
   "metadata": {
    "colab": {
     "base_uri": "https://localhost:8080/",
     "height": 467
    },
    "id": "KAo4X7LzFxtO",
    "outputId": "2097252d-4618-4482-e942-e55ae87fc4b9"
   },
   "outputs": [],
   "source": [
    "sns.barplot(data = train, x = 'day', y = 'count')"
   ]
  },
  {
   "cell_type": "code",
   "execution_count": null,
   "metadata": {
    "colab": {
     "base_uri": "https://localhost:8080/",
     "height": 467
    },
    "id": "jnFZQu41FxwA",
    "outputId": "26f3cb48-5552-4297-ede0-f1734f63735e"
   },
   "outputs": [],
   "source": [
    " sns.barplot(data = train, x = 'season', y = 'count')"
   ]
  },
  {
   "cell_type": "code",
   "execution_count": null,
   "metadata": {
    "colab": {
     "base_uri": "https://localhost:8080/"
    },
    "id": "wTCT1Y1eFxy4",
    "outputId": "e40bc9e2-61ca-4dff-eeab-9582b6cbad52"
   },
   "outputs": [],
   "source": [
    "print(train[train['season'] == 1].month.unique())\n",
    "print(train[train['season'] == 2].month.unique())\n",
    "print(train[train['season'] == 3].month.unique())\n",
    "print(train[train['season'] == 4].month.unique())"
   ]
  },
  {
   "cell_type": "code",
   "execution_count": null,
   "metadata": {
    "colab": {
     "base_uri": "https://localhost:8080/",
     "height": 349
    },
    "id": "S1GKE_AGFx1s",
    "outputId": "17d7c9b6-7e60-4fb7-af58-c48ff7e3f229"
   },
   "outputs": [],
   "source": [
    "fig, (ax1) = plt.subplots(1,1)\n",
    "fig.set_size_inches(20, 5)\n",
    "\n",
    "sns.pointplot(data = train, x = 'hour', y = 'count', ax = ax1)"
   ]
  },
  {
   "cell_type": "code",
   "execution_count": null,
   "metadata": {
    "colab": {
     "base_uri": "https://localhost:8080/",
     "height": 349
    },
    "id": "s6PKoMXKFx5K",
    "outputId": "5aab0ce1-3bdb-4042-c914-633eaa145c8f"
   },
   "outputs": [],
   "source": [
    "fig, (ax1) = plt.subplots(1,1)\n",
    "fig.set_size_inches(20, 5)\n",
    "\n",
    "sns.pointplot(data = train, x = 'hour', y = 'count', hue = 'workingday', ax = ax1)"
   ]
  },
  {
   "cell_type": "code",
   "execution_count": null,
   "metadata": {
    "colab": {
     "base_uri": "https://localhost:8080/",
     "height": 349
    },
    "id": "2evbOl6oO0aI",
    "outputId": "2af045a0-4aa9-4c95-d3fa-05393f2d0d1c"
   },
   "outputs": [],
   "source": [
    "fig, ax1 = plt.subplots(1,1)\n",
    "fig.set_size_inches(20, 5)\n",
    "\n",
    "sns.pointplot(data = train, x = 'hour', y = 'count', hue = 'holiday', ax = ax1)"
   ]
  },
  {
   "cell_type": "code",
   "execution_count": null,
   "metadata": {
    "colab": {
     "base_uri": "https://localhost:8080/",
     "height": 349
    },
    "id": "9gXRJzfwO0gW",
    "outputId": "87230ee5-2920-4a96-d9ff-7a9f5eec1802"
   },
   "outputs": [],
   "source": [
    "fig, ax1 = plt.subplots(1,1)\n",
    "fig.set_size_inches(20, 5)\n",
    "\n",
    "sns.pointplot(data = train, x = 'hour', y = 'count', hue = 'weather', ax = ax1)"
   ]
  },
  {
   "cell_type": "code",
   "execution_count": null,
   "metadata": {
    "colab": {
     "base_uri": "https://localhost:8080/",
     "height": 349
    },
    "id": "tBc3fRlSO0jX",
    "outputId": "972773ae-2303-4836-e0a9-5eee81b93a81"
   },
   "outputs": [],
   "source": [
    "fig, ax1 = plt.subplots(1,1)\n",
    "fig.set_size_inches(20, 5)\n",
    "\n",
    "sns.pointplot(data = train, x = 'hour', y = 'count', hue = 'dayofweek', ax = ax1)"
   ]
  },
  {
   "cell_type": "code",
   "execution_count": null,
   "metadata": {
    "colab": {
     "base_uri": "https://localhost:8080/",
     "height": 990
    },
    "id": "jgv1S8rwO0pd",
    "outputId": "60700ba7-e85b-4abd-99e7-9acbe15aa5de"
   },
   "outputs": [],
   "source": [
    "corr_data = train[['count', 'season', 'holiday', 'workingday', 'weather', 'temp', 'atemp', 'humidity', 'windspeed', 'month', 'day', 'hour']]\n",
    "fig, ax = plt.subplots(figsize=(20,12))\n",
    "colormap = plt.cm.PuBu\n",
    "\n",
    "sns.heatmap(data = corr_data.corr(), ax = ax, linewidths = 0.1, square = True, annot = True, cmap = colormap)\n",
    "\n",
    "plt.show()"
   ]
  },
  {
   "cell_type": "code",
   "execution_count": null,
   "metadata": {
    "colab": {
     "base_uri": "https://localhost:8080/",
     "height": 483
    },
    "id": "bnR1Vh_NO0sl",
    "outputId": "a1e4fa33-eb56-4074-d65e-731426e01ae0"
   },
   "outputs": [],
   "source": [
    "fig, (ax1, ax2, ax3) = plt.subplots(ncols = 3, figsize=(12,5))\n",
    "\n",
    "sns.scatterplot(data = train, x = 'windspeed', y = 'count', ax = ax1)\n",
    "sns.scatterplot(data = train, x = 'temp', y = 'count', ax = ax2)\n",
    "sns.scatterplot(data = train, x = 'humidity', y =  'count', ax = ax3)"
   ]
  },
  {
   "cell_type": "markdown",
   "metadata": {
    "id": "Gx5diDpu0emD"
   },
   "source": [
    "# **Feature Engineering**"
   ]
  },
  {
   "cell_type": "markdown",
   "metadata": {
    "id": "uiYbu27I0nrs"
   },
   "source": [
    "## Removing outliers"
   ]
  },
  {
   "cell_type": "code",
   "execution_count": null,
   "metadata": {
    "colab": {
     "base_uri": "https://localhost:8080/"
    },
    "id": "EOlRHayuO0vm",
    "outputId": "b27fa048-f61b-4042-9730-03af6eafe81c"
   },
   "outputs": [],
   "source": [
    "len(train[train['windspeed']==0])"
   ]
  },
  {
   "cell_type": "code",
   "execution_count": null,
   "metadata": {
    "colab": {
     "base_uri": "https://localhost:8080/",
     "height": 868
    },
    "id": "Ff4A3XHPTZT4",
    "outputId": "e6e04970-5a0d-4c18-e759-fead4b064713"
   },
   "outputs": [],
   "source": [
    "fig, (ax1, ax2, ax3, ax4, ax5, ax6) = plt.subplots(nrows = 6, figsize = (12,10))\n",
    "sns.boxplot(data = train, x = 'windspeed', ax = ax1)\n",
    "sns.boxplot(data = train, x = 'humidity', ax = ax2)\n",
    "sns.boxplot(data = train, x = 'temp', ax = ax3)\n",
    "sns.boxplot(data = train, x = 'casual', ax = ax4)\n",
    "sns.boxplot(data = train, x = 'registered', ax = ax5)\n",
    "sns.boxplot(data = train, x = 'count', ax = ax6)"
   ]
  },
  {
   "cell_type": "code",
   "execution_count": null,
   "metadata": {
    "id": "9HkxYb4zTZW7"
   },
   "outputs": [],
   "source": [
    "# IQR method\n",
    "\n",
    "from collections import Counter\n",
    "\n",
    "def detect_outliers(data, n, cols):\n",
    "    outlier_indices = []\n",
    "    for col in cols:\n",
    "        Q1 = np.percentile(data[col], 25)\n",
    "        Q3 = np.percentile(data[col], 75)\n",
    "        IQR = Q3 - Q1\n",
    "\n",
    "        outlier_step = 1.5 * IQR\n",
    "\n",
    "        outlier_list_col = data[(data[col] < Q1 - outlier_step) | (data[col] > Q3 + outlier_step)].index\n",
    "        outlier_indices.extend(outlier_list_col)\n",
    "    outlier_indices = Counter(outlier_indices)\n",
    "    multiple_outliers = list(k for k, v in outlier_indices.items() if v > n)\n",
    "\n",
    "    return multiple_outliers\n",
    "\n",
    "Outliers_to_drop = detect_outliers(train, 2, [\"temp\", \"atemp\", \"casual\", \"registered\", \"humidity\", \"windspeed\", \"count\"])\n"
   ]
  },
  {
   "cell_type": "code",
   "execution_count": null,
   "metadata": {
    "colab": {
     "base_uri": "https://localhost:8080/"
    },
    "id": "XT5N4O9ZTZZt",
    "outputId": "867eaff2-dccb-4aa0-db44-3e39bfb34152"
   },
   "outputs": [],
   "source": [
    "train.shape"
   ]
  },
  {
   "cell_type": "code",
   "execution_count": null,
   "metadata": {
    "colab": {
     "base_uri": "https://localhost:8080/"
    },
    "id": "YbeFbydSTZcY",
    "outputId": "28094a86-43c5-4722-8f7e-0636c86a029c"
   },
   "outputs": [],
   "source": [
    "train = train.drop(Outliers_to_drop, axis = 0).reset_index(drop = True)\n",
    "train.shape"
   ]
  },
  {
   "cell_type": "markdown",
   "metadata": {
    "id": "rO_PmSDr1Ijt"
   },
   "source": [
    "## Checking skewness and kurtosis"
   ]
  },
  {
   "cell_type": "code",
   "execution_count": null,
   "metadata": {
    "colab": {
     "base_uri": "https://localhost:8080/",
     "height": 578
    },
    "id": "weOM1PJoYW7C",
    "outputId": "01a41691-8527-4b88-f10a-37910805d77c"
   },
   "outputs": [],
   "source": [
    "fig, ax = plt.subplots(1, 1, figsize=(10, 6))\n",
    "\n",
    "graph = sns.histplot(train['count'],\n",
    "                     color='b',\n",
    "                     kde=True,\n",
    "                     label='Skewness: {:.2f}'.format(train['count'].skew()),\n",
    "                     ax=ax)\n",
    "\n",
    "graph.legend(loc='best')\n",
    "\n",
    "print('Skewness (왜도): %f' % train['count'].skew())\n",
    "print('Kurtosis (첨도): %f' % train['count'].kurt())"
   ]
  },
  {
   "cell_type": "code",
   "execution_count": null,
   "metadata": {
    "colab": {
     "base_uri": "https://localhost:8080/",
     "height": 578
    },
    "id": "bjErXfFTYXHB",
    "outputId": "8220ccb2-1c50-421d-a9c9-dbe45a4560fc"
   },
   "outputs": [],
   "source": [
    "# Create 'count_log' column using lamda\n",
    "\n",
    "train['count_log'] = train['count'].map(lambda i: np.log(i) if i > 0 else 0)\n",
    "\n",
    "fig, ax = plt.subplots(1, 1, figsize=(10, 6))\n",
    "graph = sns.histplot(train['count_log'], color='b', label='Skewness: {:.2f}'.format(train['count_log'].skew()), kde=True)\n",
    "graph.legend(loc='best')\n",
    "\n",
    "print(\"Skewness (왜도): %f\" % train['count_log'].skew())\n",
    "print(\"Kurtosis (첨도): %f\" % train['count_log'].kurt())\n",
    "\n",
    "# drop 'count'\n",
    "train.drop('count', axis=1, inplace=True)"
   ]
  },
  {
   "cell_type": "markdown",
   "metadata": {
    "id": "_dDsrI151f6g"
   },
   "source": [
    "## Finding replacement values of 'windspeed==0'"
   ]
  },
  {
   "cell_type": "code",
   "execution_count": null,
   "metadata": {
    "id": "aUB3CSMzYXJ5"
   },
   "outputs": [],
   "source": [
    "from sklearn.ensemble import RandomForestClassifier\n",
    "\n",
    "def predict_windspeed(data):\n",
    "    wind0 = data.loc[data['windspeed'] == 0]\n",
    "    windnot0 = data.loc[data['windspeed'] != 0]\n",
    "\n",
    "    # Predict 'windspeed' using weather variables\n",
    "    col = ['season', 'weather', 'temp', 'humidity', 'atemp', 'day']\n",
    "\n",
    "    windnot0['windspeed'] = windnot0['windspeed'].astype('str')\n",
    "\n",
    "    rf = RandomForestClassifier()\n",
    "    # Fit 'windspeed!=0'\n",
    "    # model.fit(X_train, Y_train)\n",
    "    rf.fit(windnot0[col], windnot0['windspeed'])\n",
    "\n",
    "    # Predict where 'windspeed!=0'\n",
    "    # model.predict(X_test)\n",
    "    pred_wind0 = rf.predict(X=wind0[col])\n",
    "\n",
    "    # Change value of 'wind0' to 'pred_wind0'\n",
    "    wind0['windspeed'] = pred_wind0\n",
    "\n",
    "    # Combine 'windnot0' & 'wind0'\n",
    "    data = windnot0.append(wind0)\n",
    "    data['windspeed'] = data['windspeed'].astype('float')\n",
    "\n",
    "    data.reset_index(inplace=True, drop=True)\n",
    "\n",
    "    return data\n"
   ]
  },
  {
   "cell_type": "code",
   "execution_count": null,
   "metadata": {
    "colab": {
     "base_uri": "https://localhost:8080/"
    },
    "id": "FLXToetwYXMw",
    "outputId": "9e55e237-853f-4e79-f390-7316da7c0fa0"
   },
   "outputs": [],
   "source": [
    "train = predict_windspeed(train)\n",
    "test = predict_windspeed(test)"
   ]
  },
  {
   "cell_type": "code",
   "execution_count": null,
   "metadata": {
    "colab": {
     "base_uri": "https://localhost:8080/",
     "height": 73
    },
    "id": "lq-1YDnsYXPX",
    "outputId": "21006dc4-d5b2-49e4-c623-ec40863c1b01"
   },
   "outputs": [],
   "source": [
    "train[train['windspeed'] == 0.0]"
   ]
  },
  {
   "cell_type": "code",
   "execution_count": null,
   "metadata": {
    "colab": {
     "base_uri": "https://localhost:8080/",
     "height": 885
    },
    "id": "QQ77xwE-YXSG",
    "outputId": "91948c4f-5414-49b1-c67e-b0f2c39e3f7d"
   },
   "outputs": [],
   "source": [
    "fig, (ax1, ax2) = plt.subplots(2,1)\n",
    "fig.set_size_inches(20,15)\n",
    "\n",
    "sns.countplot(data = train, x = 'windspeed', ax = ax1)\n",
    "sns.countplot(data = test, x = 'windspeed', ax = ax2)"
   ]
  },
  {
   "cell_type": "markdown",
   "metadata": {
    "id": "7ujhKdJS383I"
   },
   "source": [
    "## One-hot encoding"
   ]
  },
  {
   "cell_type": "code",
   "execution_count": null,
   "metadata": {
    "id": "Idq054UbYXU_"
   },
   "outputs": [],
   "source": [
    "train = pd.get_dummies(train, columns = ['weather'], prefix = 'weather')\n",
    "test = pd.get_dummies(test, columns = ['weather'], prefix = 'weather')\n",
    "\n",
    "train = pd.get_dummies(train, columns = ['season'], prefix = 'season')\n",
    "test = pd.get_dummies(test, columns = ['season'], prefix = 'season')"
   ]
  },
  {
   "cell_type": "code",
   "execution_count": null,
   "metadata": {
    "colab": {
     "base_uri": "https://localhost:8080/"
    },
    "id": "Pi9anQwzYXXu",
    "outputId": "b0cd1261-bd2f-44f9-bc1f-f1d14071319a"
   },
   "outputs": [],
   "source": [
    "train.columns"
   ]
  },
  {
   "cell_type": "code",
   "execution_count": null,
   "metadata": {
    "colab": {
     "base_uri": "https://localhost:8080/"
    },
    "id": "-DuGKqzCYXa1",
    "outputId": "2a988dcd-ebc3-4c4f-88da-2ad11992f52b"
   },
   "outputs": [],
   "source": [
    "test.columns"
   ]
  },
  {
   "cell_type": "markdown",
   "metadata": {
    "id": "ofGy-gmo4Cgg"
   },
   "source": [
    "# **Modeling**"
   ]
  },
  {
   "cell_type": "markdown",
   "metadata": {
    "id": "z4xJPQED4HJI"
   },
   "source": [
    "## Choosing train variables"
   ]
  },
  {
   "cell_type": "code",
   "execution_count": null,
   "metadata": {
    "id": "7OrML2NHYXd2"
   },
   "outputs": [],
   "source": [
    "test_datetime = test['datetime']\n",
    "\n",
    "train.drop(['datetime', 'workingday', 'atemp', 'registered', 'casual', 'minute', 'second'], axis = 1, inplace = True)\n",
    "test.drop(['datetime', 'workingday', 'atemp', 'minute', 'second'], axis = 1, inplace = True)"
   ]
  },
  {
   "cell_type": "code",
   "execution_count": null,
   "metadata": {
    "colab": {
     "base_uri": "https://localhost:8080/"
    },
    "id": "mk3gUuygYXhX",
    "outputId": "cc6ea170-c04a-4b10-f7ea-b11fa45124d6"
   },
   "outputs": [],
   "source": [
    "train.columns"
   ]
  },
  {
   "cell_type": "code",
   "execution_count": null,
   "metadata": {
    "colab": {
     "base_uri": "https://localhost:8080/"
    },
    "id": "aocjeYdTfc6v",
    "outputId": "f7ab1681-2d11-4abc-beed-f2a28722b7e3"
   },
   "outputs": [],
   "source": [
    "test.columns"
   ]
  },
  {
   "cell_type": "markdown",
   "metadata": {
    "id": "oIS5YP274TU8"
   },
   "source": [
    "## Training a Gradient Boosting Model"
   ]
  },
  {
   "cell_type": "code",
   "execution_count": null,
   "metadata": {
    "id": "MDuNndobfc9g"
   },
   "outputs": [],
   "source": [
    "from sklearn.model_selection import train_test_split\n",
    "from sklearn import metrics\n",
    "\n",
    "# Array\n",
    "x_train = train.drop('count_log', axis = 1).values\n",
    "target_label = train['count_log'].values\n",
    "x_test = test.values\n",
    "\n",
    "# Split [train : val = 0.8 : 0.2]\n",
    "x_train, x_val, y_train, y_val = train_test_split(x_train, target_label, test_size = 0.2, random_state = 2000)"
   ]
  },
  {
   "cell_type": "code",
   "execution_count": null,
   "metadata": {
    "colab": {
     "base_uri": "https://localhost:8080/",
     "height": 109
    },
    "id": "zr1HzJnRfkf7",
    "outputId": "bf0dd81c-89fd-4e9b-fa22-6fd922baf90b"
   },
   "outputs": [],
   "source": [
    "from sklearn.ensemble import GradientBoostingRegressor\n",
    "regressor = GradientBoostingRegressor(n_estimators=2000,\n",
    "                                      learning_rate=0.05,\n",
    "                                      max_depth=5,\n",
    "                                      min_samples_leaf=15,\n",
    "                                      min_samples_split=10,\n",
    "                                      random_state=42)\n",
    "regressor.fit(x_train, y_train)"
   ]
  },
  {
   "cell_type": "code",
   "execution_count": null,
   "metadata": {
    "colab": {
     "base_uri": "https://localhost:8080/"
    },
    "id": "RZFm_Aaxfklc",
    "outputId": "e048d1b3-d293-4274-aae4-e85f772ed2d6"
   },
   "outputs": [],
   "source": [
    "score_train = regressor.score(x_train, y_train)\n",
    "score_val = regressor.score(x_val, y_val)\n",
    "\n",
    "print(\"train score: %f\" %score_train)\n",
    "print(\"validation score: %f\" %score_val)"
   ]
  },
  {
   "cell_type": "markdown",
   "metadata": {
    "id": "x-jVmSpZ49LD"
   },
   "source": [
    "# **Predict and create submission.csv**"
   ]
  },
  {
   "cell_type": "markdown",
   "metadata": {
    "id": "Q8eVAq605DoE"
   },
   "source": [
    "## Predict"
   ]
  },
  {
   "cell_type": "code",
   "execution_count": null,
   "metadata": {
    "id": "rfvGYcOmfkoP"
   },
   "outputs": [],
   "source": [
    "pred = regressor.predict(x_test)"
   ]
  },
  {
   "cell_type": "markdown",
   "metadata": {
    "id": "P8youzWU5G_b"
   },
   "source": [
    "## Creating submission file"
   ]
  },
  {
   "cell_type": "code",
   "execution_count": null,
   "metadata": {
    "colab": {
     "base_uri": "https://localhost:8080/",
     "height": 206
    },
    "id": "QMksTC4yfkqu",
    "outputId": "971d6e89-6307-42e5-9f66-3a1cfc87f7d9"
   },
   "outputs": [],
   "source": [
    "sample = pd.read_csv(\"sampleSubmission.csv\")\n",
    "sample.head()"
   ]
  },
  {
   "cell_type": "code",
   "execution_count": null,
   "metadata": {
    "id": "mxefWmxVfktj"
   },
   "outputs": [],
   "source": [
    "submission = pd.DataFrame()\n",
    "submission['datetime'] = test_datetime\n",
    "submission['count_log'] = pred"
   ]
  },
  {
   "cell_type": "code",
   "execution_count": null,
   "metadata": {
    "colab": {
     "base_uri": "https://localhost:8080/",
     "height": 206
    },
    "id": "XZO0QQTTfkwt",
    "outputId": "6639ef35-7981-495d-aada-144065670d15"
   },
   "outputs": [],
   "source": [
    "submission['count'] = np.exp(submission['count_log'])\n",
    "\n",
    "submission.drop('count_log', axis = 1, inplace = True)\n",
    "submission.head()"
   ]
  },
  {
   "cell_type": "code",
   "execution_count": null,
   "metadata": {
    "id": "QpKXQjGifkze"
   },
   "outputs": [],
   "source": [
    "submission.to_csv(\"BikeSharingDemand.csv\", index = False)"
   ]
  },
  {
   "cell_type": "code",
   "execution_count": null,
   "metadata": {
    "id": "UTyS7QrYfdDG"
   },
   "outputs": [],
   "source": []
  }
 ],
 "metadata": {
  "colab": {
   "gpuType": "T4",
   "provenance": []
  },
  "kernelspec": {
   "display_name": "Python 3",
   "name": "python3"
  },
  "language_info": {
   "name": "python"
  }
 },
 "nbformat": 4,
 "nbformat_minor": 0
}
