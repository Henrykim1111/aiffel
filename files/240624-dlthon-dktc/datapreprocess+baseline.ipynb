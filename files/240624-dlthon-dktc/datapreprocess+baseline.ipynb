{
 "cells": [
  {
   "cell_type": "code",
   "execution_count": null,
   "id": "0",
   "metadata": {},
   "outputs": [],
   "source": [
    "import os\n",
    "import pandas as pd\n",
    "from konlpy.tag import Okt\n",
    "import tensorflow as tf\n",
    "import tensorflow_datasets as tfds\n",
    "from tensorflow.keras.preprocessing.text import Tokenizer \n",
    "from tensorflow.keras.preprocessing.sequence import pad_sequences\n",
    "from konlpy.tag import Mecab\n",
    "import numpy as np\n",
    "from collections import Counter\n",
    "import re"
   ]
  },
  {
   "cell_type": "markdown",
   "id": "1",
   "metadata": {},
   "source": [
    "## 전처리된 데이터 로드"
   ]
  },
  {
   "cell_type": "code",
   "execution_count": null,
   "id": "2",
   "metadata": {},
   "outputs": [],
   "source": [
    "# 형태소 분석하는 함수 \n",
    "def morph_analyze(text):\n",
    "    \n",
    "    # Okt 형태소 분석기 객체 생성\n",
    "    okt = Okt()\n",
    "    # 텍스트에서 형태소 분석\n",
    "    morphs = okt.morphs(text)\n",
    "    return morphs"
   ]
  },
  {
   "cell_type": "code",
   "execution_count": null,
   "id": "3",
   "metadata": {},
   "outputs": [],
   "source": [
    "# 각 문장의 불용어, 특수 문자 등을 제거하는 function: {return: 정리된 문장}\n",
    "def sentence_analysis(sentence):\n",
    "    #불용어\n",
    "    stopwords = ['은','는','이','가','을','를','에','이가','이는']\n",
    "    sentence = re.sub(r'@[^@]+@', 'pronoun', sentence)\n",
    "    sentence = re.sub(r'name1', 'pronoun', sentence)\n",
    "    sentence = re.sub(r'company-name' , 'pronoun', sentence)\n",
    "    \n",
    "    # 특수문자 제거 (문장내의 특수 문자제거)\n",
    "    sentence = re.sub(r\"[^ㄱ-ㅎㅏ-ㅣ가-힣0-9a-zA-Z?.!\\s]\", \"\", sentence)\n",
    "    \n",
    "    # 영어라면 소문자로 변환\n",
    "    sentence = sentence.lower() # 텍스트 소문자화\n",
    "    #형태소 분석\n",
    "    sentence = morph_analyze(sentence)\n",
    "    \n",
    "    # 불용어 제거 \n",
    "    sen = []\n",
    "    for word in sentence:\n",
    "        if word in stopwords:\n",
    "            continue\n",
    "        sen.append(word)\n",
    "       \n",
    "    sentence = ' '.join(sen)\n",
    "\n",
    "    return sentence\n"
   ]
  },
  {
   "cell_type": "code",
   "execution_count": null,
   "id": "4",
   "metadata": {},
   "outputs": [],
   "source": [
    "# 결측치 제거, 중복 제거, 불용어 제거한 데이터를 제공하는 fucntion\n",
    "def load_data(path):\n",
    "    train_data_path = path\n",
    "    data = pd.read_csv(train_data_path)\n",
    "    \n",
    "    # 결측치 제거\n",
    "    null_check = data.isnull().sum()\n",
    "    check = False\n",
    "    for i in range(len(null_check)):\n",
    "        if null_check[i] > 0:\n",
    "            check = True\n",
    "            \n",
    "    if check == True:\n",
    "        data = data.dropna()\n",
    "    \n",
    "    # 중복 제거\n",
    "    data.drop_duplicates(subset = ['conversation'], inplace=True)\n",
    "    \n",
    "    \n",
    "    data['conversation'] = data['conversation'].map(lambda x: sentence_analysis(x))\n",
    "\n",
    "    return data"
   ]
  },
  {
   "cell_type": "code",
   "execution_count": null,
   "id": "5",
   "metadata": {},
   "outputs": [],
   "source": [
    "train_data_path =\"~/aiffel/dktc/train_with_normal_nikl.csv\"\n",
    "train_data = load_data(train_data_path)"
   ]
  },
  {
   "cell_type": "code",
   "execution_count": null,
   "id": "6",
   "metadata": {},
   "outputs": [],
   "source": [
    "train_data[:5]"
   ]
  },
  {
   "cell_type": "markdown",
   "id": "7",
   "metadata": {},
   "source": [
    "## 단어사전"
   ]
  },
  {
   "cell_type": "code",
   "execution_count": null,
   "id": "8",
   "metadata": {},
   "outputs": [],
   "source": [
    "#단어 사전 만들어주는 function: {토큰: index} 와 {index: 토큰} dictionary를 제공\n",
    "def makeVocab(train):\n",
    "    words = []\n",
    "    \n",
    "    for sentence in train['conversation']:\n",
    "        temp = list(sentence.split(\" \"))\n",
    "        words.extend(temp)\n",
    "        \n",
    "    counter = Counter(words)\n",
    "    counter = counter.most_common(10000-4)\n",
    "    \n",
    "    vocab = ['', '', '', ''] + [key for key, _ in counter]\n",
    "    word_to_index = {word:index for index, word in enumerate(vocab)}\n",
    "    #실제 인코딩 인덱스는 제공된 word_to_index에서 index 기준으로 3씩 뒤로 밀려 있습니다.  \n",
    "    word_to_index = {k:(v+3) for k,v in word_to_index.items()}\n",
    "\n",
    "    # 처음 몇 개 인덱스는 사전에 정의되어 있습니다.\n",
    "    word_to_index[\"<PAD>\"] = 0\n",
    "    word_to_index[\"<BOS>\"] = 1\n",
    "    word_to_index[\"<UNK>\"] = 2  # unknown\n",
    "    word_to_index[\"<UNUSED>\"] = 3\n",
    "\n",
    "    index_to_word = {index:word for word, index in word_to_index.items()}\n",
    "    return word_to_index, index_to_word"
   ]
  },
  {
   "cell_type": "code",
   "execution_count": null,
   "id": "9",
   "metadata": {},
   "outputs": [],
   "source": [
    "words_dict, idx_dict = makeVocab(train_data)"
   ]
  },
  {
   "cell_type": "markdown",
   "id": "10",
   "metadata": {},
   "source": [
    "## 토큰 정수화"
   ]
  },
  {
   "cell_type": "code",
   "execution_count": null,
   "id": "11",
   "metadata": {},
   "outputs": [],
   "source": [
    "#token화된 list를 정수화로 바꿔주는 function : {return: 정수화된 list}\n",
    "def wordlist_to_indexlist(wordlist, word_to_index):\n",
    "        return [word_to_index[word] if word in word_to_index else word_to_index[''] for word in wordlist]"
   ]
  },
  {
   "cell_type": "code",
   "execution_count": null,
   "id": "12",
   "metadata": {},
   "outputs": [],
   "source": [
    "X_train = []\n",
    "for sen in train_data['conversation']:\n",
    "    sen = list(sen.split(\" \"))\n",
    "    X_train.append(sen)"
   ]
  },
  {
   "cell_type": "code",
   "execution_count": null,
   "id": "13",
   "metadata": {},
   "outputs": [],
   "source": [
    "X_train = [wordlist_to_indexlist(wordlist, words_dict) for wordlist in X_train]"
   ]
  },
  {
   "cell_type": "markdown",
   "id": "14",
   "metadata": {},
   "source": [
    "## class 한글 옵션 숫자 옵션으로 전환"
   ]
  },
  {
   "cell_type": "code",
   "execution_count": null,
   "id": "15",
   "metadata": {},
   "outputs": [],
   "source": [
    "def changeClassInt(data):\n",
    "    # class_list = {'협박 대화': 0, '갈취 대화': 1. '직장 내 괴롭힘 대화': 2, '기타 괴롭힘 대화': 3, '일반 대화': 4}\n",
    "    data.loc[data['class'] == '협박 대화', 'class'] = 0\n",
    "    data.loc[data['class'] == '갈취 대화', 'class'] = 1\n",
    "    data.loc[data['class'] == '직장 내 괴롭힘 대화', 'class'] = 2\n",
    "    data.loc[data['class'] == '기타 괴롭힘 대화', 'class'] = 3\n",
    "    data.loc[data['class'] == '일반 대화', 'class'] = 4\n",
    "    \n",
    "    return data"
   ]
  },
  {
   "cell_type": "code",
   "execution_count": null,
   "id": "16",
   "metadata": {},
   "outputs": [],
   "source": [
    "train_data = changeClassInt(train_data)"
   ]
  },
  {
   "cell_type": "code",
   "execution_count": null,
   "id": "17",
   "metadata": {},
   "outputs": [],
   "source": [
    "# target data 만들기\n",
    "tar_data = train_data['class']"
   ]
  },
  {
   "cell_type": "markdown",
   "id": "18",
   "metadata": {},
   "source": [
    "## 데이터셋 분리"
   ]
  },
  {
   "cell_type": "code",
   "execution_count": null,
   "id": "19",
   "metadata": {},
   "outputs": [],
   "source": [
    "# 데이터 분리 function\n",
    "from sklearn.model_selection import train_test_split\n",
    "\n",
    "def makeDataset(cov_data, tar_data):\n",
    "    # stratify : class가 균등하게 나눠지게 됨.train_test_split stratify\n",
    "    \n",
    "    X_train, X_val, y_train,y_val = train_test_split(cov_data, tar_data, test_size = 0.2, random_state = 928, stratify = tar_data)    \n",
    "    \n",
    "    return X_train, X_val, y_train, y_val "
   ]
  },
  {
   "cell_type": "code",
   "execution_count": null,
   "id": "20",
   "metadata": {},
   "outputs": [],
   "source": [
    "X_train, X_val, y_train, y_val = makeDataset(X_train, tar_data)"
   ]
  },
  {
   "cell_type": "markdown",
   "id": "21",
   "metadata": {},
   "source": [
    "# Baseline\n",
    "\n",
    "- Bidirectional LSTM"
   ]
  },
  {
   "cell_type": "code",
   "execution_count": null,
   "id": "22",
   "metadata": {},
   "outputs": [],
   "source": [
    "class_map = {\n",
    "    \"협박 대화\": 0,\n",
    "    \"갈취 대화\": 1,\n",
    "    \"직장 내 괴롭힘 대화\": 2,\n",
    "    \"기타 괴롭힘 대화\": 3,\n",
    "    \"일반 대화\": 4,\n",
    "}\n",
    "label_to_class = {v: k for k, v in class_map.items()}"
   ]
  },
  {
   "cell_type": "markdown",
   "id": "23",
   "metadata": {},
   "source": [
    "## Training Model"
   ]
  },
  {
   "cell_type": "code",
   "execution_count": null,
   "id": "24",
   "metadata": {},
   "outputs": [],
   "source": [
    "import pandas as pd\n",
    "from datetime import datetime, timezone, timedelta\n",
    "\n",
    "import tensorflow as tf\n",
    "from tensorflow.keras.preprocessing.text import Tokenizer\n",
    "from tensorflow.keras.preprocessing.sequence import pad_sequences\n",
    "from sklearn.model_selection import train_test_split\n",
    "from sklearn.preprocessing import LabelEncoder\n",
    "\n",
    "KST = timezone(timedelta(hours=9))\n",
    "NOW = datetime.now(KST).strftime('%Y%m%d%H%M%S') # YYYYMMDDHHmmss\n",
    "\n",
    "# parameters\n",
    "RANDOM_SEED = 42\n",
    "TRAIN_CSV_DATA_PATH = \"data/train_with_normal_nikl.csv\"\n",
    "TEST_JSON_DATA_PATH = \"data/test.json\"\n",
    "SUBMISSION_CSV_DATA_PATH = \"data/submission.csv\"\n",
    "EPOCHS = 50\n",
    "MODEL_PATH = f\"models/baseline_{NOW}.keras\"\n",
    "\n",
    "VOCAB_SIZE = 10_000\n",
    "SEQ_LEN = 100\n",
    "\n",
    "# fix random seed\n",
    "tf.random.set_seed(RANDOM_SEED)\n",
    "\n",
    "# Data preprocessing\n",
    "data = pd.read_csv(\"data/train_with_normal_nikl.csv\")\n",
    "data[\"class_label\"] = data[\"class\"].apply(lambda x: class_map[x]) # str -> int\n",
    "\n",
    "# Tokenization\n",
    "tokenizer = Tokenizer(num_words=VOCAB_SIZE, oov_token=\"<UNK>\")\n",
    "tokenizer.fit_on_texts(data[\"conversation\"])\n",
    "train_sequences = tokenizer.texts_to_sequences(data[\"conversation\"])\n",
    "train_sequences = pad_sequences(train_sequences, padding='post', maxlen=SEQ_LEN)\n",
    "\n",
    "# Split the data\n",
    "X_train, X_val, y_train, y_val = train_test_split(train_sequences, \n",
    "                                                  data[\"class_label\"], \n",
    "                                                  test_size=0.2,\n",
    "                                                  random_state=RANDOM_SEED, \n",
    "                                                  stratify=data[\"class_label\"])\n",
    "\n",
    "def get_model(X, vocab_size, num_classes):\n",
    "    model = tf.keras.Sequential([\n",
    "        tf.keras.layers.Embedding(input_dim=vocab_size, output_dim=64, input_length=X.shape[-1]),\n",
    "        tf.keras.layers.Bidirectional(tf.keras.layers.LSTM(64)),\n",
    "        tf.keras.layers.Dense(64, activation=\"relu\"),\n",
    "        tf.keras.layers.Dense(num_classes, activation=\"softmax\")\n",
    "    ])\n",
    "    \n",
    "    model.compile(loss=\"sparse_categorical_crossentropy\", \n",
    "                  optimizer=\"adam\", \n",
    "                  metrics=[\"accuracy\"])\n",
    "    return model\n",
    "\n",
    "model = get_model(X_train, VOCAB_SIZE, num_classes=len(class_map))\n",
    "callbacks = [\n",
    "    tf.keras.callbacks.ModelCheckpoint(MODEL_PATH,\n",
    "                                       monitor=\"val_loss\",\n",
    "                                       save_best_only=True)\n",
    "]\n",
    "history = model.fit(X_train, y_train, \n",
    "                    epochs=EPOCHS,\n",
    "                    validation_data=(X_val, y_val),\n",
    "                    callbacks=callbacks)"
   ]
  },
  {
   "cell_type": "code",
   "execution_count": null,
   "id": "25",
   "metadata": {},
   "outputs": [],
   "source": [
    "import matplotlib.pyplot as plt\n",
    "\n",
    "history_dict = history.history\n",
    "\n",
    "loss = history_dict['loss']\n",
    "val_loss = history_dict['val_loss']\n",
    "epochs = range(1, len(loss) + 1)\n",
    "\n",
    "fig = plt.figure(figsize=(12, 5))\n",
    "\n",
    "ax1 = fig.add_subplot(1, 2, 1)\n",
    "ax1.plot(epochs, loss, color='blue', label='train_loss')\n",
    "ax1.plot(epochs, val_loss, color='red', label='val_loss')\n",
    "ax1.set_title('Train and Validation Loss')\n",
    "ax1.set_xlabel('Epochs')\n",
    "ax1.set_ylabel('Loss')\n",
    "ax1.grid()\n",
    "ax1.legend()\n",
    "\n",
    "accuracy = history_dict['accuracy']\n",
    "val_accuracy = history_dict['val_accuracy']\n",
    "\n",
    "ax2 = fig.add_subplot(1, 2, 2)\n",
    "ax2.plot(epochs, accuracy, color='blue', label='train_accuracy')\n",
    "ax2.plot(epochs, val_accuracy, color='red', label='val_accuracy')\n",
    "ax2.set_title('Train and Validation Accuracy')\n",
    "ax2.set_xlabel('Epochs')\n",
    "ax2.set_ylabel('Accuracy')\n",
    "ax2.grid()\n",
    "ax2.legend()\n",
    "\n",
    "plt.show()"
   ]
  },
  {
   "cell_type": "markdown",
   "id": "26",
   "metadata": {},
   "source": [
    "## Submission"
   ]
  },
  {
   "cell_type": "code",
   "execution_count": null,
   "id": "27",
   "metadata": {},
   "outputs": [],
   "source": [
    "import json\n",
    "\n",
    "def load_test_df():\n",
    "    with open(\"data/test.json\") as file:\n",
    "        test_json = json.load(file)\n",
    "    \n",
    "    file_names = []\n",
    "    conversations = []\n",
    "    for file_name in test_json:\n",
    "        conversation = test_json[file_name][\"text\"]\n",
    "\n",
    "        file_names.append(file_name)\n",
    "        conversations.append(conversation)\n",
    "        \n",
    "    return pd.DataFrame({\"file_name\": file_names, \"conversation\": conversations})\n",
    "    \n",
    "test_df = load_test_df()\n",
    "test_df"
   ]
  },
  {
   "cell_type": "code",
   "execution_count": null,
   "id": "28",
   "metadata": {},
   "outputs": [],
   "source": [
    "import numpy as np\n",
    "\n",
    "# Tokenization\n",
    "test_sequences = tokenizer.texts_to_sequences(test_df[\"conversation\"])\n",
    "test_sequences = pad_sequences(test_sequences, padding=\"post\", maxlen=SEQ_LEN)\n",
    "\n",
    "# Prediction\n",
    "model = tf.keras.models.load_model(MODEL_PATH)\n",
    "predictions_prob = model.predict(test_sequences)\n",
    "predictions = np.argmax(predictions_prob, axis=1)\n",
    "test_df[\"class\"] = predictions\n",
    "test_df[\"class_str\"] = test_df[\"class\"].apply(lambda x: label_to_class[x])\n",
    "test_df"
   ]
  },
  {
   "cell_type": "code",
   "execution_count": null,
   "id": "29",
   "metadata": {},
   "outputs": [],
   "source": [
    "submission_df = pd.read_csv(\"data/submission.csv\")\n",
    "test_submission_df = (submission_df\n",
    "                      .merge(test_df[[\"file_name\", \"class\"]], on=\"file_name\")\n",
    "                      .drop(columns=[\"class_x\"])\n",
    "                      .rename(columns={\"class_y\": \"class\"}))\n",
    "test_submission_df.to_csv(f\"submissions/baseline_{NOW}.csv\", index=False)\n",
    "pd.read_csv(f\"submissions/baseline_{NOW}.csv\")"
   ]
  },
  {
   "cell_type": "code",
   "execution_count": null,
   "id": "30",
   "metadata": {},
   "outputs": [],
   "source": []
  }
 ],
 "metadata": {
  "kernelspec": {
   "display_name": "Python 3 (ipykernel)",
   "language": "python",
   "name": "python3"
  },
  "language_info": {
   "codemirror_mode": {
    "name": "ipython",
    "version": 3
   },
   "file_extension": ".py",
   "mimetype": "text/x-python",
   "name": "python",
   "nbconvert_exporter": "python",
   "pygments_lexer": "ipython3",
   "version": "3.9.7"
  }
 },
 "nbformat": 4,
 "nbformat_minor": 5
}
