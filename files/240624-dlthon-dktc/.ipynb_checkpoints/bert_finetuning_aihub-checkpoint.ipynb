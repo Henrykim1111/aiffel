{
 "cells": [
  {
   "cell_type": "code",
   "execution_count": null,
   "id": "0",
   "metadata": {},
   "outputs": [],
   "source": [
    "class_map = {\n",
    "    \"협박 대화\": 0,\n",
    "    \"갈취 대화\": 1,\n",
    "    \"직장 내 괴롭힘 대화\": 2,\n",
    "    \"기타 괴롭힘 대화\": 3,\n",
    "    \"일반 대화\": 4,\n",
    "}\n",
    "label_to_class = {v: k for k, v in class_map.items()}"
   ]
  },
  {
   "cell_type": "code",
   "execution_count": null,
   "id": "1",
   "metadata": {},
   "outputs": [],
   "source": [
    "import tensorflow as tf\n",
    "from transformers import BertTokenizer, TFBertForSequenceClassification\n",
    "from tensorflow.keras.optimizers import Adam\n",
    "from tensorflow.keras.losses import SparseCategoricalCrossentropy\n",
    "from tensorflow.keras.metrics import SparseCategoricalAccuracy\n",
    "from datetime import datetime, timezone, timedelta\n",
    "\n",
    "KST = timezone(timedelta(hours=9))\n",
    "NOW = datetime.now(KST).strftime('%Y%m%d%H%M%S') # YYYYMMDDHHmmss\n",
    "print(f\"{NOW=}\")\n",
    "\n",
    "# Parameters\n",
    "TRAIN_DATA_PATH = \"data/train_with_normal_aihub.csv\"\n",
    "MODEL_NAME = \"klue/bert-base\"\n",
    "SAVE_MODEL_PATH = f\"models/bert_{NOW}\"\n",
    "MAX_LENGTH = 200\n",
    "NUM_CLASSES = len(class_map)\n",
    "BATCH_SIZE = 16\n",
    "EPOCHS = 10\n",
    "\n",
    "tokenizer = BertTokenizer.from_pretrained(MODEL_NAME, \n",
    "                                          max_len=MAX_LENGTH,\n",
    "                                          truncation=True, \n",
    "                                          padding=True)\n",
    "model = TFBertForSequenceClassification.from_pretrained(MODEL_NAME,\n",
    "                                                        num_labels=NUM_CLASSES, \n",
    "                                                        from_pt=True)"
   ]
  },
  {
   "cell_type": "code",
   "execution_count": null,
   "id": "2",
   "metadata": {},
   "outputs": [],
   "source": [
    "import pandas as pd\n",
    "from sklearn.model_selection import train_test_split\n",
    "from konlpy.tag import Okt\n",
    "import re\n",
    "\n",
    "okt = Okt()\n",
    "\n",
    "def preprocess_conversation(conversation):\n",
    "    conversation = conversation.replace(\"\\n\", \" \")\n",
    "    # 특수문자 제거\n",
    "    conversation = re.sub(r\"[^ㄱ-ㅎㅏ-ㅣ가-힣0-9a-zA-Z?.!\\s]\", \"\", conversation)\n",
    "    # 영어 소문자화\n",
    "    conversation = conversation.lower()\n",
    "    \n",
    "    # 불용어 제거\n",
    "    stopwords = ['은','는','이','가','을','를','에','이가','이는']\n",
    "    stopword_removed = []\n",
    "    for word in okt.morphs(conversation):\n",
    "        if word in stopwords:\n",
    "            continue\n",
    "        stopword_removed.append(word)\n",
    "        \n",
    "    return \" \".join(stopword_removed)\n",
    "\n",
    "\n",
    "def tokenize(texts, labels, max_length):\n",
    "    encodings = tokenizer(texts, truncation=True, padding=True, max_length=max_length)\n",
    "    dataset = tf.data.Dataset.from_tensor_slices((\n",
    "        dict(encodings),\n",
    "        labels\n",
    "    ))\n",
    "    return dataset\n",
    "\n",
    "train_df = pd.read_csv(TRAIN_DATA_PATH)\n",
    "train_df[\"class_num\"] = train_df[\"class\"].map(class_map)\n",
    "train_df = train_df.drop_duplicates(subset=[\"conversation\"])\n",
    "train_df[\"conversation\"] = train_df[\"conversation\"].apply(preprocess_conversation)\n",
    "\n",
    "X_train, X_val, y_train, y_val = train_test_split(train_df[\"conversation\"], train_df[\"class_num\"], \n",
    "                                                  test_size=0.2, random_state=42, \n",
    "                                                  stratify=train_df[\"class_num\"])\n",
    "\n",
    "train_dataset = (tokenize(X_train.tolist(), y_train, MAX_LENGTH)\n",
    "           .shuffle(len(X_train))\n",
    "           .batch(BATCH_SIZE)\n",
    "           .prefetch(tf.data.experimental.AUTOTUNE))\n",
    "\n",
    "val_dataset = (tokenize(X_val.tolist(), y_val, MAX_LENGTH)\n",
    "           .shuffle(len(X_val))\n",
    "           .batch(BATCH_SIZE)\n",
    "           .prefetch(tf.data.experimental.AUTOTUNE))"
   ]
  },
  {
   "cell_type": "code",
   "execution_count": null,
   "id": "3",
   "metadata": {},
   "outputs": [],
   "source": [
    "optimizer = Adam(learning_rate=3e-5)\n",
    "loss = SparseCategoricalCrossentropy(from_logits=True)\n",
    "metrics = [SparseCategoricalAccuracy(\"accuracy\")]\n",
    "\n",
    "model.compile(optimizer=optimizer, loss=loss, metrics=metrics)\n",
    "\n",
    "histories = []\n",
    "\n",
    "# Train the model\n",
    "for i in range(EPOCHS):\n",
    "    history = model.fit(train_dataset,\n",
    "                        epochs=1,\n",
    "                        validation_data=val_dataset)\n",
    "    histories.append(history)\n",
    "    \n",
    "    # ModelCheckpoint callback으로 처리하려고 했는데 오류가 나서, epoch 마다 저장\n",
    "    model.save_pretrained(f\"{SAVE_MODEL_PATH}/{i+1}_{history.history['val_loss'][0]:.4f}\")"
   ]
  },
  {
   "cell_type": "code",
   "execution_count": null,
   "id": "4",
   "metadata": {},
   "outputs": [],
   "source": [
    "import matplotlib.pyplot as plt\n",
    "\n",
    "loss = [h.history[\"loss\"][0] for h in histories]\n",
    "accuracy = [h.history[\"accuracy\"][0] for h in histories]\n",
    "\n",
    "val_loss = [h.history[\"val_loss\"][0] for h in histories]\n",
    "val_accuracy = [h.history[\"val_accuracy\"][0] for h in histories]\n",
    "\n",
    "epochs = range(1, len(loss) + 1)\n",
    "\n",
    "fig = plt.figure(figsize=(12, 5))\n",
    "\n",
    "ax1 = fig.add_subplot(1, 2, 1)\n",
    "ax1.plot(epochs, loss, color='blue', label='train_loss')\n",
    "ax1.plot(epochs, val_loss, color='red', label='val_loss')\n",
    "ax1.set_title('Train and Validation Loss')\n",
    "ax1.set_xlabel('Epochs')\n",
    "ax1.set_ylabel('Loss')\n",
    "ax1.grid()\n",
    "ax1.legend()\n",
    "\n",
    "\n",
    "ax2 = fig.add_subplot(1, 2, 2)\n",
    "ax2.plot(epochs, accuracy, color='blue', label='train_accuracy')\n",
    "ax2.plot(epochs, val_accuracy, color='red', label='val_accuracy')\n",
    "ax2.set_title('Train and Validation Accuracy')\n",
    "ax2.set_xlabel('Epochs')\n",
    "ax2.set_ylabel('Accuracy')\n",
    "ax2.grid()\n",
    "ax2.legend()\n",
    "\n",
    "plt.show()"
   ]
  },
  {
   "cell_type": "markdown",
   "id": "5",
   "metadata": {},
   "source": [
    "## Evaluate"
   ]
  },
  {
   "cell_type": "code",
   "execution_count": null,
   "id": "6",
   "metadata": {},
   "outputs": [],
   "source": [
    "from sklearn.metrics import ConfusionMatrixDisplay, confusion_matrix\n",
    "import numpy as np\n",
    "import matplotlib.pyplot as plt\n",
    "\n",
    "plt.rc(\"font\", family=\"NanumBarunGothic\")\n",
    "\n",
    "def predict(model, X):\n",
    "    start_index = 0\n",
    "    end_index = start_index + BATCH_SIZE \n",
    "    X_batch = X[start_index:end_index]\n",
    "\n",
    "    predictions = []\n",
    "    while len(X_batch) > 0:\n",
    "        X_batch_seq = tokenizer(X_batch.tolist(), truncation=True, padding=True, \n",
    "                                max_length=MAX_LENGTH, \n",
    "                                return_tensors=\"tf\")\n",
    "        batch_predictions_proba = model(X_batch_seq)\n",
    "        batch_prediction = np.argmax(batch_predictions_proba.logits, axis=1)\n",
    "        predictions += batch_prediction.tolist()\n",
    "        \n",
    "        start_index += BATCH_SIZE\n",
    "        end_index += BATCH_SIZE\n",
    "        X_batch = X[start_index:end_index]\n",
    "\n",
    "    return predictions\n",
    "\n",
    "def plot_confusion_matrix(y_true, y_pred): \n",
    "    cm = confusion_matrix(y_true, y_pred, normalize=\"true\")\n",
    "    fig , ax = plt.subplots(figsize=(6, 6))\n",
    "    disp = ConfusionMatrixDisplay(confusion_matrix=cm, display_labels=class_map.keys())\n",
    "    disp.plot(cmap=\"Blues\", values_format=\".2f\", ax=ax, colorbar=False) \n",
    "    plt.title(\"Normalized confusion matrix\")\n",
    "    plt.show() \n"
   ]
  },
  {
   "cell_type": "code",
   "execution_count": null,
   "id": "7",
   "metadata": {},
   "outputs": [],
   "source": [
    "BEST_MODEL_PATH = \"models/bert_20240626202534/3_0.2993\" # validation metric을 확인 후 결정\n",
    "model = TFBertForSequenceClassification.from_pretrained(BEST_MODEL_PATH)\n",
    "predictions = predict(model, X_val)\n",
    "plot_confusion_matrix(y_val, predictions)"
   ]
  },
  {
   "cell_type": "markdown",
   "id": "8",
   "metadata": {},
   "source": [
    "## Submission"
   ]
  },
  {
   "cell_type": "code",
   "execution_count": null,
   "id": "9",
   "metadata": {},
   "outputs": [],
   "source": [
    "import json\n",
    "\n",
    "def load_test_df():\n",
    "    with open(\"data/test.json\") as file:\n",
    "        test_json = json.load(file)\n",
    "    \n",
    "    file_names = []\n",
    "    conversations = []\n",
    "    for file_name in test_json:\n",
    "        conversation = test_json[file_name][\"text\"]\n",
    "\n",
    "        file_names.append(file_name)\n",
    "        conversations.append(conversation)\n",
    "        \n",
    "    return pd.DataFrame({\"file_name\": file_names, \"conversation\": conversations})\n",
    "    \n",
    "test_df = load_test_df()\n",
    "test_df"
   ]
  },
  {
   "cell_type": "code",
   "execution_count": null,
   "id": "10",
   "metadata": {},
   "outputs": [],
   "source": [
    "test_df[\"conversation\"] = test_df[\"conversation\"].apply(preprocess_conversation)\n",
    "X_test = test_df[\"conversation\"]\n",
    "X_test = tokenizer(X_test.tolist(), truncation=True, padding=True, max_length=MAX_LENGTH, return_tensors=\"tf\")"
   ]
  },
  {
   "cell_type": "code",
   "execution_count": null,
   "id": "11",
   "metadata": {},
   "outputs": [],
   "source": [
    "import numpy as np\n",
    "\n",
    "predictions_proba = model(X_test)\n",
    "predictions = np.argmax(predictions_proba.logits, axis=1)\n",
    "test_df[\"class\"] = predictions\n",
    "test_df[\"class_str\"] = test_df[\"class\"].apply(lambda x: label_to_class[x])\n",
    "test_df"
   ]
  },
  {
   "cell_type": "code",
   "execution_count": null,
   "id": "12",
   "metadata": {},
   "outputs": [],
   "source": [
    "print(f\"submission file: submissions/bert_finetuning_{NOW}.csv\")\n",
    "test_df[[\"file_name\", \"class\"]].to_csv(f\"submissions/bert_finetuning_{NOW}.csv\", index=False)\n",
    "pd.read_csv(f\"submissions/bert_finetuning_{NOW}.csv\")"
   ]
  },
  {
   "cell_type": "markdown",
   "id": "13",
   "metadata": {},
   "source": [
    "### Test score: 0.73"
   ]
  },
  {
   "cell_type": "code",
   "execution_count": null,
   "id": "14",
   "metadata": {},
   "outputs": [],
   "source": []
  }
 ],
 "metadata": {
  "kernelspec": {
   "display_name": "Python 3 (ipykernel)",
   "language": "python",
   "name": "python3"
  },
  "language_info": {
   "codemirror_mode": {
    "name": "ipython",
    "version": 3
   },
   "file_extension": ".py",
   "mimetype": "text/x-python",
   "name": "python",
   "nbconvert_exporter": "python",
   "pygments_lexer": "ipython3",
   "version": "3.9.7"
  }
 },
 "nbformat": 4,
 "nbformat_minor": 5
}
