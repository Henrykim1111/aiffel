{
 "cells": [
  {
   "cell_type": "markdown",
   "id": "f2bacc8e",
   "metadata": {},
   "source": [
    "# 8장 컴퓨터 비전을 위한 딥러닝"
   ]
  },
  {
   "cell_type": "markdown",
   "id": "63733ce9",
   "metadata": {},
   "source": [
    "## 8.1 합성곱 신경망 소개"
   ]
  },
  {
   "cell_type": "code",
   "execution_count": 4,
   "id": "5afb1cc8",
   "metadata": {},
   "outputs": [],
   "source": [
    "# 간단한 컨브넷 만들기\n",
    "\n",
    "from tensorflow import keras\n",
    "from tensorflow.keras import layers\n",
    "\n",
    "inputs = keras.Input(shape=(28,28, 1))\n",
    "x = layers.Conv2D(filters=32, kernel_size=3, activation=\"relu\")(inputs)\n",
    "x = layers.MaxPooling2D(pool_size=2)(x)\n",
    "x = layers.Conv2D(filters=64, kernel_size=3, activation=\"relu\")(x)\n",
    "x = layers.MaxPooling2D(pool_size=2)(x)\n",
    "x = layers.Conv2D(filters=128, kernel_size=3, activation=\"relu\")(x)\n",
    "x = layers.MaxPooling2D(pool_size=2)(x)\n",
    "x = layers.Flatten()(x)\n",
    "outputs = layers.Dense(10, activation=\"softmax\")(x)\n",
    "model = keras.Model(inputs=inputs, outputs=outputs)"
   ]
  },
  {
   "cell_type": "code",
   "execution_count": 5,
   "id": "db6ac45c",
   "metadata": {},
   "outputs": [
    {
     "name": "stdout",
     "output_type": "stream",
     "text": [
      "Model: \"model\"\n",
      "_________________________________________________________________\n",
      "Layer (type)                 Output Shape              Param #   \n",
      "=================================================================\n",
      "input_3 (InputLayer)         [(None, 28, 28, 1)]       0         \n",
      "_________________________________________________________________\n",
      "conv2d_1 (Conv2D)            (None, 26, 26, 32)        320       \n",
      "_________________________________________________________________\n",
      "max_pooling2d (MaxPooling2D) (None, 13, 13, 32)        0         \n",
      "_________________________________________________________________\n",
      "conv2d_2 (Conv2D)            (None, 11, 11, 64)        18496     \n",
      "_________________________________________________________________\n",
      "max_pooling2d_1 (MaxPooling2 (None, 5, 5, 64)          0         \n",
      "_________________________________________________________________\n",
      "conv2d_3 (Conv2D)            (None, 3, 3, 128)         73856     \n",
      "_________________________________________________________________\n",
      "max_pooling2d_2 (MaxPooling2 (None, 1, 1, 128)         0         \n",
      "_________________________________________________________________\n",
      "flatten (Flatten)            (None, 128)               0         \n",
      "_________________________________________________________________\n",
      "dense (Dense)                (None, 10)                1290      \n",
      "=================================================================\n",
      "Total params: 93,962\n",
      "Trainable params: 93,962\n",
      "Non-trainable params: 0\n",
      "_________________________________________________________________\n"
     ]
    }
   ],
   "source": [
    "model.summary()"
   ]
  },
  {
   "cell_type": "markdown",
   "id": "c3d87b11",
   "metadata": {},
   "source": [
    "- Conv2D와 MaxPooling2D 층의 출력은 (height, width, channels) zㅡ기의 랭크-3 텐서\n",
    "- 마지막 Conv2D 층의 출력 크기는 (3, 3, 128)"
   ]
  },
  {
   "cell_type": "code",
   "execution_count": 7,
   "id": "398ed65c",
   "metadata": {},
   "outputs": [
    {
     "name": "stdout",
     "output_type": "stream",
     "text": [
      "Epoch 1/5\n",
      "938/938 [==============================] - 67s 69ms/step - loss: 0.2325 - accuracy: 0.9295\n",
      "Epoch 2/5\n",
      "938/938 [==============================] - 63s 68ms/step - loss: 0.0733 - accuracy: 0.9771\n",
      "Epoch 3/5\n",
      "938/938 [==============================] - 64s 68ms/step - loss: 0.0498 - accuracy: 0.9848\n",
      "Epoch 4/5\n",
      "938/938 [==============================] - 63s 68ms/step - loss: 0.0380 - accuracy: 0.9885\n",
      "Epoch 5/5\n",
      "938/938 [==============================] - 64s 69ms/step - loss: 0.0300 - accuracy: 0.9911\n"
     ]
    },
    {
     "data": {
      "text/plain": [
       "<keras.callbacks.History at 0x7d43424231c0>"
      ]
     },
     "execution_count": 7,
     "metadata": {},
     "output_type": "execute_result"
    }
   ],
   "source": [
    "# MNIST 이미지에서 컨브넷 훈련하기\n",
    "\n",
    "from tensorflow.keras.datasets import mnist\n",
    "\n",
    "(train_images, train_labels), (test_images, test_labels) = mnist.load_data()\n",
    "train_images = train_images.reshape((60000, 28, 28, 1))\n",
    "train_images = train_images.astype(\"float32\") / 255\n",
    "test_images = test_images.reshape((10000, 28, 28, 1))\n",
    "test_images = test_images.astype(\"float32\") / 255\n",
    "model.compile(optimizer=\"rmsprop\",\n",
    "             loss=\"sparse_categorical_crossentropy\",\n",
    "             metrics=[\"accuracy\"])\n",
    "model.fit(train_images, train_labels, epochs=5, batch_size=64)"
   ]
  },
  {
   "cell_type": "code",
   "execution_count": 8,
   "id": "76da6928",
   "metadata": {},
   "outputs": [
    {
     "name": "stdout",
     "output_type": "stream",
     "text": [
      "313/313 [==============================] - 3s 10ms/step - loss: 0.0450 - accuracy: 0.9879\n",
      "테스트 정확도:  0.988\n"
     ]
    }
   ],
   "source": [
    "test_loss, test_acc = model.evaluate(test_images, test_labels)\n",
    "print(f\"테스트 정확도: {test_acc: .3f}\")"
   ]
  },
  {
   "cell_type": "markdown",
   "id": "6503217c",
   "metadata": {},
   "source": [
    "### 8.1.1 합성곱 연산\n",
    "\n",
    "- Dense층은 전역 패턴을 학습하지만, 합성곱 층은 지역 패턴을 학습함\n",
    "\n",
    "이 특징은 컨브넷에 두 가지 성질을 제공함\n",
    "1. 학습된 패턴은 평행 이동 불변성(translation invariant)을 가짐.\n",
    "    - 컨브넷이 이미지의 오른쪽 아래 모서리에서 어떤 패턴을 학습했다면, 다른 곳에서도 이 패턴을 인식할 수 있음.\n",
    "2. 컨브넷은 패턴의 공간적 계층 구조를 학습할 수 있음.\n",
    "    - 첫 번째 합성곱 층이 에지 같은 작은 지역 패턴을 학습하고, 두 번째 합성곱 층은 첫 번째 층의 특성으로 구성된 더 큰 패턴을 학습하는 식이다.\n",
    "\n",
    "- 합성곱 연산은 특성 맵(feature map)이라고 부르는 랭크-3 텐서에 적용된다. 텐서는 2개의 공간 축(높이와 너비)와 깊이 축(=채널 축)으로 구성 됨."
   ]
  },
  {
   "cell_type": "code",
   "execution_count": null,
   "id": "241b4d44",
   "metadata": {},
   "outputs": [],
   "source": []
  }
 ],
 "metadata": {
  "kernelspec": {
   "display_name": "Python 3 (ipykernel)",
   "language": "python",
   "name": "python3"
  },
  "language_info": {
   "codemirror_mode": {
    "name": "ipython",
    "version": 3
   },
   "file_extension": ".py",
   "mimetype": "text/x-python",
   "name": "python",
   "nbconvert_exporter": "python",
   "pygments_lexer": "ipython3",
   "version": "3.9.7"
  }
 },
 "nbformat": 4,
 "nbformat_minor": 5
}
