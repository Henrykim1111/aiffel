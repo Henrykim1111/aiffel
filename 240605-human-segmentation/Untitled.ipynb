{
 "cells": [
  {
   "cell_type": "markdown",
   "id": "4f252a56",
   "metadata": {},
   "source": [
    "# 3. 인물사진을 만들어 보자\n",
    "## 3-1. 들어가며\n",
    "\n",
    "피사체를 가깝게 찍을 때 배경이 흐려지는 효과를 경험해 보신 적이 있으신가요? 보통은 DSLR이나 미러리스 같은 전문적인 카메라와 렌즈에서 만들어 내기 쉬운 효과입니다. 하지만 피사체를 충분히 가까운 거리에 두고 촬영한다면 핸드폰 카메라에서도 비슷한 효과를 낼 수 있습니다.\n",
    "\n",
    "특히 2개 이상의 렌즈를 탑재한 최신 핸드폰에서는 '인물사진 모드(portrait mode)' 가 지원됩니다.\n",
    "\n",
    "- iPhone에서 인물 사진 모드 사용하기(https://support.apple.com/ko-kr/guide/iphone/iphd7d3a91a2/ios)\n",
    "\n",
    "핸드폰 카메라의 인물사진 모드는 듀얼 카메라를 이용해 DSLR의 아웃포커싱 기능을 흉내 냅니다. 물론 인물사진의 아웃포커싱 구현은 DSLR의 아웃포커싱 구현과는 다릅니다.\n",
    "\n",
    "- DSLR에서는 사진을 촬영할 때 피사계 심도(depth of field, DOF)(https://ko.wikipedia.org/wiki/피사계_심도)를 얕게 하여 초점이 맞은 피사체를 제외한 배경을 흐리게 만듭니다.\n",
    "- 핸드폰 인물사진 모드는 화각이 다른 두 렌즈를 사용합니다. 일반(광각) 렌즈에서는 배경을 촬영하고 망원 렌즈에서는 인물을 촬영한 뒷배경을 흐리게 처리한 후 망원 렌즈의 인물과 적절하게 합성합니다.\n",
    "\n",
    "오늘 만들어볼 목표는 핸드폰 인물사진 모드입니다. 사실 핸드폰 인물 사진 모드를 정확히 따라 하기 위해서 2개의 렌즈가 필요하지만 딥러닝을 적용해서 하나의 렌즈만으로 비슷하게 흉내 내 보겠습니다.\n",
    "\n",
    "**인물사진 모드에서 사용되는 용어**\n",
    "\n",
    "한국에서는 배경을 흐리게 하는 기술을 주로 '아웃포커싱'이라고 표현합니다. 하지만 아웃포커싱은 한국에서만 사용하는 용어이고 정확한 영어 표현은 얕은 피사계 심도(shallow depth of field) 또는 셸로우 포커스(shallow focus) 라고 합니다.\n",
    "\n",
    "또한 \"보케(bokeh)\"라는 일본어에서 유래된 표현 또한 많이 사용합니다. 영문권에서도 많이 사용하는 용어지만 사실 전문적으로 사진을 다루시는 분이 아니라면 그 의미가 직관적으로 다가오기 어렵습니다. 핸드폰 제조사에서도 이것을 알고 '인물사진(portrait)'이라는 직관적인 용어를 잘 만들어 낸 것 같습니다.\n",
    "\n",
    "### 학습 목표\n",
    "---\n",
    "- 딥러닝을 적용하여 핸드폰 인물 사진 모드를 따라 해봅니다.\n",
    "\n",
    "### 학습 내용\n",
    "---\n",
    "- 셸로우 포커스 만들기 (1) 사진을 준비하자\n",
    "- 셸로우 포커스 만들기 (2) 세그멘테이션으로 사람 분리하기\n",
    "- 셸로우 포커스 만들기 (3) 시맨틱 세그멘테이션 다뤄보기\n",
    "- 셸로우 포커스 만들기 (4) 배경 흐리게 하기\n",
    "- 셸로우 포커스 만들기 (5) 흐린 배경과 원본 영상 합성\n",
    "\n",
    "### 준비물\n",
    "---\n",
    "오늘 실습을 위한 폴더를 만들고, 데이터 폴더를 연결해주세요.\n",
    "\n",
    "> mkdir -p ~/aiffel/human_segmentation/models\n",
    "mkdir -p ~/aiffel/human_segmentation/images\n",
    "ln -s ~/data/* ~/aiffel/human_segmentation/images"
   ]
  },
  {
   "cell_type": "code",
   "execution_count": null,
   "id": "47e3c605",
   "metadata": {},
   "outputs": [],
   "source": []
  }
 ],
 "metadata": {
  "kernelspec": {
   "display_name": "Python 3 (ipykernel)",
   "language": "python",
   "name": "python3"
  },
  "language_info": {
   "codemirror_mode": {
    "name": "ipython",
    "version": 3
   },
   "file_extension": ".py",
   "mimetype": "text/x-python",
   "name": "python",
   "nbconvert_exporter": "python",
   "pygments_lexer": "ipython3",
   "version": "3.9.7"
  }
 },
 "nbformat": 4,
 "nbformat_minor": 5
}
