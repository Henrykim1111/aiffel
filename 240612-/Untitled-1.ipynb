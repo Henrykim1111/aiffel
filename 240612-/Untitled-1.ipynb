{
 "cells": [
  {
   "cell_type": "markdown",
   "metadata": {},
   "source": [
    "# 5. 영화리뷰 텍스트 감성분석하기\n",
    "\n",
    "## 5-1. 들어가며\n",
    "\n",
    "매일 새로운 주제를 공부해 나가시는 건 어떠신가요? 어떤 분에게는 벅찰 수도 있고, 어떤 분에게는 즐거움의 연속일 수 있습니다. 그렇지만 이렇게 짧은 시간 동안 다양한 도메인에 대해 학습을 하는 경험은 쉽지 않으니 조금만 더 힘을 내서 따라와 주시면 좋겠습니다.\n",
    "\n",
    "오늘은 자연어 처리에 주로 활용되는 RNN(Recurrent Neural Network)에 대해 배워볼 예정입니다. 그리고 컴퓨터 비전에서만 사용되는 줄 알았던 CNN(Convolutional Neural Network)이 자연어 처리에서 사용될 수도 있다는 것을 알게 되실 것입니다.\n",
    "또한, 이 모델들의 구조를 학습하고 이를 활용하여 우리가 네이버나 다음 영화에서 확인할 수 있는 영화리뷰에 대한 감성분석(sentiment analysis) 를 진행해 보도록 하겠습니다.\n",
    "\n",
    "그럼 지금부터 시작해 보겠습니다.\n",
    "\n",
    "### 학습 목표\n",
    "---\n",
    "- 텍스트 데이터를 머신러닝 입출력용 수치데이터로 변환하는 과정을 이해합니다.\n",
    "- RNN의 특징을 이해하고 시퀀셜한 데이터를 다루는 방법을 이해합니다.\n",
    "- 1-D CNN으로도 텍스트를 처리할 수 있음을 이해합니다.\n",
    "- IMDB와 네이버 영화리뷰 데이터셋을 이용한 영화리뷰 감성 분류 실습을 진행합니다.\n",
    "\n",
    "### 학습 내용\n",
    "---\n",
    "1. 텍스트 감정분석의 유용성\n",
    "    - 텍스트 데이터를 통해 얻을 수 있는 정보와 활용에 대해 살펴봅니다.\n",
    "2. 텍스트 데이터의 특징\n",
    "3. 텍스트 데이터의 특징 (1) 텍스트를 숫자로 표현하는 방법\n",
    "4. 텍스트 데이터의 특징 (2) Embedding 레이어의 등장\n",
    "5. 시퀀스 데이터를 다루는 RNN\n",
    "    - 시퀀스 데이터와 RNN의 구조에 대해 알아봅니다.\n",
    "6. 꼭 RNN이어야 할까?\n",
    "    - 실습과 함께 RNN의 효율성에 대해 살펴봅니다.\n",
    "7. IMDB 영화리뷰 감성분석 (1) IMDB 데이터셋 분석\n",
    "8. IMDB 영화리뷰 감성분석 (2) 딥러닝 모델 설계와 훈련\n",
    "9. IMDB 영화리뷰 감성분석 (3) Word2Vec의 적용"
   ]
  },
  {
   "cell_type": "code",
   "execution_count": null,
   "metadata": {},
   "outputs": [],
   "source": []
  }
 ],
 "metadata": {
  "kernelspec": {
   "display_name": "Python 3",
   "language": "python",
   "name": "python3"
  },
  "language_info": {
   "codemirror_mode": {
    "name": "ipython",
    "version": 3
   },
   "file_extension": ".py",
   "mimetype": "text/x-python",
   "name": "python",
   "nbconvert_exporter": "python",
   "pygments_lexer": "ipython3",
   "version": "3.9.6"
  }
 },
 "nbformat": 4,
 "nbformat_minor": 2
}
